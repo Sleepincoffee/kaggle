{
 "cells": [
  {
   "cell_type": "code",
   "execution_count": 1,
   "metadata": {},
   "outputs": [],
   "source": [
    "import pandas as pd\n",
    "import numpy as np\n",
    "from sklearn.cluster import MiniBatchKMeans\n",
    "from collections import Counter"
   ]
  },
  {
   "cell_type": "code",
   "execution_count": 2,
   "metadata": {},
   "outputs": [
    {
     "name": "stderr",
     "output_type": "stream",
     "text": [
      "/home/nocater/anaconda3/envs/ml/lib/python3.6/site-packages/IPython/core/interactiveshell.py:2785: DtypeWarning: Columns (7) have mixed types. Specify dtype option on import or set low_memory=False.\n",
      "  interactivity=interactivity, compiler=compiler, result=result)\n"
     ]
    },
    {
     "name": "stdout",
     "output_type": "stream",
     "text": [
      "28556\n",
      "12367\n"
     ]
    }
   ],
   "source": [
    "# VQ2版本添加 extended 经纬度\n",
    "df = pd.read_csv('/mnt/d/Documents/数学建模国赛/C题目/data/GTD_vQ2.csv')\n",
    "df = df.set_index('eventid')\n",
    "df = df.fillna(0)\n",
    "\n",
    "# Unknown 组织 编号 377\n",
    "index_start = np.argwhere(df.index.values == 201501010001)[0][0]\n",
    "index_end = np.argwhere(df.index.values == 201701010001)[0][0]\n",
    "print(index_end - index_start)\n",
    "\n",
    "df = df[index_start:]\n",
    "df = df[df.gname == 377]\n",
    "\n",
    "index_target = np.argwhere(df.index.values == 201701010005)[0][0]\n",
    "print(index_target)"
   ]
  },
  {
   "cell_type": "code",
   "execution_count": 3,
   "metadata": {},
   "outputs": [
    {
     "data": {
      "text/plain": [
       "Index(['extended', 'crit1', 'crit2', 'crit3', 'doubtterr', 'alternative',\n",
       "       'latitude', 'longitude', 'specificity', 'success', 'suicide', 'nperps',\n",
       "       'nkill', 'nwound', 'propextent', 'nhostkid', 'ransom', 'attacktype_1',\n",
       "       'attacktype_2', 'attacktype_3', 'attacktype_4', 'attacktype_5',\n",
       "       'attacktype_6', 'attacktype_7', 'attacktype_8', 'attacktype_9',\n",
       "       'targtype_1', 'targtype_2', 'targtype_3', 'targtype_4', 'targtype_5',\n",
       "       'targtype_6', 'targtype_7', 'targtype_8', 'targtype_9', 'targtype_10',\n",
       "       'targtype_11', 'targtype_12', 'targtype_13', 'targtype_14',\n",
       "       'targtype_15', 'targtype_16', 'targtype_17', 'targtype_18',\n",
       "       'targtype_19', 'targtype_20', 'targtype_21', 'targtype_22',\n",
       "       'weaptype_2', 'weaptype_5', 'weaptype_6', 'weaptype_8', 'weaptype_9',\n",
       "       'weaptype_10', 'weaptype_11', 'weaptype_12', 'weaptype_13'],\n",
       "      dtype='object')"
      ]
     },
     "execution_count": 3,
     "metadata": {},
     "output_type": "execute_result"
    }
   ],
   "source": [
    "q2_fields = ['extended','crit1','crit2','crit3','doubtterr','alternative','latitude','longitude','specificity','success','suicide','nperps','nkill','nwound','propextent','nhostkid','ransom',]\n",
    "# 把country 分别表示 attacktype1 targtype1\n",
    "\n",
    "dummies_attacktype = pd.get_dummies(df.attacktype1, prefix='attacktype')\n",
    "dummies_targtype = pd.get_dummies(df.targtype1, prefix='targtype')\n",
    "dummies_weaptype = pd.get_dummies(df.weaptype1, prefix='weaptype')\n",
    "\n",
    "df = df[q2_fields]\n",
    "df = pd.concat([df, dummies_attacktype, dummies_targtype, dummies_weaptype], axis=1)\n",
    "df.columns"
   ]
  },
  {
   "cell_type": "code",
   "execution_count": 4,
   "metadata": {},
   "outputs": [
    {
     "name": "stdout",
     "output_type": "stream",
     "text": [
      "-2054876.637582793\n"
     ]
    },
    {
     "data": {
      "text/plain": [
       "Counter({1: 4229,\n",
       "         10: 430,\n",
       "         14: 811,\n",
       "         2: 556,\n",
       "         5: 1086,\n",
       "         12: 1172,\n",
       "         11: 869,\n",
       "         0: 797,\n",
       "         6: 398,\n",
       "         3: 651,\n",
       "         9: 123,\n",
       "         13: 371,\n",
       "         4: 230,\n",
       "         8: 338,\n",
       "         7: 306})"
      ]
     },
     "execution_count": 4,
     "metadata": {},
     "output_type": "execute_result"
    }
   ],
   "source": [
    "# 聚类\n",
    "CLUSTERS=15\n",
    "df_train = df[:index_target]\n",
    "mbkmeans = MiniBatchKMeans(n_clusters=CLUSTERS, random_state=0).fit(df[:index_target].values)\n",
    "r = mbkmeans.predict(df[:index_target].values)\n",
    "print(mbkmeans.score(df[:index_target].values))\n",
    "Counter(r)"
   ]
  },
  {
   "cell_type": "code",
   "execution_count": 27,
   "metadata": {},
   "outputs": [
    {
     "name": "stderr",
     "output_type": "stream",
     "text": [
      "/home/nocater/anaconda3/envs/ml/lib/python3.6/site-packages/ipykernel/__main__.py:2: SettingWithCopyWarning: \n",
      "A value is trying to be set on a copy of a slice from a DataFrame.\n",
      "Try using .loc[row_indexer,col_indexer] = value instead\n",
      "\n",
      "See the caveats in the documentation: http://pandas.pydata.org/pandas-docs/stable/indexing.html#indexing-view-versus-copy\n",
      "  from ipykernel import kernelapp as app\n",
      "/home/nocater/anaconda3/envs/ml/lib/python3.6/site-packages/ipykernel/__main__.py:3: SettingWithCopyWarning: \n",
      "A value is trying to be set on a copy of a slice from a DataFrame.\n",
      "Try using .loc[row_indexer,col_indexer] = value instead\n",
      "\n",
      "See the caveats in the documentation: http://pandas.pydata.org/pandas-docs/stable/indexing.html#indexing-view-versus-copy\n",
      "  app.launch_new_instance()\n"
     ]
    },
    {
     "data": {
      "text/plain": [
       "array([ 4,  1, 13, 10,  2])"
      ]
     },
     "execution_count": 27,
     "metadata": {},
     "output_type": "execute_result"
    }
   ],
   "source": [
    "# 聚类编号与等级编号的对应关系\n",
    "df_train['level'] = r\n",
    "df_train['score'] = df_train.nkill + df_train.nwound*0.3 + df_train.nhostkid*0.1\n",
    "df_ana = df_train.groupby('level')[['nkill','score']].mean()\n",
    "df_ana = df_ana.sort_values('score', ascending=False)\n",
    "top_label = df_ana.head(5).index\n",
    "top_label.values\n",
    "# dict_notolevel = {0:1,1:2,3:3,4:4,2:5}\n",
    "# df.level = list(map(lambda x: dict_notolevel.get(x), df.level))\n",
    "# df.groupby('level')[q2_fields].mean()\n",
    "# 1 0\n",
    "# 2 1\n",
    "# 3 3\n",
    "# 4 4\n",
    "# 5 2 "
   ]
  },
  {
   "cell_type": "code",
   "execution_count": 6,
   "metadata": {},
   "outputs": [
    {
     "data": {
      "text/plain": [
       "array([[ 47.27918545,  28.31545256, 101.94360126, ...,  43.05973224,\n",
       "         71.80392292,  21.67580179],\n",
       "       [106.62158292, 101.36355484,  45.02569517, ..., 100.36884109,\n",
       "        108.34830928, 118.41581939],\n",
       "       [ 45.45903445,  27.61119789, 101.92979494, ...,  42.18378797,\n",
       "         70.32234867,  21.47098603],\n",
       "       ...,\n",
       "       [ 43.28531707,  21.64804242, 102.33536431, ...,  36.67294862,\n",
       "         66.31526529,  28.1108099 ],\n",
       "       [ 62.32901274,  51.59920333, 104.27757931, ...,  66.05955218,\n",
       "         90.44013964,   5.22893706],\n",
       "       [ 89.32605197,  85.34005066, 116.67174955, ...,  99.2365813 ,\n",
       "        118.87949062,  38.27613108]])"
      ]
     },
     "execution_count": 6,
     "metadata": {},
     "output_type": "execute_result"
    }
   ],
   "source": [
    "df_target = df[index_target:]\n",
    "predicts = mbkmeans.transform(df_target.values)\n",
    "predicts"
   ]
  },
  {
   "cell_type": "code",
   "execution_count": 12,
   "metadata": {},
   "outputs": [],
   "source": [
    "def softmax(x):\n",
    "    \"\"\"Compute softmax values for each sets of scores in x.\"\"\"\n",
    "    e_x = np.exp(x - np.max(x))\n",
    "    return e_x / e_x.sum()\n",
    "\n",
    "def func_sort(x):\n",
    "    index = np.argsort(x)\n",
    "    l = [0 for i in range(CLUSTERS)]\n",
    "    for e,i in enumerate(index):\n",
    "        l[i] = int(e+1)\n",
    "    return l"
   ]
  },
  {
   "cell_type": "code",
   "execution_count": 38,
   "metadata": {},
   "outputs": [
    {
     "name": "stdout",
     "output_type": "stream",
     "text": [
      "Int64Index([201701090031, 201702210037, 201703120023, 201705050009,\n",
      "            201705050010, 201707010028, 201707020006, 201708110018,\n",
      "            201711010006, 201712010003],\n",
      "           dtype='int64', name='eventid')\n",
      "\n",
      "                      0           1           2           3           4   \\\n",
      "201701090031   34.464222   14.346861  106.837458   76.533385  113.466653   \n",
      "201702210037   45.682957   28.275431  103.803318   57.582757  119.373535   \n",
      "201703120023   59.129923   63.309003  126.711246  101.366743  121.140162   \n",
      "201705050009   15.818505   34.173064  113.542374   82.640128  107.023357   \n",
      "201705050010   15.430833   34.068031  113.487934   82.558791  106.969487   \n",
      "201707010028   21.249546   39.146800  118.151307   94.802805  106.696598   \n",
      "201707020006  106.487280  102.535010   42.853231  131.075068   41.716284   \n",
      "201708110018   45.244072   24.754509  103.026151   58.366006  119.260509   \n",
      "201711010006   54.213871   37.410352  106.152876   60.579274  123.237820   \n",
      "201712010003   39.425501   25.211412  109.298158   80.681237  114.885055   \n",
      "\n",
      "                      5           6           7           8           9   \\\n",
      "201701090031   30.305028   31.819946   47.926946  128.334137  130.890533   \n",
      "201702210037   19.682489   19.953347   70.279254  117.435794  153.124961   \n",
      "201703120023   75.077401   76.590763   80.283379  145.437592  131.483326   \n",
      "201705050009   49.956260   51.955502   58.460722  133.255669  119.910848   \n",
      "201705050010   49.833879   51.828362   58.336135  133.207449  119.863435   \n",
      "201707010028   59.206243   61.277715   51.225526  141.391152  107.244360   \n",
      "201707020006  108.083135  108.698531  110.197884   86.458942  151.351433   \n",
      "201708110018   14.071574   14.351988   66.559313  117.758091  151.774142   \n",
      "201711010006   29.595629   29.826055   76.197249  118.738044  158.077231   \n",
      "201712010003   38.080340   39.152933   51.200523  130.893445  130.817451   \n",
      "\n",
      "                      10          11          12          13          14  \n",
      "201701090031  103.109477   26.703712   21.291198   49.588315   49.647807  \n",
      "201702210037  108.326278   19.844272   42.358273   68.373972   32.342425  \n",
      "201703120023  120.516660   72.174287   64.456723   63.823922   84.874570  \n",
      "201705050009  107.073358   44.586480   32.102751   30.416537   62.460036  \n",
      "201705050010  107.015660   44.433667   31.896932   30.226904   62.352942  \n",
      "201707010028  107.437753   53.638166   31.256238   19.492551   73.588949  \n",
      "201707020006   22.505601  106.841668  103.028152  110.315224  116.195913  \n",
      "201708110018  107.057589   14.390798   38.861742   67.580907   30.986444  \n",
      "201711010006  111.604949   30.792437   50.671585   75.517320   38.381198  \n",
      "201712010003  104.974836   35.000940   29.070614   52.133443   55.360121  \n",
      "[4, 1, 13, 10, 2]\n",
      "[4, 1, 13, 10, 2]\n",
      "[4, 1, 13, 10, 2]\n",
      "[4, 1, 13, 10, 2]\n",
      "[4, 1, 13, 10, 2]\n",
      "[4, 1, 13, 10, 2]\n",
      "[4, 1, 13, 10, 2]\n",
      "[4, 1, 13, 10, 2]\n",
      "[4, 1, 13, 10, 2]\n",
      "[4, 1, 13, 10, 2]\n"
     ]
    },
    {
     "data": {
      "text/plain": [
       "[array([13,  1,  8, 11, 12]),\n",
       " array([14,  4,  9, 12, 11]),\n",
       " array([12,  2,  3, 11, 13]),\n",
       " array([11,  4,  2, 12, 13]),\n",
       " array([11,  4,  2, 12, 13]),\n",
       " array([11,  4,  1, 13, 14]),\n",
       " array([ 2,  5, 12,  1,  3]),\n",
       " array([14,  4, 10, 12, 11]),\n",
       " array([14,  4,  9, 12, 11]),\n",
       " array([13,  1,  8, 11, 12])]"
      ]
     },
     "execution_count": 38,
     "metadata": {},
     "output_type": "execute_result"
    }
   ],
   "source": [
    "index_target = [201701090031, 201702210037, 201703120023, 201705050009, 201705050010, 201707010028, 201707020006, 201708110018, 201711010006, 201712010003]\n",
    "df_target = df.loc[index_target]\n",
    "print(df_target.index)\n",
    "print()\n",
    "\n",
    "distances = mbkmeans.transform(df_target.values)\n",
    "df_result = pd.DataFrame(distances, columns=list(range(CLUSTERS)), index=index_target)\n",
    "print(df_result)\n",
    "df_result = df_result.apply(func_sort, axis=1)\n",
    "# df_result = pd.DataFrame(df_result, columns=list(range(CLUSTERS)))\n",
    "\n",
    "list_target = []\n",
    "for row in df_result.values:\n",
    "    row = np.array(row)\n",
    "    print(list(top_label.values))\n",
    "    list_target.append(row[list(top_label.values)])\n",
    "    \n",
    "list_target"
   ]
  },
  {
   "cell_type": "code",
   "execution_count": 26,
   "metadata": {},
   "outputs": [
    {
     "data": {
      "text/plain": [
       "array([37.751814, 40.5693  ])"
      ]
     },
     "execution_count": 26,
     "metadata": {},
     "output_type": "execute_result"
    }
   ],
   "source": [
    "a = np.array([106.760092  , 37.751814  , 40.569300   ,15.118342 , 113.291522])\n",
    "a[[1,2]]\n"
   ]
  }
 ],
 "metadata": {
  "kernelspec": {
   "display_name": "Python [conda env:ml]",
   "language": "python",
   "name": "conda-env-ml-py"
  },
  "language_info": {
   "codemirror_mode": {
    "name": "ipython",
    "version": 3
   },
   "file_extension": ".py",
   "mimetype": "text/x-python",
   "name": "python",
   "nbconvert_exporter": "python",
   "pygments_lexer": "ipython3",
   "version": "3.6.5"
  }
 },
 "nbformat": 4,
 "nbformat_minor": 2
}

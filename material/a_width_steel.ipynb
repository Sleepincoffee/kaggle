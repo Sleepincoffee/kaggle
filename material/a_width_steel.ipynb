{
 "cells": [
  {
   "cell_type": "markdown",
   "metadata": {},
   "source": [
    "# preprocessing"
   ]
  },
  {
   "cell_type": "code",
   "execution_count": 2,
   "metadata": {
    "collapsed": true
   },
   "outputs": [],
   "source": [
    "import pandas as pd\n",
    "import numpy as np\n",
    "from sklearn.preprocessing import StandardScaler\n",
    "from sklearn.linear_model import LinearRegression\n",
    "from sklearn.model_selection import train_test_split"
   ]
  },
  {
   "cell_type": "code",
   "execution_count": 3,
   "metadata": {
    "collapsed": false
   },
   "outputs": [
    {
     "name": "stdout",
     "output_type": "stream",
     "text": [
      "0.807817878729\n",
      "[ 0.56507209 -0.44084841 -0.06443341] \n",
      " 3.53172043432e-16\n"
     ]
    }
   ],
   "source": [
    "'''load data'''\n",
    "def loaddata(path):\n",
    "    df= pd.read_excel(path,header=0)\n",
    "    df= df.rename(columns={'C（wt.%)':'C','T(℃)':'T','σγ(MPa)':'sigma','ΔGγ→α(J)':'dG','Wαβ(μm)':'W'})\n",
    "    df= df.reset_index(drop= True) # drop index \n",
    "    \n",
    "    return df\n",
    "\n",
    "'''调整数据'''\n",
    "def null_filled(df):\n",
    "    df= df.loc[:,'T':'W']\n",
    "    df.W= df.W*1000\n",
    "    df= df.apply(pd.to_numeric,errors='coerce')# pd.to_numeric transform to numeric\n",
    "    return df\n",
    "\n",
    "'''preprocessing'''\n",
    "def scale(df):\n",
    "    array= df.as_matrix() # as_matrix \n",
    "\n",
    "    scaler= StandardScaler()\n",
    "    scaler.fit(array)\n",
    "    array= scaler.transform(array)\n",
    "    return array\n",
    "    \n",
    "\n",
    "df1= loaddata(r'E:\\文档\\贝氏体板条宽度W公式拟合.xlsx')\n",
    "df2= null_filled(df1)\n",
    "\n",
    "data= scale(df2)\n",
    "\n",
    "from sklearn.linear_model import LinearRegression\n",
    "LiRe= LinearRegression()\n",
    "LiRe.fit(data[:,0:3],data[:,3])\n",
    "print(LiRe.score(data[:,0:3],data[:,3]))\n",
    "print(LiRe.coef_,'\\n',LiRe.intercept_)\n"
   ]
  },
  {
   "cell_type": "markdown",
   "metadata": {},
   "source": [
    "# NN"
   ]
  },
  {
   "cell_type": "code",
   "execution_count": 4,
   "metadata": {
    "collapsed": true
   },
   "outputs": [],
   "source": [
    "import torch\n",
    "import torch.nn as nn \n",
    "import torch.nn.functional as F \n",
    "from torch.autograd import Variable"
   ]
  },
  {
   "cell_type": "code",
   "execution_count": 5,
   "metadata": {
    "collapsed": false
   },
   "outputs": [
    {
     "name": "stdout",
     "output_type": "stream",
     "text": [
      "0.9404581189155579\n",
      "0.13027901947498322\n",
      "0.23567970097064972\n",
      "0.03926798328757286\n",
      "0.031896211206912994\n",
      "0.03538757190108299\n",
      "0.03554120287299156\n",
      "0.026335865259170532\n",
      "Variable containing:\n",
      " 0.3555\n",
      "[torch.FloatTensor of size 1]\n",
      "\n"
     ]
    }
   ],
   "source": [
    "\n",
    "'''data '''\n",
    "x_train,x_test,y_train,y_test= train_test_split(data[:,0:3],data[:,3],test_size=0.3)\n",
    "x= torch.from_numpy(x_train).type(torch.FloatTensor)\n",
    "y= torch.unsqueeze(torch.from_numpy(y_train).type(torch.FloatTensor),dim=1)\n",
    "\n",
    "x_test= torch.from_numpy(x_test).type(torch.FloatTensor)\n",
    "y_test= torch.unsqueeze(torch.from_numpy(y_test).type(torch.FloatTensor),dim=1)\n",
    "'''variablize'''\n",
    "x= Variable(x)\n",
    "y= Variable(y)\n",
    "\n",
    "'''net'''\n",
    "class Net(torch.nn.Module):\n",
    "    def __init__(self,n_h1,n_h2):\n",
    "        super().__init__()\n",
    "        self.linear1= nn.Sequential(\n",
    "                    nn.Linear(3,n_h1),\n",
    "                    nn.Tanh())\n",
    "        self.linear2= nn.Sequential(\n",
    "                    nn.Linear(n_h1,n_h2),\n",
    "                    nn.Tanh())\n",
    "        self.predict= nn.Linear(n_h2,1)\n",
    "\n",
    "    def forward (self,x):\n",
    "        x= self.linear1(x)\n",
    "        x= self.linear2(x)\n",
    "        x= self.predict(x)\n",
    "        return x\n",
    "\n",
    "net1= Net(16,64)\n",
    "# print(net1)\n",
    "\n",
    "'''optimizer'''\n",
    "optimizer= torch.optim.Adam(net1.parameters(),lr=0.1)\n",
    "'''loss funciton'''\n",
    "loss_func= torch.nn.MSELoss()\n",
    "\n",
    "'''iteration'''\n",
    "for k in range(400):\n",
    "    prediction= net1(x)\n",
    "    loss= loss_func(prediction,y)\n",
    "\n",
    "    optimizer.zero_grad()\n",
    "    loss.backward()\n",
    "    optimizer.step()\n",
    "\n",
    "    if k%50 ==0:\n",
    "        print(loss.data[0])\n",
    "\n",
    "'''test'''\n",
    "y2= net1(Variable(x_test))\n",
    "\n",
    "MSE= F.mse_loss(y2.data,y_test)\n",
    "print(MSE)\n",
    "\n",
    "'''get parameters'''\n",
    "#     for name,param in net1.named_parameters():\n",
    "#         if param.requires_grad:\n",
    "#             print(name,param.data)\n",
    "\n",
    "#     for param in net1.parameters():\n",
    "#         print(param)\n",
    "'''save model'''    \n",
    "torch.save(net1.state_dict(),r'E:\\文档\\net1.pkl')\n",
    "\n",
    "\n"
   ]
  },
  {
   "cell_type": "markdown",
   "metadata": {},
   "source": [
    "# load model"
   ]
  },
  {
   "cell_type": "code",
   "execution_count": 6,
   "metadata": {
    "collapsed": false
   },
   "outputs": [
    {
     "name": "stdout",
     "output_type": "stream",
     "text": [
      "Variable containing:\n",
      " 0.3555\n",
      "[torch.FloatTensor of size 1]\n",
      "\n"
     ]
    }
   ],
   "source": [
    "net2= Net(16,64)\n",
    "net2.load_state_dict(torch.load(r'E:\\文档\\net1.pkl'))\n",
    "y2= net2(Variable(x_test))\n",
    "print(F.mse_loss(y2.data,y_test))"
   ]
  }
 ],
 "metadata": {
  "kernelspec": {
   "display_name": "Python [Root]",
   "language": "python",
   "name": "Python [Root]"
  },
  "language_info": {
   "codemirror_mode": {
    "name": "ipython",
    "version": 3
   },
   "file_extension": ".py",
   "mimetype": "text/x-python",
   "name": "python",
   "nbconvert_exporter": "python",
   "pygments_lexer": "ipython3",
   "version": "3.5.1"
  }
 },
 "nbformat": 4,
 "nbformat_minor": 0
}

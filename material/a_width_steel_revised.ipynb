{
 "cells": [
  {
   "cell_type": "markdown",
   "metadata": {},
   "source": [
    "# preprocessing"
   ]
  },
  {
   "cell_type": "code",
   "execution_count": 27,
   "metadata": {
    "collapsed": true
   },
   "outputs": [],
   "source": [
    "import pandas as pd\n",
    "import numpy as np\n",
    "from sklearn.preprocessing import StandardScaler\n",
    "from sklearn.linear_model import LinearRegression\n",
    "from sklearn.model_selection import train_test_split\n",
    "from sklearn.metrics import mean_absolute_error, mean_squared_error"
   ]
  },
  {
   "cell_type": "code",
   "execution_count": 20,
   "metadata": {
    "collapsed": false
   },
   "outputs": [],
   "source": [
    "'''load data'''\n",
    "def loaddata(path):\n",
    "    df= pd.read_excel(path,header=0)\n",
    "    df= df.rename(columns={'C（wt.%)':'C','T(℃)':'T','σγ(MPa)':'sigma','ΔGγ→α(J)':'dG','Wαβ(μm)':'W'})\n",
    "    df= df.reset_index(drop= True) # drop index \n",
    "    \n",
    "    return df\n",
    "\n",
    "'''调整数据'''\n",
    "def null_filled(df):\n",
    "    df= df.loc[:,'T':'W']\n",
    "    df.W= df.W*1000\n",
    "    df= df.apply(pd.to_numeric,errors='coerce')# pd.to_numeric transform to numeric\n",
    "    df= df.fillna(value=0)\n",
    "    return df\n",
    "\n",
    "'''preprocessing'''\n",
    "def scale(df):\n",
    "    array= df.as_matrix() # as_matrix \n",
    "    x_train,x_test,y_train,y_test= train_test_split(array[:,0:3],array[:,3],test_size=0.3,random_state=2)\n",
    "    \n",
    "    scaler= StandardScaler()\n",
    "    scaler.fit(x_train)\n",
    "    x_train= scaler.transform(x_train)\n",
    "    x_test= scaler.transform(x_test)\n",
    "    return x_train,x_test,y_train,y_test\n",
    "\n",
    "df1= loaddata(r'E:\\文档\\贝氏体板条宽度W公式拟合.xlsx')\n",
    "df2= null_filled(df1)\n",
    "\n",
    "data= scale(df2)"
   ]
  },
  {
   "cell_type": "code",
   "execution_count": 37,
   "metadata": {
    "collapsed": false
   },
   "outputs": [
    {
     "name": "stdout",
     "output_type": "stream",
     "text": [
      "0.862258816317\n",
      "[ 26.62819329 -13.74803428  -3.13304876] \n",
      " 73.4864864865\n",
      "11.8384629499\n",
      "193.202994124\n"
     ]
    }
   ],
   "source": [
    "\n",
    "'''linear regression'''\n",
    "\n",
    "linear= LinearRegression()\n",
    "linear.fit(data[0],data[2])\n",
    "print(linear.score(data[1],data[3]))\n",
    "print(linear.coef_,'\\n',linear.intercept_)\n",
    "print(mean_absolute_error(linear.predict(data[1]),data[3]))\n",
    "print(mean_squared_error(linear.predict(data[1]),data[3]))"
   ]
  },
  {
   "cell_type": "markdown",
   "metadata": {},
   "source": [
    "# NN"
   ]
  },
  {
   "cell_type": "code",
   "execution_count": 4,
   "metadata": {
    "collapsed": true
   },
   "outputs": [],
   "source": [
    "import torch\n",
    "import torch.nn as nn \n",
    "import torch.nn.functional as F \n",
    "from torch.autograd import Variable"
   ]
  },
  {
   "cell_type": "code",
   "execution_count": 45,
   "metadata": {
    "collapsed": false
   },
   "outputs": [
    {
     "name": "stdout",
     "output_type": "stream",
     "text": [
      "6.71103 \n",
      " 78.2027\n"
     ]
    }
   ],
   "source": [
    "\n",
    "'''data '''\n",
    "\n",
    "x_train= torch.from_numpy(data[0]).type(torch.FloatTensor)\n",
    "y_train= torch.unsqueeze(torch.from_numpy(data[2]).type(torch.FloatTensor),dim=1)\n",
    "\n",
    "x_test= torch.from_numpy(data[1]).type(torch.FloatTensor)\n",
    "y_test= torch.unsqueeze(torch.from_numpy(data[3]).type(torch.FloatTensor),dim=1)\n",
    "'''variablize'''\n",
    "x_train= Variable(x_train)\n",
    "y_train= Variable(y_train)\n",
    "\n",
    "'''net'''\n",
    "class Net(torch.nn.Module):\n",
    "    def __init__(self,n_h1,n_h2):\n",
    "        super().__init__()\n",
    "        self.linear1= nn.Sequential(\n",
    "                    nn.Linear(3,n_h1),\n",
    "                    nn.Tanh())\n",
    "        self.linear2= nn.Sequential(\n",
    "                    nn.Linear(n_h1,n_h2),\n",
    "                    nn.Tanh())\n",
    "        self.predict= nn.Linear(n_h2,1)\n",
    "\n",
    "    def forward (self,x):\n",
    "        x= self.linear1(x)\n",
    "        x= self.linear2(x)\n",
    "        x= self.predict(x)\n",
    "        return x\n",
    "\n",
    "net1= Net(16,64)\n",
    "# print(net1)\n",
    "\n",
    "'''optimizer'''\n",
    "optimizer= torch.optim.Adam(net1.parameters(),lr=0.1)\n",
    "'''loss funciton'''\n",
    "loss_func= torch.nn.MSELoss()\n",
    "\n",
    "'''iteration'''\n",
    "for k in range(500):\n",
    "    prediction= net1(x_train)\n",
    "    loss= loss_func(prediction,y_train)\n",
    "\n",
    "    optimizer.zero_grad()\n",
    "    loss.backward()\n",
    "    optimizer.step()\n",
    "\n",
    "#     if k%50 ==0:\n",
    "#         print(loss.data[0])\n",
    "\n",
    "'''test'''\n",
    "y_predict= net1(Variable(x_test))\n",
    "\n",
    "MAE= mean_absolute_error(y_predict.data.numpy().squeeze(),y_test.numpy().squeeze())\n",
    "MSE= mean_squared_error(y_predict.data.numpy().squeeze(),y_test.numpy().squeeze())\n",
    "print(MAE,'\\n',MSE)\n",
    "\n",
    "'''get parameters'''\n",
    "#     for name,param in net1.named_parameters():\n",
    "#         if param.requires_grad:\n",
    "#             print(name,param.data)\n",
    "\n",
    "#     for param in net1.parameters():\n",
    "#         print(param)\n",
    "'''save model'''    \n",
    "torch.save(net1.state_dict(),r'E:\\文档\\net1.pkl')\n",
    "\n",
    "\n"
   ]
  },
  {
   "cell_type": "markdown",
   "metadata": {},
   "source": [
    "# load model"
   ]
  },
  {
   "cell_type": "code",
   "execution_count": 46,
   "metadata": {
    "collapsed": false
   },
   "outputs": [
    {
     "name": "stdout",
     "output_type": "stream",
     "text": [
      "6.71103 \n",
      " 78.2027\n"
     ]
    }
   ],
   "source": [
    "net2= Net(16,64)\n",
    "net2.load_state_dict(torch.load(r'E:\\文档\\net1.pkl'))\n",
    "y_predict= net2(Variable(x_test))\n",
    "MAE= mean_absolute_error(y_predict.data.numpy().squeeze(),y_test.numpy().squeeze())\n",
    "MSE= mean_squared_error(y_predict.data.numpy().squeeze(),y_test.numpy().squeeze())\n",
    "print(MAE,'\\n',MSE)\n"
   ]
  }
 ],
 "metadata": {
  "kernelspec": {
   "display_name": "Python [Root]",
   "language": "python",
   "name": "Python [Root]"
  },
  "language_info": {
   "codemirror_mode": {
    "name": "ipython",
    "version": 3
   },
   "file_extension": ".py",
   "mimetype": "text/x-python",
   "name": "python",
   "nbconvert_exporter": "python",
   "pygments_lexer": "ipython3",
   "version": "3.5.1"
  }
 },
 "nbformat": 4,
 "nbformat_minor": 0
}

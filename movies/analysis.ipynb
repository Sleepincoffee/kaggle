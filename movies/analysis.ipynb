{
 "cells": [
  {
   "cell_type": "code",
   "execution_count": 1,
   "metadata": {},
   "outputs": [],
   "source": [
    "import pandas as pd\n",
    "import numpy as np"
   ]
  },
  {
   "cell_type": "code",
   "execution_count": 2,
   "metadata": {},
   "outputs": [],
   "source": [
    "base_path = '/mnt/d/Dataset/2017movies/'\n",
    "\n",
    "df_info = pd.read_csv(base_path+'2017年电影信息.csv',encoding = \"gbk\")"
   ]
  },
  {
   "cell_type": "markdown",
   "metadata": {},
   "source": [
    "# 说明\n",
    "因变量 电影票房 boxoffice_tot  \n",
    "[x]类型 \n",
    "[x]时长 \n",
    "[x]上映档期  贺岁档、暑期档、 黄金 1 档、黄金 2 档、普通档 \n",
    "宣发方 \n",
    "是否改编 \n",
    "是否真实 \n",
    "是否翻拍 \n",
    "是否续集 \n",
    "\n",
    "导演年代 \n",
    "导演的第几部作品 \n",
    "导演是否得奖 \n",
    "导演是否转型 \n",
    "演员百度指数 1 \n",
    "演员百度指数 2 "
   ]
  },
  {
   "cell_type": "code",
   "execution_count": 3,
   "metadata": {},
   "outputs": [],
   "source": [
    "df_info = df_info[['_id','mname','tag','mlength','releaseday','isSequel','type','region','distributor','boxoffice_tot']]"
   ]
  },
  {
   "cell_type": "markdown",
   "metadata": {},
   "source": [
    "# 处理Tag\n",
    "每个电影固定五个`tag`标签数据"
   ]
  },
  {
   "cell_type": "code",
   "execution_count": 4,
   "metadata": {},
   "outputs": [
    {
     "data": {
      "text/html": [
       "<div>\n",
       "<style scoped>\n",
       "    .dataframe tbody tr th:only-of-type {\n",
       "        vertical-align: middle;\n",
       "    }\n",
       "\n",
       "    .dataframe tbody tr th {\n",
       "        vertical-align: top;\n",
       "    }\n",
       "\n",
       "    .dataframe thead th {\n",
       "        text-align: right;\n",
       "    }\n",
       "</style>\n",
       "<table border=\"1\" class=\"dataframe\">\n",
       "  <thead>\n",
       "    <tr style=\"text-align: right;\">\n",
       "      <th></th>\n",
       "      <th>tag1</th>\n",
       "      <th>tag2</th>\n",
       "      <th>tag3</th>\n",
       "      <th>tag4</th>\n",
       "      <th>tag5</th>\n",
       "    </tr>\n",
       "  </thead>\n",
       "  <tbody>\n",
       "    <tr>\n",
       "      <th>0</th>\n",
       "      <td>24</td>\n",
       "      <td>28</td>\n",
       "      <td>17</td>\n",
       "      <td>0</td>\n",
       "      <td>0</td>\n",
       "    </tr>\n",
       "    <tr>\n",
       "      <th>1</th>\n",
       "      <td>28</td>\n",
       "      <td>25</td>\n",
       "      <td>17</td>\n",
       "      <td>0</td>\n",
       "      <td>0</td>\n",
       "    </tr>\n",
       "    <tr>\n",
       "      <th>2</th>\n",
       "      <td>25</td>\n",
       "      <td>18</td>\n",
       "      <td>0</td>\n",
       "      <td>0</td>\n",
       "      <td>0</td>\n",
       "    </tr>\n",
       "    <tr>\n",
       "      <th>3</th>\n",
       "      <td>42</td>\n",
       "      <td>10</td>\n",
       "      <td>1</td>\n",
       "      <td>17</td>\n",
       "      <td>0</td>\n",
       "    </tr>\n",
       "    <tr>\n",
       "      <th>4</th>\n",
       "      <td>9</td>\n",
       "      <td>41</td>\n",
       "      <td>15</td>\n",
       "      <td>31</td>\n",
       "      <td>0</td>\n",
       "    </tr>\n",
       "  </tbody>\n",
       "</table>\n",
       "</div>"
      ],
      "text/plain": [
       "   tag1  tag2  tag3  tag4  tag5\n",
       "0    24    28    17     0     0\n",
       "1    28    25    17     0     0\n",
       "2    25    18     0     0     0\n",
       "3    42    10     1    17     0\n",
       "4     9    41    15    31     0"
      ]
     },
     "execution_count": 4,
     "metadata": {},
     "output_type": "execute_result"
    }
   ],
   "source": [
    "# 处理Tag\n",
    "tags = []\n",
    "for ts in df_info.tag.tolist():\n",
    "    tags.extend(eval(ts))\n",
    "\n",
    "# Tag_id对应\n",
    "dict_tag = dict(zip(set(tags),range(1,len(tags))))\n",
    "\n",
    "# 固定五个tag\n",
    "TAG_NUM = 5 \n",
    "tag_matrix = []\n",
    "for ts in df_info.tag.tolist():\n",
    "    l = eval(ts)\n",
    "    t = [0]*TAG_NUM\n",
    "    for i in range(len(l)):\n",
    "        t[i] = dict_tag[l[i]]\n",
    "    tag_matrix.append(t)\n",
    "\n",
    "df_tag = pd.DataFrame(tag_matrix, columns=['tag1','tag2','tag3','tag4','tag5'])\n",
    "df_tag.head()"
   ]
  },
  {
   "cell_type": "markdown",
   "metadata": {},
   "source": [
    "# 处理电影类型\n",
    "三种类型数据使用one-hot形式表示"
   ]
  },
  {
   "cell_type": "code",
   "execution_count": 5,
   "metadata": {},
   "outputs": [
    {
     "data": {
      "text/html": [
       "<div>\n",
       "<style scoped>\n",
       "    .dataframe tbody tr th:only-of-type {\n",
       "        vertical-align: middle;\n",
       "    }\n",
       "\n",
       "    .dataframe tbody tr th {\n",
       "        vertical-align: top;\n",
       "    }\n",
       "\n",
       "    .dataframe thead th {\n",
       "        text-align: right;\n",
       "    }\n",
       "</style>\n",
       "<table border=\"1\" class=\"dataframe\">\n",
       "  <thead>\n",
       "    <tr style=\"text-align: right;\">\n",
       "      <th></th>\n",
       "      <th>type1</th>\n",
       "      <th>type2</th>\n",
       "      <th>type3</th>\n",
       "    </tr>\n",
       "  </thead>\n",
       "  <tbody>\n",
       "    <tr>\n",
       "      <th>0</th>\n",
       "      <td>1</td>\n",
       "      <td>1</td>\n",
       "      <td>1</td>\n",
       "    </tr>\n",
       "    <tr>\n",
       "      <th>1</th>\n",
       "      <td>0</td>\n",
       "      <td>0</td>\n",
       "      <td>1</td>\n",
       "    </tr>\n",
       "    <tr>\n",
       "      <th>2</th>\n",
       "      <td>0</td>\n",
       "      <td>0</td>\n",
       "      <td>1</td>\n",
       "    </tr>\n",
       "    <tr>\n",
       "      <th>3</th>\n",
       "      <td>0</td>\n",
       "      <td>0</td>\n",
       "      <td>1</td>\n",
       "    </tr>\n",
       "    <tr>\n",
       "      <th>4</th>\n",
       "      <td>0</td>\n",
       "      <td>0</td>\n",
       "      <td>1</td>\n",
       "    </tr>\n",
       "  </tbody>\n",
       "</table>\n",
       "</div>"
      ],
      "text/plain": [
       "   type1  type2  type3\n",
       "0      1      1      1\n",
       "1      0      0      1\n",
       "2      0      0      1\n",
       "3      0      0      1\n",
       "4      0      0      1"
      ]
     },
     "execution_count": 5,
     "metadata": {},
     "output_type": "execute_result"
    }
   ],
   "source": [
    "df_info.type\n",
    "dict_type = dict(zip([\"3D\",\"IMAX\",\"2D\"], range(3)))\n",
    "\n",
    "type_matrix = []\n",
    "for ts in df_info.type.tolist():\n",
    "    l = eval(ts)\n",
    "    t = [0]*3\n",
    "    for i in range(len(l)):\n",
    "        t[dict_type[l[i]]] = 1\n",
    "    type_matrix.append(t)\n",
    "\n",
    "df_type = pd.DataFrame(type_matrix, columns=['type1','type2','type3'])\n",
    "df_type.head()"
   ]
  },
  {
   "cell_type": "markdown",
   "metadata": {},
   "source": [
    "# 处理region\n"
   ]
  },
  {
   "cell_type": "code",
   "execution_count": 6,
   "metadata": {},
   "outputs": [
    {
     "data": {
      "text/html": [
       "<div>\n",
       "<style scoped>\n",
       "    .dataframe tbody tr th:only-of-type {\n",
       "        vertical-align: middle;\n",
       "    }\n",
       "\n",
       "    .dataframe tbody tr th {\n",
       "        vertical-align: top;\n",
       "    }\n",
       "\n",
       "    .dataframe thead th {\n",
       "        text-align: right;\n",
       "    }\n",
       "</style>\n",
       "<table border=\"1\" class=\"dataframe\">\n",
       "  <thead>\n",
       "    <tr style=\"text-align: right;\">\n",
       "      <th></th>\n",
       "      <th>region0</th>\n",
       "      <th>region1</th>\n",
       "      <th>region2</th>\n",
       "      <th>region3</th>\n",
       "      <th>region4</th>\n",
       "      <th>region5</th>\n",
       "      <th>region6</th>\n",
       "      <th>region7</th>\n",
       "      <th>region8</th>\n",
       "      <th>region9</th>\n",
       "      <th>...</th>\n",
       "      <th>region12</th>\n",
       "      <th>region13</th>\n",
       "      <th>region14</th>\n",
       "      <th>region15</th>\n",
       "      <th>region16</th>\n",
       "      <th>region17</th>\n",
       "      <th>region18</th>\n",
       "      <th>region19</th>\n",
       "      <th>region20</th>\n",
       "      <th>region21</th>\n",
       "    </tr>\n",
       "  </thead>\n",
       "  <tbody>\n",
       "    <tr>\n",
       "      <th>0</th>\n",
       "      <td>0</td>\n",
       "      <td>0</td>\n",
       "      <td>0</td>\n",
       "      <td>1</td>\n",
       "      <td>0</td>\n",
       "      <td>0</td>\n",
       "      <td>0</td>\n",
       "      <td>0</td>\n",
       "      <td>0</td>\n",
       "      <td>0</td>\n",
       "      <td>...</td>\n",
       "      <td>0</td>\n",
       "      <td>0</td>\n",
       "      <td>0</td>\n",
       "      <td>0</td>\n",
       "      <td>0</td>\n",
       "      <td>0</td>\n",
       "      <td>0</td>\n",
       "      <td>0</td>\n",
       "      <td>0</td>\n",
       "      <td>0</td>\n",
       "    </tr>\n",
       "    <tr>\n",
       "      <th>1</th>\n",
       "      <td>0</td>\n",
       "      <td>0</td>\n",
       "      <td>0</td>\n",
       "      <td>1</td>\n",
       "      <td>0</td>\n",
       "      <td>0</td>\n",
       "      <td>0</td>\n",
       "      <td>0</td>\n",
       "      <td>0</td>\n",
       "      <td>0</td>\n",
       "      <td>...</td>\n",
       "      <td>0</td>\n",
       "      <td>0</td>\n",
       "      <td>0</td>\n",
       "      <td>0</td>\n",
       "      <td>0</td>\n",
       "      <td>0</td>\n",
       "      <td>0</td>\n",
       "      <td>0</td>\n",
       "      <td>0</td>\n",
       "      <td>0</td>\n",
       "    </tr>\n",
       "    <tr>\n",
       "      <th>2</th>\n",
       "      <td>0</td>\n",
       "      <td>0</td>\n",
       "      <td>0</td>\n",
       "      <td>0</td>\n",
       "      <td>0</td>\n",
       "      <td>0</td>\n",
       "      <td>0</td>\n",
       "      <td>0</td>\n",
       "      <td>0</td>\n",
       "      <td>0</td>\n",
       "      <td>...</td>\n",
       "      <td>1</td>\n",
       "      <td>0</td>\n",
       "      <td>0</td>\n",
       "      <td>0</td>\n",
       "      <td>0</td>\n",
       "      <td>0</td>\n",
       "      <td>0</td>\n",
       "      <td>0</td>\n",
       "      <td>0</td>\n",
       "      <td>0</td>\n",
       "    </tr>\n",
       "    <tr>\n",
       "      <th>3</th>\n",
       "      <td>0</td>\n",
       "      <td>0</td>\n",
       "      <td>0</td>\n",
       "      <td>0</td>\n",
       "      <td>0</td>\n",
       "      <td>0</td>\n",
       "      <td>0</td>\n",
       "      <td>0</td>\n",
       "      <td>0</td>\n",
       "      <td>0</td>\n",
       "      <td>...</td>\n",
       "      <td>1</td>\n",
       "      <td>0</td>\n",
       "      <td>0</td>\n",
       "      <td>0</td>\n",
       "      <td>0</td>\n",
       "      <td>0</td>\n",
       "      <td>0</td>\n",
       "      <td>0</td>\n",
       "      <td>0</td>\n",
       "      <td>0</td>\n",
       "    </tr>\n",
       "    <tr>\n",
       "      <th>4</th>\n",
       "      <td>0</td>\n",
       "      <td>0</td>\n",
       "      <td>0</td>\n",
       "      <td>0</td>\n",
       "      <td>0</td>\n",
       "      <td>0</td>\n",
       "      <td>0</td>\n",
       "      <td>0</td>\n",
       "      <td>0</td>\n",
       "      <td>0</td>\n",
       "      <td>...</td>\n",
       "      <td>0</td>\n",
       "      <td>0</td>\n",
       "      <td>0</td>\n",
       "      <td>1</td>\n",
       "      <td>0</td>\n",
       "      <td>0</td>\n",
       "      <td>0</td>\n",
       "      <td>0</td>\n",
       "      <td>0</td>\n",
       "      <td>0</td>\n",
       "    </tr>\n",
       "  </tbody>\n",
       "</table>\n",
       "<p>5 rows × 22 columns</p>\n",
       "</div>"
      ],
      "text/plain": [
       "   region0  region1  region2  region3  region4  region5  region6  region7  \\\n",
       "0        0        0        0        1        0        0        0        0   \n",
       "1        0        0        0        1        0        0        0        0   \n",
       "2        0        0        0        0        0        0        0        0   \n",
       "3        0        0        0        0        0        0        0        0   \n",
       "4        0        0        0        0        0        0        0        0   \n",
       "\n",
       "   region8  region9    ...     region12  region13  region14  region15  \\\n",
       "0        0        0    ...            0         0         0         0   \n",
       "1        0        0    ...            0         0         0         0   \n",
       "2        0        0    ...            1         0         0         0   \n",
       "3        0        0    ...            1         0         0         0   \n",
       "4        0        0    ...            0         0         0         1   \n",
       "\n",
       "   region16  region17  region18  region19  region20  region21  \n",
       "0         0         0         0         0         0         0  \n",
       "1         0         0         0         0         0         0  \n",
       "2         0         0         0         0         0         0  \n",
       "3         0         0         0         0         0         0  \n",
       "4         0         0         0         0         0         0  \n",
       "\n",
       "[5 rows x 22 columns]"
      ]
     },
     "execution_count": 6,
     "metadata": {},
     "output_type": "execute_result"
    }
   ],
   "source": [
    "df_info.region\n",
    "regions = []\n",
    "for rs in df_info.region.tolist():\n",
    "    regions.extend(rs.split('/'))\n",
    "\n",
    "dict_regions = dict(zip(set(sorted(regions)),range(0,len(regions))))\n",
    "\n",
    "region_matrix = []\n",
    "for rs in df_info.region.tolist():\n",
    "    l = rs.split('/')\n",
    "    t = [0]*22\n",
    "    for i in range(len(l)):\n",
    "        t[dict_regions[l[i]]] = 1\n",
    "    region_matrix.append(t)\n",
    "\n",
    "df_region = pd.DataFrame(region_matrix, columns=['region'+str(i) for i in range(22)])\n",
    "df_region.head()"
   ]
  },
  {
   "cell_type": "markdown",
   "metadata": {},
   "source": [
    "# 处理distributor"
   ]
  },
  {
   "cell_type": "code",
   "execution_count": 7,
   "metadata": {},
   "outputs": [
    {
     "data": {
      "text/html": [
       "<div>\n",
       "<style scoped>\n",
       "    .dataframe tbody tr th:only-of-type {\n",
       "        vertical-align: middle;\n",
       "    }\n",
       "\n",
       "    .dataframe tbody tr th {\n",
       "        vertical-align: top;\n",
       "    }\n",
       "\n",
       "    .dataframe thead th {\n",
       "        text-align: right;\n",
       "    }\n",
       "</style>\n",
       "<table border=\"1\" class=\"dataframe\">\n",
       "  <thead>\n",
       "    <tr style=\"text-align: right;\">\n",
       "      <th></th>\n",
       "      <th>distributor0</th>\n",
       "      <th>distributor1</th>\n",
       "      <th>distributor2</th>\n",
       "    </tr>\n",
       "  </thead>\n",
       "  <tbody>\n",
       "    <tr>\n",
       "      <th>0</th>\n",
       "      <td>63</td>\n",
       "      <td>32</td>\n",
       "      <td>0</td>\n",
       "    </tr>\n",
       "    <tr>\n",
       "      <th>1</th>\n",
       "      <td>32</td>\n",
       "      <td>0</td>\n",
       "      <td>0</td>\n",
       "    </tr>\n",
       "    <tr>\n",
       "      <th>2</th>\n",
       "      <td>35</td>\n",
       "      <td>0</td>\n",
       "      <td>0</td>\n",
       "    </tr>\n",
       "    <tr>\n",
       "      <th>3</th>\n",
       "      <td>167</td>\n",
       "      <td>0</td>\n",
       "      <td>0</td>\n",
       "    </tr>\n",
       "    <tr>\n",
       "      <th>4</th>\n",
       "      <td>63</td>\n",
       "      <td>2</td>\n",
       "      <td>0</td>\n",
       "    </tr>\n",
       "  </tbody>\n",
       "</table>\n",
       "</div>"
      ],
      "text/plain": [
       "   distributor0  distributor1  distributor2\n",
       "0            63            32             0\n",
       "1            32             0             0\n",
       "2            35             0             0\n",
       "3           167             0             0\n",
       "4            63             2             0"
      ]
     },
     "execution_count": 7,
     "metadata": {},
     "output_type": "execute_result"
    }
   ],
   "source": [
    "df_info.distributor\n",
    "distributor = []\n",
    "for ds in df_info.distributor.tolist():\n",
    "    distributor.extend(eval(ds))\n",
    "\n",
    "dict_distributor = dict(zip(set(sorted(distributor)),range(0,len(distributor))))\n",
    "\n",
    "distributor_matrix = []\n",
    "for ds in df_info.distributor.tolist():\n",
    "    l = eval(ds)\n",
    "    t = [0]*3\n",
    "    for i in range(len(l)):\n",
    "        t[i] = dict_distributor[l[i]]\n",
    "    distributor_matrix.append(t)\n",
    "\n",
    "df_distributor = pd.DataFrame(distributor_matrix, columns=['distributor'+str(i) for i in range(3)])\n",
    "df_distributor.head()"
   ]
  },
  {
   "cell_type": "markdown",
   "metadata": {},
   "source": [
    "# 处理票房"
   ]
  },
  {
   "cell_type": "code",
   "execution_count": 8,
   "metadata": {},
   "outputs": [
    {
     "name": "stdout",
     "output_type": "stream",
     "text": [
      "270\n"
     ]
    }
   ],
   "source": [
    "boxoffice_tot = np.array(df_info.boxoffice_tot.tolist())/1000000\n",
    "print(len(boxoffice_tot))"
   ]
  },
  {
   "cell_type": "markdown",
   "metadata": {},
   "source": [
    "# 电影上映时间类型\n"
   ]
  },
  {
   "cell_type": "code",
   "execution_count": 9,
   "metadata": {},
   "outputs": [],
   "source": [
    "times = pd.to_datetime(df_info.releaseday)\n",
    "dict_time = dict(zip([1, 2, 3, 4, 5, 6, 7, 8, 9, 10, 11, 12], (5,5,1,2,1,1,2,4,1,3,1,2)))\n",
    "time_series = []\n",
    "for time in times:\n",
    "    time_series.append(dict_time[time.month])\n",
    "\n",
    "df_time = pd.DataFrame(time_series, columns=['timetype'])"
   ]
  },
  {
   "cell_type": "markdown",
   "metadata": {},
   "source": [
    "# 2017年电影导演、演员百度指数"
   ]
  },
  {
   "cell_type": "code",
   "execution_count": 10,
   "metadata": {},
   "outputs": [
    {
     "name": "stdout",
     "output_type": "stream",
     "text": [
      "   actor0  actor1  actor2  actor3  actor4\n",
      "0       1       2       3       4       5\n",
      "1       6    1097       8       9      10\n",
      "2      11     237      13      14     192\n",
      "3      16      17      18      19      20\n",
      "4      21      22      23      24      25\n"
     ]
    },
    {
     "data": {
      "text/html": [
       "<div>\n",
       "<style scoped>\n",
       "    .dataframe tbody tr th:only-of-type {\n",
       "        vertical-align: middle;\n",
       "    }\n",
       "\n",
       "    .dataframe tbody tr th {\n",
       "        vertical-align: top;\n",
       "    }\n",
       "\n",
       "    .dataframe thead th {\n",
       "        text-align: right;\n",
       "    }\n",
       "</style>\n",
       "<table border=\"1\" class=\"dataframe\">\n",
       "  <thead>\n",
       "    <tr style=\"text-align: right;\">\n",
       "      <th></th>\n",
       "      <th>actor_index0</th>\n",
       "      <th>actor_index1</th>\n",
       "      <th>actor_index2</th>\n",
       "      <th>actor_index3</th>\n",
       "      <th>actor_index4</th>\n",
       "    </tr>\n",
       "  </thead>\n",
       "  <tbody>\n",
       "    <tr>\n",
       "      <th>0</th>\n",
       "      <td>1822</td>\n",
       "      <td>511</td>\n",
       "      <td>0</td>\n",
       "      <td>0</td>\n",
       "      <td>0</td>\n",
       "    </tr>\n",
       "    <tr>\n",
       "      <th>1</th>\n",
       "      <td>142</td>\n",
       "      <td>6527</td>\n",
       "      <td>176</td>\n",
       "      <td>601</td>\n",
       "      <td>0</td>\n",
       "    </tr>\n",
       "    <tr>\n",
       "      <th>2</th>\n",
       "      <td>0</td>\n",
       "      <td>0</td>\n",
       "      <td>0</td>\n",
       "      <td>177</td>\n",
       "      <td>0</td>\n",
       "    </tr>\n",
       "    <tr>\n",
       "      <th>3</th>\n",
       "      <td>47905</td>\n",
       "      <td>246</td>\n",
       "      <td>144</td>\n",
       "      <td>0</td>\n",
       "      <td>0</td>\n",
       "    </tr>\n",
       "    <tr>\n",
       "      <th>4</th>\n",
       "      <td>23014</td>\n",
       "      <td>5396</td>\n",
       "      <td>2559</td>\n",
       "      <td>2850</td>\n",
       "      <td>16788</td>\n",
       "    </tr>\n",
       "  </tbody>\n",
       "</table>\n",
       "</div>"
      ],
      "text/plain": [
       "   actor_index0  actor_index1  actor_index2  actor_index3  actor_index4\n",
       "0          1822           511             0             0             0\n",
       "1           142          6527           176           601             0\n",
       "2             0             0             0           177             0\n",
       "3         47905           246           144             0             0\n",
       "4         23014          5396          2559          2850         16788"
      ]
     },
     "execution_count": 10,
     "metadata": {},
     "output_type": "execute_result"
    }
   ],
   "source": [
    "df_staff = pd.read_csv(base_path+'2017年电影导演、演员百度指数.csv',encoding = \"gbk\")\n",
    "\n",
    "actors = []\n",
    "for actor in df_staff.actors.tolist():\n",
    "    actors.extend(actor.split(','))\n",
    "\n",
    "dict_actor = dict(zip(actors, range(1,len(actors)+1)))\n",
    "\n",
    "actor_matrix = []\n",
    "for actor in df_staff.actors.tolist():\n",
    "    l = actor.split(',')\n",
    "    t = [0] * 5\n",
    "    for i in range(len(l)):\n",
    "        t[i] = dict_actor[l[i]]\n",
    "    actor_matrix.append(t)\n",
    "\n",
    "df_actor = pd.DataFrame(actor_matrix, columns=['actor'+str(i) for i in range(5)])\n",
    "print(df_actor.head())\n",
    "\n",
    "actor_index_matrix = []\n",
    "for line in df_staff.actor_index.tolist():\n",
    "    tmp = line.split()\n",
    "    if tmp:\n",
    "        if len(tmp) < 5: tmp.extend([0]*(5-len(tmp)))\n",
    "        actor_index_matrix.append([int(val) for val in tmp])\n",
    "    else:\n",
    "        actor_index_matrix.append([0]*5)\n",
    "df_actor_index = pd.DataFrame(actor_index_matrix, columns=['actor_index'+str(i) for i in range(5)])\n",
    "df_actor_index.head()"
   ]
  },
  {
   "cell_type": "markdown",
   "metadata": {},
   "source": [
    "# 数据整合"
   ]
  },
  {
   "cell_type": "code",
   "execution_count": 11,
   "metadata": {},
   "outputs": [
    {
     "name": "stdout",
     "output_type": "stream",
     "text": [
      "<class 'pandas.core.frame.DataFrame'>\n",
      "Int64Index: 186 entries, 0 to 265\n",
      "Data columns (total 37 columns):\n",
      "type1            186 non-null int64\n",
      "type2            186 non-null int64\n",
      "type3            186 non-null int64\n",
      "region0          186 non-null int64\n",
      "region1          186 non-null int64\n",
      "region2          186 non-null int64\n",
      "region3          186 non-null int64\n",
      "region4          186 non-null int64\n",
      "region5          186 non-null int64\n",
      "region6          186 non-null int64\n",
      "region7          186 non-null int64\n",
      "region8          186 non-null int64\n",
      "region9          186 non-null int64\n",
      "region10         186 non-null int64\n",
      "region11         186 non-null int64\n",
      "region12         186 non-null int64\n",
      "region13         186 non-null int64\n",
      "region14         186 non-null int64\n",
      "region15         186 non-null int64\n",
      "region16         186 non-null int64\n",
      "region17         186 non-null int64\n",
      "region18         186 non-null int64\n",
      "region19         186 non-null int64\n",
      "region20         186 non-null int64\n",
      "region21         186 non-null int64\n",
      "timetype         186 non-null int64\n",
      "actor0           186 non-null int64\n",
      "actor1           186 non-null int64\n",
      "actor2           186 non-null int64\n",
      "actor3           186 non-null int64\n",
      "actor4           186 non-null int64\n",
      "actor_index0     186 non-null int64\n",
      "actor_index1     186 non-null int64\n",
      "actor_index2     186 non-null int64\n",
      "actor_index3     186 non-null int64\n",
      "actor_index4     186 non-null int64\n",
      "boxoffice_tot    186 non-null int64\n",
      "dtypes: int64(37)\n",
      "memory usage: 55.2 KB\n"
     ]
    }
   ],
   "source": [
    "# df = pd.concat([df_info.mname, df_tag, df_type, df_distributor, df_region, df_time],axis=1, sort=False)\n",
    "df = pd.concat([df_info.mname, df_type, df_region, df_time],axis=1, sort=False)\n",
    "\n",
    "df2 = pd.concat([df_staff.mname, df_actor, df_actor_index], axis=1, sort = False)\n",
    "df2.head()\n",
    "df = pd.merge(df, df2, how='left', on=['mname'])\n",
    "\n",
    "df['boxoffice_tot'] = boxoffice_tot\n",
    "df = df.drop(['mname'], axis=1)\n",
    "\n",
    "df = df[df.boxoffice_tot < 800]\n",
    "df = df[df.boxoffice_tot > 10]\n",
    "\n",
    "# 进行分类\n",
    "cates = []\n",
    "for b in df.boxoffice_tot.tolist():\n",
    "    if b < 100 : cates.append(0)\n",
    "    elif b: cates.append(1)\n",
    "df['boxoffice_tot'] = cates\n",
    "        \n",
    "df.info()"
   ]
  },
  {
   "cell_type": "code",
   "execution_count": 113,
   "metadata": {},
   "outputs": [],
   "source": [
    "# 打乱 切分数据集 训练模型\n",
    "\n",
    "df = df.sample(frac=1.0)\n",
    "\n",
    "X = df.iloc[:,:-1].values\n",
    "Y = df['boxoffice_tot'].tolist()\n",
    "\n",
    "train_data = df[:-30]\n",
    "test_data = df[-30:]\n",
    "\n",
    "x_train = train_data.iloc[:,:-1].values\n",
    "y_train = train_data['boxoffice_tot'].tolist()\n",
    "x_test = test_data.iloc[:,:-1].values\n",
    "y_test = test_data['boxoffice_tot']"
   ]
  },
  {
   "cell_type": "code",
   "execution_count": 246,
   "metadata": {},
   "outputs": [
    {
     "name": "stdout",
     "output_type": "stream",
     "text": [
      "   precision  recall    fscore  support\n",
      "0   0.909091     1.0  0.952381       20\n",
      "1   1.000000     0.8  0.888889       10\n",
      "   precision  recall    fscore  support\n",
      "0   0.904762    0.95  0.926829       20\n",
      "1   0.888889    0.80  0.842105       10\n"
     ]
    }
   ],
   "source": [
    "# 模型\n",
    "\n",
    "from sklearn.ensemble import GradientBoostingRegressor as gbr\n",
    "from sklearn.ensemble import GradientBoostingClassifier as gbc\n",
    "from sklearn.metrics import mean_absolute_error, mean_squared_error, accuracy_score\n",
    "from sklearn.metrics import precision_recall_fscore_support as score\n",
    "from sklearn.model_selection import cross_val_predict\n",
    "from sklearn.linear_model import LinearRegression \n",
    "from sklearn.svm import SVC\n",
    "\n",
    "estimater = gbc()\n",
    "estimater.fit(x_train, y_train)\n",
    "lr = LinearRegression()\n",
    "lr.fit(x_train, y_train)\n",
    "\n",
    "y_preds = [0] * 2\n",
    "y_preds[0] = estimater.predict(x_test)\n",
    "\n",
    "r = np.array(lr.predict(x_test))\n",
    "r[r<=0.5] = 0\n",
    "r[r>=0.5] = 1\n",
    "y_preds[1] = r\n",
    "\n",
    "\n",
    "# y_preds[2] = svc.predict(x_test)\n",
    "# print(y_preds[2])\n",
    "\n",
    "if False :\n",
    "    MAE = int(mean_absolute_error(y_test, y_pred))\n",
    "    RMSE = np.sqrt(mean_squared_error(y_test, y_pred))\n",
    "    print(MAE,MSE,RMSE)\n",
    "else:\n",
    "    for y_pred in y_preds:\n",
    "        precision, recall, fscore, support = score(y_test, y_pred)\n",
    "        table = pd.DataFrame({'precision': precision, 'recall': recall, 'fscore': fscore, 'support': support})\n",
    "        print(table)\n",
    "\n",
    "# [(x,y) for x,y in zip(y_pred,y_test)]"
   ]
  },
  {
   "cell_type": "markdown",
   "metadata": {},
   "source": [
    "# 模型保存"
   ]
  },
  {
   "cell_type": "markdown",
   "metadata": {},
   "source": [
    "保存数据及模型"
   ]
  },
  {
   "cell_type": "code",
   "execution_count": 242,
   "metadata": {},
   "outputs": [
    {
     "data": {
      "text/plain": [
       "['/mnt/c/Users/chenshuai/OneDrive/研究生笔记/竞赛/图书馆建模/data_model/lr.sav']"
      ]
     },
     "execution_count": 242,
     "metadata": {},
     "output_type": "execute_result"
    }
   ],
   "source": [
    "from sklearn.externals import joblib\n",
    "train_data.to_csv('/mnt/c/Users/chenshuai/OneDrive/研究生笔记/竞赛/图书馆建模/data_model/train.csv')\n",
    "test_data.to_csv('/mnt/c/Users/chenshuai/OneDrive/研究生笔记/竞赛/图书馆建模/data_model/test.csv')\n",
    "joblib.dump(estimater, '/mnt/c/Users/chenshuai/OneDrive/研究生笔记/竞赛/图书馆建模/data_model/gbdt.sav')\n",
    "joblib.dump(lr, '/mnt/c/Users/chenshuai/OneDrive/研究生笔记/竞赛/图书馆建模/data_model/lr.sav')\n"
   ]
  },
  {
   "cell_type": "markdown",
   "metadata": {},
   "source": [
    "读取模型验证"
   ]
  },
  {
   "cell_type": "code",
   "execution_count": 255,
   "metadata": {},
   "outputs": [
    {
     "name": "stdout",
     "output_type": "stream",
     "text": [
      "   precision  recall    fscore  support\n",
      "0   0.894737    0.85  0.871795       20\n",
      "1   0.727273    0.80  0.761905       10\n"
     ]
    }
   ],
   "source": [
    "train_data = pd.read_csv('/mnt/c/Users/chenshuai/OneDrive/研究生笔记/竞赛/图书馆建模/data_model/train.csv')\n",
    "test_data = pd.read_csv('/mnt/c/Users/chenshuai/OneDrive/研究生笔记/竞赛/图书馆建模/data_model/test.csv')\n",
    "\n",
    "x_train = train_data.iloc[:,:-1].values\n",
    "y_train = train_data['boxoffice_tot'].tolist()\n",
    "x_test = test_data.iloc[:,:-1].values\n",
    "y_test = test_data['boxoffice_tot']\n",
    "r1 = joblib.load('/mnt/c/Users/chenshuai/OneDrive/研究生笔记/竞赛/图书馆建模/data_model/gbdt.sav')\n",
    "\n",
    "# 添加对比实验 随机森林\n",
    "from sklearn.ensemble import RandomForestClassifier\n",
    "\n",
    "clf = RandomForestClassifier()\n",
    "clf.fit(x_train,y_train)\n",
    "y_pred = clf.predict(x_test)\n",
    "precision, recall, fscore, support = score(y_test, y_pred)\n",
    "table = pd.DataFrame({'precision': precision, 'recall': recall, 'fscore': fscore, 'support': support})\n",
    "print(table)"
   ]
  },
  {
   "cell_type": "markdown",
   "metadata": {},
   "source": [
    "# 数据分析\n"
   ]
  },
  {
   "cell_type": "code",
   "execution_count": null,
   "metadata": {},
   "outputs": [],
   "source": [
    "from matplotlib import pyplot as plt\n",
    "%matplotlib inline\n",
    "%config InlineBackend.figure_format = 'svg'\n",
    "plt.figure(dpi = 600)\n",
    "\n",
    "from matplotlib.font_manager import _rebuild\n",
    "_rebuild()"
   ]
  },
  {
   "cell_type": "markdown",
   "metadata": {},
   "source": [
    "## 1. 票房过亿数据统计\n",
    "## 2. 各月票房统计\n",
    "## 3. 国内外电影票房"
   ]
  },
  {
   "cell_type": "markdown",
   "metadata": {},
   "source": [
    "# 2017 年中国电影票房量级分布（部）"
   ]
  },
  {
   "cell_type": "code",
   "execution_count": null,
   "metadata": {},
   "outputs": [],
   "source": [
    "ranges = [0, 10000000, 100000000, 500000000, 1000000000, 9000000000]\n",
    "\n",
    "fenzu=pd.cut(df_info.boxoffice_tot.values,ranges,right=False)\n",
    "print(fenzu.codes)#标签\n",
    "print(fenzu.categories)#分组区间，长度8\n",
    "pinshu=fenzu.value_counts()#series,区间-个数\n",
    "print(pinshu.values)\n",
    "\n",
    "# 'lightgreen cyan royalblue lightcoral'.split()\n",
    "plt.bar(range(5), pinshu.values, color='lime deepskyblue gold tomato orangered'.split(), tick_label=['<10M','10M-100M','100M-500M','500M-1000M','>1000M'])\n",
    "plt.savefig('/mnt/c/Users/chenshuai/OneDrive/研究生笔记/竞赛/图书馆建模/img/count.png')\n",
    "plt.show()"
   ]
  },
  {
   "cell_type": "markdown",
   "metadata": {},
   "source": [
    "# 各月票房统计"
   ]
  },
  {
   "cell_type": "code",
   "execution_count": null,
   "metadata": {},
   "outputs": [],
   "source": [
    "import matplotlib.pyplot as plt\n",
    "\n",
    "dfa = pd.read_csv(base_path+'2017年电影每日票房.csv',encoding = \"gbk\")\n",
    "dfa = dfa[['InsertDate','BoxOffice']]\n",
    "dfa.loc[: ,'InsertDate'] = pd.to_datetime(dfa.InsertDate)\n",
    "dfa = dfa.set_index('InsertDate')\n",
    "dfa = dfa['2017']\n",
    "print(dfa.resample('M').sum())\n",
    "boxoffices = np.array(dfa.resample('M').sum().values.tolist())\n",
    "boxoffices = boxoffices/10000 # 取单元亿元\n",
    "\n",
    "x = [str(i) for i in range(1,13)]\n",
    "plt.bar(x, boxoffices.reshape(-1))\n",
    "plt.xlabel('month')\n",
    "plt.ylabel('box office')\n",
    "plt.savefig('/mnt/c/Users/chenshuai/OneDrive/研究生笔记/竞赛/图书馆建模/img/month.png')\n",
    "plt.show()"
   ]
  },
  {
   "cell_type": "markdown",
   "metadata": {},
   "source": [
    "# 国内外票房对比"
   ]
  },
  {
   "cell_type": "code",
   "execution_count": null,
   "metadata": {},
   "outputs": [],
   "source": [
    "dfa = pd.read_csv(base_path+'2017年电影信息.csv',encoding = \"gbk\")\n",
    "dfa = dfa[['mname','tag','region','boxoffice_tot']]\n",
    "\n",
    "def foo(x):\n",
    "    xs = x.split('/')\n",
    "    if len(xs)==1 and '中国' in xs[0]:return 1\n",
    "    elif len(xs)==1 and '中国' not in xs[0]: return 3\n",
    "    \n",
    "    for i in xs:\n",
    "        if '中国' not in i: return 2\n",
    "    return 1\n",
    "        \n",
    "\n",
    "dfa['regiontype'] = dfa.region.apply(foo)\n",
    "\n",
    "result = np.array(dfa.groupby('regiontype').boxoffice_tot.sum().tolist())\n",
    "\n",
    "# result = result / sum(result) * 100\n",
    "\n",
    "# 柱状图\n",
    "# plt.bar(['2017'], result[0], width=0.2, label='Domestic')\n",
    "# plt.bar(['2017'], result[1], width=0.2, bottom=result[0])\n",
    "# plt.bar(['2017'], result[2], width=0.2, bottom=result[0]+result[1])\n",
    "# plt.legend()\n",
    "# plt.show()\n",
    "\n",
    "explode = (0.01,0.01,0.01)\n",
    "plt.pie(result,\n",
    "                      explode=explode,\n",
    "                      labels=['Domestic','Cooperation','Import'],\n",
    "                      # colors=colors,\n",
    "                      autopct = '%3.2f%%', #数值保留固定小数位\n",
    "                      shadow = False, #无阴影设置\n",
    "                      startangle =90, #逆时针起始角度设置\n",
    "                      pctdistance = 0.6) #数值距圆心半径倍数距离\n",
    "#patches饼图的返回值，texts1饼图外label的文本，texts2饼图内部的文本\n",
    "# x，y轴刻度设置一致，保证饼图为圆形\n",
    "plt.axis('equal')\n",
    "plt.savefig('/mnt/c/Users/chenshuai/OneDrive/研究生笔记/竞赛/图书馆建模/img/film.png')\n",
    "plt.show()"
   ]
  },
  {
   "cell_type": "markdown",
   "metadata": {},
   "source": [
    "# 国产电影类型分析"
   ]
  },
  {
   "cell_type": "code",
   "execution_count": null,
   "metadata": {},
   "outputs": [],
   "source": [
    "dfa.tag\n",
    "\n",
    "dfa = dfa[dfa.regiontype == 1]\n",
    "\n",
    "dfa.tag = dfa.tag.apply(lambda x: eval(x)[0])\n",
    "print(dfa[dfa.tag=='奇幻'])\n",
    "dfa.groupby('tag').boxoffice_tot.sum()\n",
    "\n",
    "result = pd.concat([dfa.groupby('tag').boxoffice_tot.count(), dfa.groupby('tag').boxoffice_tot.sum()], axis=1)\n",
    "result.columns = ['部数占比','票房占比']\n",
    "\n",
    "result.部数占比 = result.部数占比.apply(lambda x: x/result.部数占比.sum() *100)\n",
    "result.票房占比 = result.票房占比.apply(lambda x: x/result.票房占比.sum() *100)\n",
    "\n",
    "result.sort_values('部数占比', ascending=False)"
   ]
  }
 ],
 "metadata": {
  "kernelspec": {
   "display_name": "Python [conda env:anaconda3]",
   "language": "python",
   "name": "conda-env-anaconda3-py"
  },
  "language_info": {
   "codemirror_mode": {
    "name": "ipython",
    "version": 3
   },
   "file_extension": ".py",
   "mimetype": "text/x-python",
   "name": "python",
   "nbconvert_exporter": "python",
   "pygments_lexer": "ipython3",
   "version": "3.6.5"
  }
 },
 "nbformat": 4,
 "nbformat_minor": 2
}

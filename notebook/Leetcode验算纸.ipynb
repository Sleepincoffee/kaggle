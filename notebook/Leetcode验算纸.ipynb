{
 "cells": [
  {
   "cell_type": "code",
   "execution_count": 87,
   "metadata": {},
   "outputs": [
    {
     "data": {
      "text/plain": [
       "'Abbbb'"
      ]
     },
     "execution_count": 87,
     "metadata": {},
     "output_type": "execute_result"
    }
   ],
   "source": [
    "def convert(s: str, numRows: int) -> str:   \n",
    "    if s is None or s == '': return ''\n",
    "    if numRows == 1: return s\n",
    "    period = 2*numRows-2               # 周期分2类:p1(完整numRows)，p2(剩余的尾巴)\n",
    "    sub_period = numRows-2\n",
    "    cols = (len(s)+sub_period) // period \n",
    "\n",
    "    result = []\n",
    "    tail = []\n",
    "    for i in range(period):\n",
    "        index = [i+period*p for p in range(cols+1)]\n",
    "        if i % period < numRows:\n",
    "            result.append(\"\".join([s[t] for t in index if t < len(s)]))\n",
    "        else:\n",
    "            tail.append(\"\".join([s[t] for t in index if t < len(s)]))\n",
    "    \n",
    "    for e,t in enumerate(tail):\n",
    "        print(result[numRows-2-e], tail[e])\n",
    "    \n",
    "        res = [''] * (len(result[numRows-2-e]) + len(tail[e]))\n",
    "        res[::2] = result[numRows-2-e]\n",
    "        res[1::2] = tail[e]\n",
    "        result[numRows-2-e]= ''.join(res)\n",
    "    \n",
    "    return ''.join(result)\n",
    "\n",
    "# convert(\"LEETCODEISHIRING\",4)\n",
    "# print('PAHNAPLSIIGYIR')\n",
    "convert(\"Abbbb\",1)"
   ]
  },
  {
   "cell_type": "code",
   "execution_count": 88,
   "metadata": {},
   "outputs": [
    {
     "data": {
      "text/plain": [
       "-21"
      ]
     },
     "execution_count": 88,
     "metadata": {},
     "output_type": "execute_result"
    }
   ],
   "source": [
    "import re\n",
    "re.search(r'^([+|-]?\\d+)', str.lstrip())"
   ]
  },
  {
   "cell_type": "code",
   "execution_count": 119,
   "metadata": {},
   "outputs": [
    {
     "data": {
      "text/plain": [
       "'VI'"
      ]
     },
     "execution_count": 119,
     "metadata": {},
     "output_type": "execute_result"
    }
   ],
   "source": [
    "def intToRoman(num: int) -> str:\n",
    "        s = ''\n",
    "        v = [1000,900,500,400,100,90,50,40,10,9,5,4]\n",
    "        c = ['M','CM','D','CD','C','XC','L','XL','X','IX','V','IV']\n",
    "        # d = {'I':1,'V':5,'X':10,'L':50,'C'100,'D':500,'M':1000}\n",
    "        \n",
    "        \n",
    "        \n",
    "        while len(v):\n",
    "            if num // v[0] > 0:\n",
    "                s+=c[0]*(num//v[0])\n",
    "                num = int(num%v[0])\n",
    "                \n",
    "                \n",
    "            v = v[1:]\n",
    "            c = c[1:]\n",
    "        \n",
    "        s += 'I'*num\n",
    "        return s\n",
    "    \n",
    "intToRoman(6)"
   ]
  },
  {
   "cell_type": "code",
   "execution_count": 150,
   "metadata": {},
   "outputs": [
    {
     "data": {
      "text/plain": [
       "''"
      ]
     },
     "execution_count": 150,
     "metadata": {},
     "output_type": "execute_result"
    }
   ],
   "source": [
    "\n",
    "def longestCommonPrefix(strs) -> str:\n",
    "    prefix = ''\n",
    "    i = 0\n",
    "    flag = True\n",
    "\n",
    "    while flag and strs:\n",
    "        if i == len(strs[0]): return prefix\n",
    "\n",
    "        c = strs[0][i]\n",
    "\n",
    "        for j in range(len(strs)):\n",
    "            if i >= len(strs[j]) or c != strs[j][i]:\n",
    "                return prefix\n",
    "\n",
    "        prefix+=c\n",
    "        i+=1\n",
    "\n",
    "    return prefix\n",
    "\n",
    "longestCommonPrefix([\"\"])"
   ]
  },
  {
   "cell_type": "code",
   "execution_count": 185,
   "metadata": {},
   "outputs": [
    {
     "name": "stdout",
     "output_type": "stream",
     "text": [
      "['ad', 'ae', 'af', 'bd', 'be', 'bf', 'cd', 'ce', 'cf']\n"
     ]
    }
   ],
   "source": [
    "d = {\"1\":\"1\",\"2\" : \"abc\" , \"3\" : 'def' , \"4\" : \"ghi\" , \"5\" : \"jkl\" , \"6\" : \"mno\" ,\"7\":\"pqrs\" , \"8\" : \"tuv\" , \"9\" : \"wxyz\"}\n",
    "class Solution:\n",
    "\n",
    "    def foo(self, st, re):\n",
    "        if not st: return re\n",
    "        \n",
    "        re2 = []\n",
    "        for s in st.pop():\n",
    "            re2 += [s+r for r in re]\n",
    "        \n",
    "        return self.foo(st, re2)\n",
    "    \n",
    "    def letterCombinations(self, digits: str):\n",
    "        st = [d[i] for i in digits]\n",
    "        re = ['']\n",
    "\n",
    "        print(self.foo(st, re))\n",
    "\n",
    "S = Solution()\n",
    "t = S.letterCombinations('23')\n",
    "t"
   ]
  },
  {
   "cell_type": "code",
   "execution_count": 193,
   "metadata": {},
   "outputs": [
    {
     "name": "stdout",
     "output_type": "stream",
     "text": [
      "0\n"
     ]
    },
    {
     "ename": "IndexError",
     "evalue": "list index out of range",
     "traceback": [
      "\u001b[0;31m---------------------------------------------------------------------------\u001b[0m",
      "\u001b[0;31mIndexError\u001b[0m                                Traceback (most recent call last)",
      "\u001b[0;32m<ipython-input-193-13ff661c8ba3>\u001b[0m in \u001b[0;36m<module>\u001b[0;34m()\u001b[0m\n\u001b[1;32m     33\u001b[0m \u001b[0;34m\u001b[0m\u001b[0m\n\u001b[1;32m     34\u001b[0m \u001b[0mS\u001b[0m \u001b[0;34m=\u001b[0m \u001b[0mSolution\u001b[0m\u001b[0;34m(\u001b[0m\u001b[0;34m)\u001b[0m\u001b[0;34m\u001b[0m\u001b[0m\n\u001b[0;32m---> 35\u001b[0;31m \u001b[0mS\u001b[0m\u001b[0;34m.\u001b[0m\u001b[0mfourSum\u001b[0m\u001b[0;34m(\u001b[0m\u001b[0;34m[\u001b[0m\u001b[0;36m0\u001b[0m\u001b[0;34m,\u001b[0m\u001b[0;36m0\u001b[0m\u001b[0;34m]\u001b[0m\u001b[0;34m,\u001b[0m \u001b[0;36m0\u001b[0m\u001b[0;34m)\u001b[0m\u001b[0;34m\u001b[0m\u001b[0m\n\u001b[0m",
      "\u001b[0;32m<ipython-input-193-13ff661c8ba3>\u001b[0m in \u001b[0;36mfourSum\u001b[0;34m(self, nums, target)\u001b[0m\n\u001b[1;32m      8\u001b[0m             \u001b[0;32mif\u001b[0m \u001b[0mi\u001b[0m\u001b[0;34m>\u001b[0m\u001b[0;36m0\u001b[0m\u001b[0;34m:\u001b[0m\u001b[0;34m\u001b[0m\u001b[0m\n\u001b[1;32m      9\u001b[0m                 \u001b[0mprint\u001b[0m\u001b[0;34m(\u001b[0m\u001b[0mnums\u001b[0m\u001b[0;34m[\u001b[0m\u001b[0;36m0\u001b[0m\u001b[0;34m]\u001b[0m\u001b[0;34m)\u001b[0m\u001b[0;34m\u001b[0m\u001b[0m\n\u001b[0;32m---> 10\u001b[0;31m                 \u001b[0;32mwhile\u001b[0m \u001b[0mnums\u001b[0m\u001b[0;34m[\u001b[0m\u001b[0mi\u001b[0m\u001b[0;34m]\u001b[0m\u001b[0;34m==\u001b[0m\u001b[0mnums\u001b[0m\u001b[0;34m[\u001b[0m\u001b[0mi\u001b[0m\u001b[0;34m-\u001b[0m\u001b[0;36m1\u001b[0m\u001b[0;34m]\u001b[0m\u001b[0;34m:\u001b[0m \u001b[0mi\u001b[0m\u001b[0;34m+=\u001b[0m\u001b[0;36m1\u001b[0m\u001b[0;34m\u001b[0m\u001b[0m\n\u001b[0m\u001b[1;32m     11\u001b[0m \u001b[0;34m\u001b[0m\u001b[0m\n\u001b[1;32m     12\u001b[0m             \u001b[0mf\u001b[0m\u001b[0;34m=\u001b[0m\u001b[0mi\u001b[0m\u001b[0;34m+\u001b[0m\u001b[0;36m1\u001b[0m\u001b[0;34m\u001b[0m\u001b[0m\n",
      "\u001b[0;31mIndexError\u001b[0m: list index out of range"
     ],
     "output_type": "error"
    }
   ],
   "source": [
    "class Solution:\n",
    "    def fourSum(self, nums, target: int):\n",
    "        nums.sort()\n",
    "        re = []\n",
    "        \n",
    "        for i in range(len(nums)):\n",
    "            if i<len(nums)\n",
    "            \n",
    "            f=i+1\n",
    "            while f<len(nums)-1:\n",
    "                l=f+1\n",
    "                r=len(nums)-1\n",
    "                while l<r:\n",
    "                    s = nums[i]+nums[f]+nums[l]+nums[r] - target\n",
    "                    if s==0:\n",
    "                        re.append([nums[i],nums[f],nums[l],nums[r]])\n",
    "                        r-=1\n",
    "                        l+=1\n",
    "                        # l r去重\n",
    "                        while l<r and nums[l] == nums[l-1]: l+=1\n",
    "                        while l<r and nums[r] == nums[r+1]: r-=1\n",
    "                    elif s>0:\n",
    "                        r-=1\n",
    "                    else:\n",
    "                        l+=1\n",
    "                # f去重\n",
    "                f+=1\n",
    "                while f<len(nums)-1 and nums[f] == nums[f-1]:f+=1\n",
    "        return re\n",
    "    \n",
    "S = Solution()\n",
    "S.fourSum([0,0], 0)"
   ]
  },
  {
   "cell_type": "markdown",
   "metadata": {},
   "source": [
    "# 23 合并K个排序链表\n",
    "合并 k 个排序链表，返回合并后的排序链表。请分析和描述算法的复杂度。\n",
    "\n",
    "示例:\n",
    "\n",
    "输入:\n",
    "```\n",
    "[\n",
    "  1->4->5,\n",
    "  1->3->4,\n",
    "  2->6\n",
    "]\n",
    "```\n",
    "输出: 1->1->2->3->4->4->5->6"
   ]
  },
  {
   "cell_type": "code",
   "execution_count": null,
   "metadata": {},
   "outputs": [],
   "source": [
    "# 普通法\n",
    "# 执行用时 : 112 ms, 在Merge k Sorted Lists的Python3提交中击败了70.85% 的用户\n",
    "# 内存消耗 : 17.3 MB, 在Merge k Sorted Lists的Python3提交中击败了4.16% 的用户\n",
    "class Solution:\n",
    "    def mergeKLists(self, lists: List[ListNode]) -> ListNode:\n",
    "        head = ListNode(None)\n",
    "        cur = head\n",
    "        \n",
    "        nodes = []\n",
    "        for listnode in lists:\n",
    "            while listnode:\n",
    "                nodes.append(listnode.val)\n",
    "                listnode = listnode.next\n",
    "        \n",
    "        nodes = sorted(nodes)\n",
    "        for val in nodes:\n",
    "            cur.next = ListNode(val)\n",
    "            cur = cur.next\n",
    "            \n",
    "        return head.next"
   ]
  },
  {
   "cell_type": "code",
   "execution_count": 275,
   "metadata": {},
   "outputs": [
    {
     "name": "stdout",
     "output_type": "stream",
     "text": [
      "Next word aa ['ba', 'ba']\n"
     ]
    },
    {
     "data": {
      "text/plain": [
       "[]"
      ]
     },
     "execution_count": 275,
     "metadata": {},
     "output_type": "execute_result"
    }
   ],
   "source": [
    "class Solution:\n",
    "    def findSubstring(self, s: str, words):\n",
    "        length = len(words[0])\n",
    "        word_nums = len(words)\n",
    "        \n",
    "        r = []\n",
    "        w = words.copy()\n",
    "        \n",
    "        i = 0\n",
    "        while i < len(s):\n",
    "            while s[i:i+length] in w:\n",
    "                w.remove(s[i:i+length])\n",
    "                i+= length\n",
    "                \n",
    "            if len(w)==0: \n",
    "                start_index = i - (word_nums)*length\n",
    "                print('find',start_index, s[start_index:start_index+length*word_nums])\n",
    "                r.append(start_index)\n",
    "                w.append(s[start_index:start_index+length])\n",
    "                \n",
    "                if len(set(''.join(words))) == 1 and length > 1: i-=1\n",
    "            elif s[i:i+length] in words:\n",
    "                w = words.copy()\n",
    "                i2 = i\n",
    "                while s[i2:i2+length] in w:\n",
    "                    w.remove(s[i2:i2+length])\n",
    "                    i2-= length\n",
    "                i+=length\n",
    "                print('Next word',s[i:i+length],w)\n",
    "            else:\n",
    "                w = words.copy()\n",
    "                i+=1\n",
    "        return r\n",
    "    \n",
    "# Solution().findSubstring(\"barfoothefoobarman\",[\"foo\",\"bar\"])\n",
    "# Solution().findSubstring(\"barfoofoobarthefoobarman\",[\"bar\",\"foo\",\"the\"])\n",
    "# Solution().findSubstring(\"wordgoodgoodgoodbestword\",[\"word\",\"good\",\"best\",\"good\"])\n",
    "\n",
    "# Solution().findSubstring(\"aaaaaaaaaaaaa\",[\"aa\",\"aa\",\"aa\"])\n",
    "Solution().findSubstring(\"ababaab\",[\"ab\",\"ba\",\"ba\"])"
   ]
  },
  {
   "cell_type": "code",
   "execution_count": 294,
   "metadata": {},
   "outputs": [
    {
     "name": "stdout",
     "output_type": "stream",
     "text": [
      "aaa 2 2\n"
     ]
    },
    {
     "data": {
      "text/plain": [
       "[0]"
      ]
     },
     "execution_count": 294,
     "metadata": {},
     "output_type": "execute_result"
    }
   ],
   "source": [
    "class Solution:\n",
    "    def findSubstring(self, s: str, words):\n",
    "        if s =='' or len(words) == 0: return []\n",
    "        word_length = len(words[0])\n",
    "        word_nums = len(words)\n",
    "        hash_ = {}\n",
    "        ret = []\n",
    "        \n",
    "        for word in words:\n",
    "            hash_[word] = hash_.get(word,0)+1\n",
    "            \n",
    "        match_array = []\n",
    "        for i in range(len(s)):\n",
    "            word = s[i:i+word_length]\n",
    "            if hash_.get(word):\n",
    "                match_array.append(word)\n",
    "            else:\n",
    "                match_array.append(None)\n",
    "        \n",
    "        for i in range(len(s)-word_length*word_nums+1):\n",
    "            if not match_array[i]: continue\n",
    "            \n",
    "            # 只把必须位置的取出来\n",
    "            match_words = [match_array[i+j*word_length] for j in range(word_nums)]\n",
    "            count = 0\n",
    "            for k,v in hash_.items():\n",
    "                if v == match_words.count(k): count+=1\n",
    "                # print(k,v,match_words.count(k))\n",
    "            \n",
    "            # 合并重复性单词\n",
    "            if count == len(set(words)): ret.append(i)\n",
    "                \n",
    "        return ret\n",
    "    \n",
    "# Solution().findSubstring(\"barfoothefoobarman\",[\"foo\",\"bar\"])\n",
    "# Solution().findSubstring(\"barfoofoobarthefoobarman\",[\"bar\",\"foo\",\"the\"])\n",
    "# Solution().findSubstring(\"wordgoodgoodgoodbestword\",[\"word\",\"good\",\"best\",\"good\"])\n",
    "\n",
    "# Solution().findSubstring(\"aaaaaaaaaaaaa\",[\"aa\",\"aa\",\"aa\"])\n",
    "# Solution().findSubstring(\"ababa\",[\"ab\"])\n",
    "\n",
    "Solution().findSubstring(\"aaaaaa\",[\"aaa\",\"aaa\"])\n"
   ]
  },
  {
   "cell_type": "code",
   "execution_count": 351,
   "metadata": {},
   "outputs": [
    {
     "name": "stdout",
     "output_type": "stream",
     "text": [
      "[1, 1]\n",
      "[1, 1, 5]\n"
     ]
    }
   ],
   "source": [
    "class Solution:\n",
    "    def nextPermutation(self, nums):\n",
    "        \"\"\"\n",
    "        Do not return anything, modify nums in-place instead.\n",
    "        \"\"\"\n",
    "        hash_ = [1 if nums[i] >= nums[i+1] else 0  for i in range(len(nums)-1)]\n",
    "        \n",
    "        print(hash_)\n",
    "        if set(hash_)== {1}:\n",
    "            for j in range(len(nums)-2, -1, -1):\n",
    "                nums.append(nums.pop(j))\n",
    "        else:\n",
    "            index = len(nums)-2-hash_[::-1].index(0)\n",
    "            \n",
    "            j = index+1\n",
    "            while j<len(nums) and nums[index] < nums[j] :\n",
    "                j+=1\n",
    "            \n",
    "            nums[index], nums[j-1] = nums[j-1], nums[index]\n",
    "            nums[index+1:] = sorted(nums[index+1:])\n",
    "        print(nums)\n",
    "        \n",
    "\n",
    "# Solution().nextPermutation([7,0,1,5,4,3,2])\n",
    "Solution().nextPermutation([5,1,1])"
   ]
  },
  {
   "cell_type": "code",
   "execution_count": 371,
   "metadata": {},
   "outputs": [
    {
     "data": {
      "text/plain": [
       "4"
      ]
     },
     "execution_count": 371,
     "metadata": {},
     "output_type": "execute_result"
    }
   ],
   "source": [
    "class Solution:\n",
    "    def longestValidParentheses(self, s: str) -> int:\n",
    "        max_length = 0\n",
    "        length = 0\n",
    "        stack = []\n",
    "        \n",
    "        for i in s:\n",
    "            if i == '(': \n",
    "                stack.append(i)\n",
    "            else:\n",
    "                if stack:\n",
    "                    length+=2\n",
    "                    stack.pop()\n",
    "                else:\n",
    "                    if max_length<length:\n",
    "                        max_length = length\n",
    "        if max_length<length:\n",
    "            max_length = length\n",
    "        return max_length\n",
    "        \n",
    "Solution().longestValidParentheses('()(()')"
   ]
  },
  {
   "cell_type": "code",
   "execution_count": 450,
   "metadata": {},
   "outputs": [
    {
     "name": "stdout",
     "output_type": "stream",
     "text": [
      "[3, 1] 3\n"
     ]
    },
    {
     "data": {
      "text/plain": [
       "1"
      ]
     },
     "execution_count": 450,
     "metadata": {},
     "output_type": "execute_result"
    }
   ],
   "source": [
    "class Solution:\n",
    "    def search(self, nums, target: int) -> int:\n",
    "        l,r = 0,len(nums)-1\n",
    "        \n",
    "        while l<r:\n",
    "            mid = (l+r) // 2\n",
    "            \n",
    "            print(nums[l:r+1], nums[mid])\n",
    "            \n",
    "            if nums[mid] == target: return mid\n",
    "            if nums[l] == target: return l\n",
    "            if nums[r] == target: return r\n",
    "            \n",
    "            if nums[l]<nums[mid]:\n",
    "                if nums[l]<=target<nums[mid]:\n",
    "                    r = mid-1\n",
    "                else:\n",
    "                    l = mid+1\n",
    "            else:\n",
    "                if nums[mid]<target<=nums[r]:\n",
    "                    l = mid+1\n",
    "                else:\n",
    "                    r = mid-1 \n",
    "                    print(l,r)\n",
    "        return -1\n",
    "    \n",
    "    \n",
    "Solution().search([3, 1],1)"
   ]
  },
  {
   "cell_type": "code",
   "execution_count": 468,
   "metadata": {},
   "outputs": [
    {
     "data": {
      "text/plain": [
       "[0, 0]"
      ]
     },
     "execution_count": 468,
     "metadata": {},
     "output_type": "execute_result"
    }
   ],
   "source": [
    "class Solution:\n",
    "    def searchRange(self, nums, target: int):\n",
    "        if len(nums) == 0: return [-1,-1]\n",
    "        \n",
    "        l,r = 0, len(nums)-1\n",
    "        while l<=r:\n",
    "            mid = (l+r) // 2\n",
    "            \n",
    "            if nums[mid] == target:\n",
    "                i,j = mid,mid\n",
    "                while i>-1 and nums[i] == nums[mid]:\n",
    "                    i-=1\n",
    "                while j<len(nums) and nums[j] == nums[mid]:\n",
    "                    j+=1\n",
    "                return [i+1, j-1]\n",
    "            \n",
    "            if target<nums[mid]:\n",
    "                r = mid-1\n",
    "            else:\n",
    "                l = mid+1\n",
    "        return [-1,-1]\n",
    "Solution().searchRange([2], 2)"
   ]
  },
  {
   "cell_type": "code",
   "execution_count": 475,
   "metadata": {},
   "outputs": [
    {
     "name": "stdout",
     "output_type": "stream",
     "text": [
      "5\n"
     ]
    },
    {
     "data": {
      "text/plain": [
       "<__main__.EditDIstance at 0x7f4db828f710>"
      ]
     },
     "execution_count": 475,
     "metadata": {},
     "output_type": "execute_result"
    }
   ],
   "source": [
    "import numpy as np\n",
    "\n",
    "class EditDIstance:\n",
    "    def __init__(self):\n",
    "        print(self.get(\"how do you turn this on?\", \"how do you do?\", stop=5))\n",
    "    \n",
    "    def get(self, s1, s2, i1=0, i2=0, stop=2**32-1, cache=[]):\n",
    "        if len(cache)==0:\n",
    "            cache = np.ones([len(s1),len(s2)]) * -1\n",
    "        \n",
    "        if i1 == len(s1): return len(s2) - i2\n",
    "        if i2 == len(s2): return len(s1) - i1\n",
    "        if stop==0: return 0\n",
    "        if cache[i1,i2]!=-1: return cache[i1,i2]\n",
    "        \n",
    "        min_num = stop\n",
    "        if s1[i1] == s2[i2]:\n",
    "            min_num = min(min_num, self.get(s1,s2,i1+1,i2+1,stop,cache))\n",
    "        else:\n",
    "            min_num = min(min_num, self.get(s1,s2,i1+1,i2+1,stop-1,cache)+1)\n",
    "        \n",
    "        min_num = min(min_num, self.get(s1,s2,i1,i2+1,stop-1,cache)+1)\n",
    "        min_num = min(min_num, self.get(s1,s2,i1+1,i2,stop-1,cache)+1)\n",
    "        cache[i1][i2] = min_num\n",
    "        return min_num\n",
    "\n",
    "EditDIstance()"
   ]
  },
  {
   "cell_type": "code",
   "execution_count": 516,
   "metadata": {},
   "outputs": [
    {
     "data": {
      "text/plain": [
       "False"
      ]
     },
     "execution_count": 516,
     "metadata": {},
     "output_type": "execute_result"
    }
   ],
   "source": [
    "class Solution:\n",
    "    def isValidSudoku(self, board) -> bool:\n",
    "        for i in range(9):\n",
    "            row_chars = []\n",
    "            col_chars = []\n",
    "            for j in range(9):\n",
    "                if board[i][j] != '.' and board[i][j] in row_chars:\n",
    "                    return False\n",
    "                else:\n",
    "                    row_chars.append(board[i][j])\n",
    "                \n",
    "                if board[j][i] != '.' and board[j][i] in col_chars:\n",
    "                    return False\n",
    "                else:\n",
    "                    col_chars.append(board[j][i])\n",
    "                    \n",
    "                \n",
    "                if i%3==0 and j%3==0:\n",
    "                    box_chars = []\n",
    "                    for m in range(i,i+3):\n",
    "                        for n in range(j, j+3):\n",
    "                            if board[m][n] != '.' and board[m][n] in box_chars:\n",
    "                                return False\n",
    "                            else:\n",
    "                                box_chars.append(board[m][n])       \n",
    "        return True\n",
    "        \n",
    "# Solution().isValidSudoku([[\".\",\".\",\"4\",\".\",\".\",\".\",\"6\",\"3\",\".\"],\n",
    "#                           [\".\",\".\",\".\",\".\",\".\",\".\",\".\",\".\",\".\"],\n",
    "#                           [\"5\",\".\",\".\",\".\",\".\",\".\",\".\",\"9\",\".\"],\n",
    "#                           [\".\",\".\",\".\",\"5\",\"6\",\".\",\".\",\".\",\".\"],\n",
    "#                           [\"4\",\".\",\"3\",\".\",\".\",\".\",\".\",\".\",\"1\"],\n",
    "#                           [\".\",\".\",\".\",\"7\",\".\",\".\",\".\",\".\",\".\"],\n",
    "#                           [\".\",\".\",\".\",\"5\",\".\",\".\",\".\",\".\",\".\"],\n",
    "#                           [\".\",\".\",\".\",\".\",\".\",\".\",\".\",\".\",\".\"],\n",
    "#                           [\".\",\".\",\".\",\".\",\".\",\".\",\".\",\".\",\".\"]])\n",
    "Solution().isValidSudoku([\n",
    "  [\"8\",\"3\",\".\",\".\",\"7\",\".\",\".\",\".\",\".\"],\n",
    "  [\"6\",\".\",\".\",\"1\",\"9\",\"5\",\".\",\".\",\".\"],\n",
    "  [\".\",\"9\",\"8\",\".\",\".\",\".\",\".\",\"6\",\".\"],\n",
    "  [\"8\",\".\",\".\",\".\",\"6\",\".\",\".\",\".\",\"3\"],\n",
    "  [\"4\",\".\",\".\",\"8\",\".\",\"3\",\".\",\".\",\"1\"],\n",
    "  [\"7\",\".\",\".\",\".\",\"2\",\".\",\".\",\".\",\"6\"],\n",
    "  [\".\",\"6\",\".\",\".\",\".\",\".\",\"2\",\"8\",\".\"],\n",
    "  [\".\",\".\",\".\",\"4\",\"1\",\"9\",\".\",\".\",\"5\"],\n",
    "  [\".\",\".\",\".\",\".\",\"8\",\".\",\".\",\"7\",\"9\"]\n",
    "])"
   ]
  },
  {
   "cell_type": "code",
   "execution_count": 506,
   "metadata": {},
   "outputs": [
    {
     "data": {
      "text/plain": [
       "[['6', '.', '.', '1', '9', '5', '.', '.', '.'],\n",
       " ['.', '9', '8', '.', '.', '.', '.', '6', '.']]"
      ]
     },
     "execution_count": 506,
     "metadata": {},
     "output_type": "execute_result"
    }
   ],
   "source": [
    "board = [\n",
    "  [\"5\",\"3\",\".\",\".\",\"7\",\".\",\".\",\".\",\".\"],\n",
    "  [\"6\",\".\",\".\",\"1\",\"9\",\"5\",\".\",\".\",\".\"],\n",
    "  [\".\",\"9\",\"8\",\".\",\".\",\".\",\".\",\"6\",\".\"],\n",
    "  [\"8\",\".\",\".\",\".\",\"6\",\".\",\".\",\".\",\"3\"],\n",
    "  [\"4\",\".\",\".\",\"8\",\".\",\"3\",\".\",\".\",\"1\"],\n",
    "  [\"7\",\".\",\".\",\".\",\"2\",\".\",\".\",\".\",\"6\"],\n",
    "  [\".\",\"6\",\".\",\".\",\".\",\".\",\"2\",\"8\",\".\"],\n",
    "  [\".\",\".\",\".\",\"4\",\"1\",\"9\",\".\",\".\",\"5\"],\n",
    "  [\".\",\".\",\".\",\".\",\"8\",\".\",\".\",\"7\",\"9\"],\n",
    "]\n",
    "board[1:3]"
   ]
  },
  {
   "cell_type": "code",
   "execution_count": 571,
   "metadata": {},
   "outputs": [
    {
     "data": {
      "text/plain": [
       "'1'"
      ]
     },
     "execution_count": 571,
     "metadata": {},
     "output_type": "execute_result"
    }
   ],
   "source": [
    "class Solution:\n",
    "    def countAndSay(self, n: int) -> str:\n",
    "        \n",
    "        def foo(s,n):\n",
    "            if not n: return s\n",
    "            \n",
    "            s_new = ''\n",
    "            while s:\n",
    "                char = s[0]\n",
    "                count = 1\n",
    "                for i in range(1,len(s)):\n",
    "                    if s[i] == char:\n",
    "                        count += 1\n",
    "                    else:\n",
    "                        break\n",
    "                s_new += str(count)+char\n",
    "                s = s[count:]\n",
    "            return foo(s_new,n-1)\n",
    "        \n",
    "        return foo('1', n-1)\n",
    "sss = Solution().countAndSay(1)\n",
    "sss"
   ]
  },
  {
   "cell_type": "code",
   "execution_count": 620,
   "metadata": {},
   "outputs": [
    {
     "data": {
      "text/plain": [
       "[[2, 2, 2, 2], [2, 3, 3], [3, 5]]"
      ]
     },
     "execution_count": 620,
     "metadata": {},
     "output_type": "execute_result"
    }
   ],
   "source": [
    "class Solution:\n",
    "    def combinationSum(self, candidates, target: int):\n",
    "        def foo(candidates, target, curlist, result):\n",
    "            if target == 0:\n",
    "                result.append(curlist)\n",
    "                return\n",
    "            if target < candidates[0]: return\n",
    "            for i in candidates:\n",
    "                if len(curlist)>0 and i < curlist[-1]: continue\n",
    "                cur = curlist.copy()\n",
    "                cur.append(i)\n",
    "                foo(candidates, target-i, cur, result)\n",
    "        \n",
    "        r = []\n",
    "        foo(candidates, target, [], r)\n",
    "        return r\n",
    "Solution().combinationSum([2,3,5],8)"
   ]
  },
  {
   "cell_type": "code",
   "execution_count": 637,
   "metadata": {},
   "outputs": [
    {
     "data": {
      "text/plain": [
       "[[1, 1, 6], [1, 2, 5], [1, 7], [2, 6]]"
      ]
     },
     "execution_count": 637,
     "metadata": {},
     "output_type": "execute_result"
    }
   ],
   "source": [
    "\"\"\"\n",
    "组合总和 II\n",
    "\"\"\"\n",
    "class Solution:\n",
    "    def combinationSum2(self, candidates, target: int):\n",
    "        def foo(candidates, target, curlist, res):\n",
    "            if target == 0:\n",
    "                res.append(curlist)\n",
    "                \n",
    "            if len(candidates)== 0 or target<candidates[0]: return\n",
    "            \n",
    "            for i in range(len(candidates)):\n",
    "                if i>0 and candidates[i] == candidates[i-1]: continue\n",
    "                tmp = curlist.copy()\n",
    "                tmp.append(candidates[i])\n",
    "                foo(candidates[i+1:], target-candidates[i], tmp, res)\n",
    "        r = []\n",
    "        candidates.sort()\n",
    "        foo(candidates, target, [], r)\n",
    "        return r\n",
    "Solution().combinationSum2([10,1,2,7,6,1,5],8)"
   ]
  },
  {
   "cell_type": "code",
   "execution_count": 668,
   "metadata": {},
   "outputs": [
    {
     "name": "stdout",
     "output_type": "stream",
     "text": [
      "[-1, 4, 2, 1, 9, 10]\n",
      "[-1, 1, 2, 4, 9, 10]\n",
      "[-1, 2, 1, 4, 9, 10]\n",
      "[-1, 2, 1, 4, 9, 10]\n",
      "[-1, 2, 1, 4, 9, 10]\n",
      "[-1, 2, 1, 4, 9, 10]\n"
     ]
    },
    {
     "data": {
      "text/plain": [
       "1"
      ]
     },
     "execution_count": 668,
     "metadata": {},
     "output_type": "execute_result"
    }
   ],
   "source": [
    "\"\"\"\n",
    "缺失的第一个正数\n",
    "\"\"\"\n",
    "class Solution:\n",
    "    def firstMissingPositive(self, nums) -> int:\n",
    "#         tag = list(range(1, len(nums)+2))\n",
    "#         [tag.remove(i) for i in nums if i in tag]\n",
    "#         return tag[0]\n",
    "        for i in range(len(nums)):\n",
    "            if 0<nums[i]<len(nums):\n",
    "                nums[nums[i]-1], nums[i] = nums[i], nums[nums[i]-1]\n",
    "                \n",
    "            print(nums)\n",
    "        for i in range(len(nums)):\n",
    "            if i!=nums[i]-1:\n",
    "                return i+1\n",
    "        return len(nums)+1\n",
    "\n",
    "Solution().firstMissingPositive([-1,4,2,1,9,10])"
   ]
  },
  {
   "cell_type": "code",
   "execution_count": 691,
   "metadata": {},
   "outputs": [
    {
     "data": {
      "text/plain": [
       "'132'"
      ]
     },
     "execution_count": 691,
     "metadata": {},
     "output_type": "execute_result"
    }
   ],
   "source": [
    "# 43. 字符串相乘\n",
    "\n",
    "class Solution:\n",
    "    def multiply(self, num1: str, num2: str) -> str:\n",
    "        if num1 == '0' or num2== '0': return '0'\n",
    "        num1 = num1[::-1]\n",
    "        num2 = num2[::-1]\n",
    "        \n",
    "        int1 = 0\n",
    "        for i in range(len(num1)):\n",
    "            int1 += 10 ** i * (ord(num1[i]) - ord('0'))\n",
    "        \n",
    "        int2 = 0\n",
    "        for i in range(len(num2)):\n",
    "            int2 += 10 ** i * (ord(num2[i]) - ord('0'))\n",
    "        \n",
    "        result = int1 * int2\n",
    "        string = ''\n",
    "        \n",
    "        while result:\n",
    "            char = result%10\n",
    "            string+=chr(char+ord('0'))\n",
    "            result = result //10\n",
    "        \n",
    "        return string[::-1]\n",
    "Solution().multiply('12','11')"
   ]
  },
  {
   "cell_type": "code",
   "execution_count": 693,
   "metadata": {},
   "outputs": [
    {
     "data": {
      "text/plain": [
       "[[1, 2, 3], [1, 3, 2], [2, 1, 3], [2, 3, 1], [3, 1, 2], [3, 2, 1]]"
      ]
     },
     "execution_count": 693,
     "metadata": {},
     "output_type": "execute_result"
    }
   ],
   "source": [
    "\"\"\"\n",
    "全排列\n",
    "\"\"\"\n",
    "class Solution:\n",
    "    def permute(self, nums):\n",
    "        def foo(nums, curlist, result):\n",
    "            if len(nums) == 0: \n",
    "                result.append(curlist)\n",
    "                return\n",
    "            \n",
    "            for i in nums:\n",
    "                nums_new = nums.copy()\n",
    "                nums_new.remove(i)\n",
    "                tmp = curlist.copy()\n",
    "                tmp.append(i)\n",
    "                foo(nums_new, tmp, result)\n",
    "        \n",
    "        re = []\n",
    "        foo(nums, [], re)\n",
    "        return re\n",
    "Solution().permute([1,2,3])"
   ]
  },
  {
   "cell_type": "code",
   "execution_count": 743,
   "metadata": {},
   "outputs": [
    {
     "name": "stdout",
     "output_type": "stream",
     "text": [
      "\n",
      "Layer:  0\n",
      "0 2 3\n",
      "2 2 9\n",
      "2 0 7\n",
      "0 0 1\n",
      "[[7, 2, 1], [4, 5, 6], [9, 8, 3]]\n",
      "1 2 6\n",
      "2 1 8\n",
      "1 0 4\n",
      "0 1 2\n",
      "[[7, 4, 1], [8, 5, 2], [9, 6, 3]]\n"
     ]
    },
    {
     "data": {
      "text/plain": [
       "'\\n[\\n  [15,13, 2, 5],\\n  [14, 3, 4, 1],\\n  [12, 6, 8, 9],\\n  [16, 7,10,11]\\n]\\n'"
      ]
     },
     "execution_count": 743,
     "metadata": {},
     "output_type": "execute_result"
    }
   ],
   "source": [
    "#  旋转图像\n",
    "class Solution:\n",
    "    def rotate(self, matrix) -> None:\n",
    "        \"\"\"\n",
    "        Do not return anything, modify matrix in-place instead.\n",
    "        \"\"\"\n",
    "        lens = len(matrix[0])\n",
    "        i,j,step = 0,0,0\n",
    "        \n",
    "        for layer in range(lens//2):\n",
    "            print()\n",
    "            print('Layer: ',layer)\n",
    "            i,step = layer,0\n",
    "            for j in range(layer, layer+lens-2*layer-1):\n",
    "                cur = matrix[i][j]\n",
    "                i = layer\n",
    "                for step in range(4):\n",
    "                    matrix[j][lens-i-1], cur = cur, matrix[j][lens-i-1]\n",
    "                    i,j = j,lens-i-1\n",
    "                    print(i,j,cur)\n",
    "                print(matrix)\n",
    "Solution().rotate([\n",
    "  [1,2,3],\n",
    "  [4,5,6],\n",
    "  [7,8,9]\n",
    "])\n",
    "\"\"\"\n",
    "[\n",
    "  [15,13, 2, 5],\n",
    "  [14, 3, 4, 1],\n",
    "  [12, 6, 8, 9],\n",
    "  [16, 7,10,11]\n",
    "]\n",
    "\"\"\""
   ]
  },
  {
   "cell_type": "code",
   "execution_count": 746,
   "metadata": {},
   "outputs": [
    {
     "name": "stdout",
     "output_type": "stream",
     "text": [
      "[[15, 13, 2, 5], [14, 3, 4, 1], [12, 6, 8, 9], [16, 7, 10, 11]]\n"
     ]
    }
   ],
   "source": [
    "# class Solution {\n",
    "#     public void rotate(int[][] matrix) {\n",
    "#        if(matrix == null || matrix.length == 0 || matrix[0].length == 0){\n",
    "#     \t   return;\n",
    "#        }\n",
    "#        int col = matrix.length-1;\n",
    "#        for(int j=0; j<matrix.length/2; j++,col--){\n",
    "#     \t   int r = col; \n",
    "#     \t   int c = 0;\n",
    "#     \t   for(int i=j;i<col; i++){  \n",
    "#     \t\t  swap(matrix,i,j,r,i);  \n",
    "#     \t\t  swap(matrix,r,i,r-c,r);  \n",
    "#     \t\t  swap(matrix,r-c,r,j,r-c);\n",
    "#     \t\t  c++;\n",
    "#     \t   }\n",
    "#        }\n",
    "#     }\n",
    "#     private void swap(int[][]matrix,int i1,int j1,int i2,int j2){\n",
    "#     \tint temp = matrix[i1][j1];\n",
    "#     \tmatrix[i1][j1] = matrix[i2][j2];\n",
    "#     \tmatrix[i2][j2] = temp;\n",
    "#     }\n",
    "# }\n",
    "\n",
    "\n",
    "class Solution:\n",
    "    def rotate(self, matrix) -> None:\n",
    "        \"\"\"\n",
    "        Do not return anything, modify matrix in-place instead.\n",
    "        \"\"\"\n",
    "        col = len(matrix) - 1\n",
    "        for j in range(0, len(matrix)//2):\n",
    "            r = col\n",
    "            c = 0\n",
    "            for i in range(j,col):\n",
    "                matrix[i][j], matrix[r][i] = matrix[r][i], matrix[i][j]\n",
    "                matrix[r][i], matrix[r-c][r] = matrix[r-c][r], matrix[r][i]\n",
    "                matrix[r-c][r], matrix[j][r-c] = matrix[j][r-c], matrix[r-c][r]\n",
    "                c+=1\n",
    "            col-=1\n",
    "        print(matrix)\n",
    "        \n",
    "Solution().rotate([\n",
    "  [ 5, 1, 9,11],\n",
    "  [ 2, 4, 8,10],\n",
    "  [13, 3, 6, 7],\n",
    "  [15,14,12,16]\n",
    "])\n"
   ]
  },
  {
   "cell_type": "markdown",
   "metadata": {},
   "source": [
    "# 字母异位词分组"
   ]
  },
  {
   "cell_type": "code",
   "execution_count": 799,
   "metadata": {},
   "outputs": [
    {
     "data": {
      "text/plain": [
       "dict_values([['ill'], ['buy'], ['pew'], ['doc'], ['duh'], ['tin'], ['may'], ['max'], ['bar'], ['cab']])"
      ]
     },
     "execution_count": 799,
     "metadata": {},
     "output_type": "execute_result"
    }
   ],
   "source": [
    "strs = [\"cab\",\"tin\",\"pew\",\"duh\",\"may\",\"ill\",\"buy\",\"bar\",\"max\",\"doc\"]\n",
    "ans = collections.defaultdict(list)\n",
    "for s in strs:\n",
    "    count = [0]*26\n",
    "    for c in s:\n",
    "        count[ord(c) - ord('a')] += 1\n",
    "    ans[tuple(count)].append(s)\n",
    "ans.values()"
   ]
  },
  {
   "cell_type": "markdown",
   "metadata": {},
   "source": [
    "# 最大子序列和"
   ]
  },
  {
   "cell_type": "code",
   "execution_count": 827,
   "metadata": {},
   "outputs": [
    {
     "data": {
      "text/plain": [
       "-6.0"
      ]
     },
     "execution_count": 827,
     "metadata": {},
     "output_type": "execute_result"
    }
   ],
   "source": [
    "nums = [-1.-2.-3]\n",
    "for i in range(1, len(nums)):\n",
    "    nums[i] = nums[i] + max(nums[i-1], 0)\n",
    "max(nums)"
   ]
  },
  {
   "cell_type": "code",
   "execution_count": 832,
   "metadata": {},
   "outputs": [
    {
     "data": {
      "text/plain": [
       "7"
      ]
     },
     "execution_count": 832,
     "metadata": {},
     "output_type": "execute_result"
    }
   ],
   "source": [
    "nums = [1,2,3,-7,8]\n",
    "for i in range(1, len(nums)):\n",
    "    nums[i]= nums[i] + max(nums[i-1], -9999)\n",
    "max(nums)"
   ]
  },
  {
   "cell_type": "code",
   "execution_count": 838,
   "metadata": {},
   "outputs": [
    {
     "data": {
      "text/plain": [
       "8"
      ]
     },
     "execution_count": 838,
     "metadata": {},
     "output_type": "execute_result"
    }
   ],
   "source": [
    "def maxSubArray(nums):\n",
    "    res = nums[0]\n",
    "    sum_ = 0\n",
    "    for num in nums:\n",
    "        if sum_ > 0:\n",
    "            sum_ += num;\n",
    "        else:\n",
    "            sum_ = num;\n",
    "        res = max(res,sum_)\n",
    "    return res\n",
    "\n",
    "maxSubArray([1,2,3,-7,8])"
   ]
  },
  {
   "cell_type": "markdown",
   "metadata": {},
   "source": [
    "# 螺旋矩阵"
   ]
  },
  {
   "cell_type": "code",
   "execution_count": 866,
   "metadata": {},
   "outputs": [
    {
     "name": "stdout",
     "output_type": "stream",
     "text": [
      "1 3 1\n",
      "r 1\n",
      "r 2\n",
      "r 3\n",
      "l 2\n"
     ]
    },
    {
     "data": {
      "text/plain": [
       "[1, 2, 3]"
      ]
     },
     "execution_count": 866,
     "metadata": {},
     "output_type": "execute_result"
    }
   ],
   "source": [
    "class Solution:\n",
    "    def spiralOrder(self, matrix):\n",
    "        rows = len(matrix)\n",
    "        cols = len(matrix[0])\n",
    "        circles = min(rows, cols)//2+1\n",
    "        res = []\n",
    "        \n",
    "        print(rows,cols,circles)\n",
    "        \n",
    "        for c in range(circles):\n",
    "            \n",
    "            # right\n",
    "            for j in range(c, cols-c):\n",
    "                res.append(matrix[c][j])\n",
    "                print('r',matrix[c][j])\n",
    "            \n",
    "            # down\n",
    "            for i in range(c+1, rows-c):\n",
    "                res.append(matrix[i][cols-c-1])\n",
    "                print('d',matrix[i][cols-c-1])\n",
    "                \n",
    "            # left\n",
    "            for j in range(cols-c-2, c, -1):\n",
    "                res.append(matrix[rows-c-1][j])\n",
    "                print('l',matrix[rows-c-1][j])\n",
    "            # up\n",
    "            for i in range(rows-c-1, c, -1):\n",
    "                res.append(matrix[i][c])\n",
    "                print('u',matrix[i][c])\n",
    "        res = res[:rows*cols]\n",
    "        return res\n",
    "    \n",
    "Solution().spiralOrder([[1,2,3]])"
   ]
  },
  {
   "cell_type": "markdown",
   "metadata": {},
   "source": [
    "# 螺旋矩阵II"
   ]
  },
  {
   "cell_type": "code",
   "execution_count": 988,
   "metadata": {},
   "outputs": [
    {
     "name": "stdout",
     "output_type": "stream",
     "text": [
      "0 0 -> 0 1\n",
      "0 1 -> 0 2\n",
      "0 2 -> 1 2\n",
      "1 2 -> 2 2\n",
      "2 2 -> 2 1\n",
      "2 1 -> 2 0\n",
      "2 0 -> 1 0\n",
      "1 0 -> 1 1\n",
      "1 1 -> 2 1\n"
     ]
    },
    {
     "data": {
      "text/plain": [
       "[[1, 2, 3], [8, 9, 4], [7, 6, 5]]"
      ]
     },
     "execution_count": 988,
     "metadata": {},
     "output_type": "execute_result"
    }
   ],
   "source": [
    "class Solution:\n",
    "    def generateMatrix(self, n: int): \n",
    "        result,x,y,dx,dy =[[0 for col in range(n)] for row in range(n)],0,0,0,1\n",
    "        for t in range(1,n*n+1):\n",
    "            \n",
    "            result[x][y]= t\n",
    "            if result[(x+dx)%n][(y+dy)%n]!=0 :\n",
    "                dx, dy = dy, -dx\n",
    "            x +=dx\n",
    "            y +=dy\n",
    "            print(x-dx,y-dy,'->', x,y)\n",
    "        return result\n",
    "Solution().generateMatrix(3)"
   ]
  },
  {
   "cell_type": "markdown",
   "metadata": {},
   "source": [
    "# 跳跃游戏"
   ]
  },
  {
   "cell_type": "code",
   "execution_count": 898,
   "metadata": {},
   "outputs": [
    {
     "data": {
      "text/plain": [
       "False"
      ]
     },
     "execution_count": 898,
     "metadata": {},
     "output_type": "execute_result"
    }
   ],
   "source": [
    "class Solution:\n",
    "    def canJump(self, nums) -> bool:\n",
    "\n",
    "        if len(nums) == 1: return True\n",
    "        \n",
    "        for i in range(1, nums[0]+1):\n",
    "#             if i == len(nums[i:]): return True\n",
    "            if i > len(nums): break\n",
    "            elif nums[i]!=0:\n",
    "                if self.canJump(nums[i:]):\n",
    "                    return True\n",
    "        return False\n",
    "        \n",
    "s = Solution().canJump([2,0,0]) \n",
    "s"
   ]
  },
  {
   "cell_type": "markdown",
   "metadata": {},
   "source": [
    "# 合并区间"
   ]
  },
  {
   "cell_type": "code",
   "execution_count": 955,
   "metadata": {},
   "outputs": [
    {
     "name": "stdout",
     "output_type": "stream",
     "text": [
      "True\n",
      "False\n"
     ]
    }
   ],
   "source": [
    "# Definition for an interval.\n",
    "class Interval:\n",
    "    def __init__(self, s=0, e=0):\n",
    "        self.start = s\n",
    "        self.end = e\n",
    "\n",
    "class Solution:\n",
    "    def merge(self, intervals):\n",
    "        ans = [intervals[0].start, intervals[0].end]\n",
    "        for inter in intervals[1:]:\n",
    "            cur = ans\n",
    "            cur.append(inter.start)\n",
    "            cur.append(inter.end)\n",
    "            cur.sort()\n",
    "            \n",
    "            seg = cur[cur.index(ans[0]):cur.index(ans[0])+len(ans)]\n",
    "            if ans == seg:\n",
    "                ans = cur\n",
    "            else:\n",
    "                cur\n",
    "# Solution().merge([Interval(2,3), Interval(4,5), Interval(6,7), Interval(8,9), Interval(1,5)])\n",
    "Solution().merge([Interval(1,3), Interval(6,8), Interval(2,7)])"
   ]
  },
  {
   "cell_type": "markdown",
   "metadata": {},
   "source": [
    "# 第k个排列"
   ]
  },
  {
   "cell_type": "code",
   "execution_count": 1169,
   "metadata": {},
   "outputs": [
    {
     "name": "stdout",
     "output_type": "stream",
     "text": [
      "1\n"
     ]
    },
    {
     "data": {
      "text/plain": [
       "'1'"
      ]
     },
     "execution_count": 1169,
     "metadata": {},
     "output_type": "execute_result"
    }
   ],
   "source": [
    "class Solution:\n",
    "    def getPermutation(self, n: int, k: int) -> str:\n",
    "        def foo(n):\n",
    "            res = [1]\n",
    "            while len(res)<n-1:\n",
    "                res.append(res[-1]*(len(res)+1))\n",
    "            return res[::-1]\n",
    "        \n",
    "        k -=1\n",
    "        nums = list(range(1,n+1))\n",
    "        ans = ''\n",
    "        for i in foo(n):\n",
    "            print(i)\n",
    "            m = k // i\n",
    "            n = k % i\n",
    "            \n",
    "            ans+=str(nums.pop(m))\n",
    "            k = n\n",
    "        if nums: ans+=str(nums[0])\n",
    "        \n",
    "        return ans\n",
    "    \n",
    "Solution().getPermutation(1,1)"
   ]
  },
  {
   "cell_type": "markdown",
   "metadata": {},
   "source": [
    "# 旋转链表"
   ]
  },
  {
   "cell_type": "code",
   "execution_count": 1163,
   "metadata": {},
   "outputs": [
    {
     "data": {
      "text/plain": [
       "[1, 2, 6]"
      ]
     },
     "execution_count": 1163,
     "metadata": {},
     "output_type": "execute_result"
    }
   ],
   "source": [
    "# Definition for singly-linked list.\n",
    "class ListNode:\n",
    "    def __init__(self, x):\n",
    "        self.val = x\n",
    "        self.next = None\n",
    "\n",
    "class Solution:\n",
    "    def rotateRight(self, head: ListNode, k: int) -> ListNode:\n",
    "        \n",
    "        first = head\n",
    "        cur = head\n",
    "        lens = 1\n",
    "        while cur.next:\n",
    "            cur = cur.next\n",
    "            lens+=1\n",
    "        end = cur\n",
    "        \n",
    "        k = k % lens\n",
    "        k = lens - k\n",
    "        \n",
    "        cur = head\n",
    "        for i in range(1, lens+1):\n",
    "            if i == k:\n",
    "                head = cur.next\n",
    "                cur.next = None\n",
    "                return head\n",
    "            cur = cur.next"
   ]
  },
  {
   "cell_type": "markdown",
   "metadata": {},
   "source": [
    "#  62 不同路径"
   ]
  },
  {
   "cell_type": "code",
   "execution_count": 1181,
   "metadata": {},
   "outputs": [
    {
     "name": "stdout",
     "output_type": "stream",
     "text": [
      "8 2\n",
      "7\n",
      "8\n"
     ]
    },
    {
     "data": {
      "text/plain": [
       "28"
      ]
     },
     "execution_count": 1181,
     "metadata": {},
     "output_type": "execute_result"
    }
   ],
   "source": [
    "\n",
    "m,n=7,3\n",
    "\n",
    "i = m+n-2\n",
    "j = min(m-1, n-1)\n",
    "r = 1\n",
    "print(i,j)\n",
    "for k in range(i-j+1,i+1):\n",
    "    print(k)\n",
    "    r*=k\n",
    "for k in range(1,j+1):\n",
    "    r//=k\n",
    "r"
   ]
  },
  {
   "cell_type": "markdown",
   "metadata": {},
   "source": [
    "#  63 不同路径 II"
   ]
  },
  {
   "cell_type": "code",
   "execution_count": 1209,
   "metadata": {},
   "outputs": [
    {
     "name": "stdout",
     "output_type": "stream",
     "text": [
      "[[0, 1, 0, 0], [0, 1, 1, 1], [0, 1, 2, 3], [0, 1, 3, 6]]\n"
     ]
    },
    {
     "data": {
      "text/plain": [
       "6"
      ]
     },
     "execution_count": 1209,
     "metadata": {},
     "output_type": "execute_result"
    }
   ],
   "source": [
    "class Solution:\n",
    "    def uniquePathsWithObstacles(self, obstacleGrid) -> int:\n",
    "        if not obstacleGrid or not obstacleGrid[0] or obstacleGrid[0][0]==1: return 0\n",
    "        m,n = len(obstacleGrid), len(obstacleGrid[0])\n",
    "        dp = [[0]*(n+1) for i in range(m+1)]\n",
    "        \n",
    "        dp[0][1] = 1\n",
    "        \n",
    "        for i in range(1, m+1):\n",
    "            for j in range(1, n+1):\n",
    "                if obstacleGrid[i-1][j-1] == 1: continue\n",
    "                dp[i][j] = dp[i-1][j] + dp[i][j-1]\n",
    "        print(dp)\n",
    "        return dp[m][n]\n",
    "    \n",
    "Solution().uniquePathsWithObstacles([\n",
    "  [0,0,0],\n",
    "  [0,0,0],\n",
    "  [0,0,0]\n",
    "])"
   ]
  },
  {
   "cell_type": "markdown",
   "metadata": {},
   "source": [
    "# 64 最小路径和\n",
    "原地修改DP算法"
   ]
  },
  {
   "cell_type": "code",
   "execution_count": 1253,
   "metadata": {},
   "outputs": [
    {
     "data": {
      "text/plain": [
       "7"
      ]
     },
     "execution_count": 1253,
     "metadata": {},
     "output_type": "execute_result"
    }
   ],
   "source": [
    "class Solution:\n",
    "    def minPathSum(self, grid):\n",
    "        m,n = len(grid), len(grid[0])\n",
    "\n",
    "        for i in range(m-1):\n",
    "            grid[i+1][0] = grid[i][0] + grid[i+1][0]\n",
    "        \n",
    "        for j in range(n-1):\n",
    "            grid[0][j+1] = grid[0][j] + grid[0][j+1]\n",
    "        \n",
    "        for i in range(1,m):\n",
    "            for j in range(1,n):\n",
    "                grid[i][j] = min(grid[i][j-1]+grid[i][j], grid[i-1][j]+grid[i][j])\n",
    "        return grid[m-1][n-1]\n",
    "    \n",
    "Solution().minPathSum([\n",
    "  [1,3,1],\n",
    "  [1,5,1],\n",
    "  [4,2,1]\n",
    "])"
   ]
  },
  {
   "cell_type": "markdown",
   "metadata": {},
   "source": [
    "# 65. 有效数字"
   ]
  },
  {
   "cell_type": "code",
   "execution_count": 1258,
   "metadata": {},
   "outputs": [],
   "source": [
    "class Solution:\n",
    "    def isNumber(self, s: str) -> bool:\n",
    "        try:\n",
    "            a = float(s)\n",
    "        except:\n",
    "            return False\n",
    "        return True"
   ]
  },
  {
   "cell_type": "markdown",
   "metadata": {},
   "source": [
    "# 66"
   ]
  },
  {
   "cell_type": "markdown",
   "metadata": {},
   "source": [
    "# 67 二进制求和\n"
   ]
  },
  {
   "cell_type": "code",
   "execution_count": 1279,
   "metadata": {},
   "outputs": [
    {
     "data": {
      "text/plain": [
       "'11110'"
      ]
     },
     "execution_count": 1279,
     "metadata": {},
     "output_type": "execute_result"
    }
   ],
   "source": [
    "class Solution:\n",
    "    def addBinary(self, a: str, b: str) -> str:\n",
    "        \"\"\"\n",
    "        1 无套路\n",
    "        \"\"\"\n",
    "        lens = min(len(a),len(b))\n",
    "        ans = ''\n",
    "        a = a[::-1]\n",
    "        b = b[::-1]\n",
    "        n = 0\n",
    "        for i in range(lens):\n",
    "            r = int(a[i]) + int(b[i]) + n\n",
    "            if r >= 2:\n",
    "                ans+=str(r-2)\n",
    "                n = 1\n",
    "            else:\n",
    "                ans+=str(r)\n",
    "                n = 0\n",
    "        for i in a[lens:]:\n",
    "            r = int(i)+n\n",
    "            \n",
    "            if r == 2:\n",
    "                ans+=str(r-2)\n",
    "                n = 1\n",
    "            else:\n",
    "                ans+=str(int(i)+n)\n",
    "                n = 0\n",
    "        for i in b[lens:]:\n",
    "            r = int(i)+n\n",
    "            if r == 2:\n",
    "                ans+=str(r-2)\n",
    "                n = 1\n",
    "            else:\n",
    "                ans+=str(int(i)+n)\n",
    "                n = 0\n",
    "        if n == 1: ans+='1'\n",
    "        return ans[::-1]\n",
    "        \"\"\"\n",
    "        2 套路\n",
    "        return bin(int(a,2)+int(b,2))[2:]\n",
    "        \"\"\"\n",
    "Solution().addBinary('1111','1111')"
   ]
  },
  {
   "cell_type": "markdown",
   "metadata": {},
   "source": [
    "# 68 左右文本对齐"
   ]
  },
  {
   "cell_type": "code",
   "execution_count": 1347,
   "metadata": {},
   "outputs": [
    {
     "data": {
      "text/plain": [
       "['Science  is  what we',\n",
       " 'understand      well',\n",
       " 'enough to explain to',\n",
       " 'a  computer.  Art is',\n",
       " 'everything  else  we',\n",
       " 'do                  ']"
      ]
     },
     "execution_count": 1347,
     "metadata": {},
     "output_type": "execute_result"
    }
   ],
   "source": [
    "class Solution:\n",
    "    def fullJustify(self, words, maxWidth: int):\n",
    "        # 从words中完成一行单词显示\n",
    "        def foo(nums, words, maxwidth):\n",
    "            # 单词数量\n",
    "            i = 1\n",
    "            while (sum(nums[:i])+i-1)<=maxwidth and i<=len(nums): i+=1\n",
    "            i = i-1\n",
    "            \n",
    "            string = ''\n",
    "            if i == len(words) or i==1: # 左对齐\n",
    "                for word in words[:i]:\n",
    "                    string += (word + ' ')\n",
    "                string+=' '*maxwidth\n",
    "                \n",
    "            else:  # 右对齐\n",
    "                avg_blanks = (maxwidth - sum(nums[:i]))//(i-1)\n",
    "                remainder = (maxwidth - sum(nums[:i]))%(i-1) # 多余空格处理\n",
    "\n",
    "                for word in words[:i]:\n",
    "                    string += (word + ' '*avg_blanks)\n",
    "                    if remainder:\n",
    "                        string += ' '\n",
    "                        remainder -= 1\n",
    "\n",
    "            return i, string[:maxwidth]\n",
    "            \n",
    "        word_lens = [len(word) for word in words]\n",
    "        ans = []\n",
    "        # 循环计算每行结果\n",
    "        while words:\n",
    "            i, an = foo(word_lens, words, maxWidth)\n",
    "            ans.append(an)\n",
    "            word_lens = word_lens[i:]\n",
    "            words = words[i:]\n",
    "        return ans\n",
    "Solution().fullJustify([\"Science\",\"is\",\"what\",\"we\",\"understand\",\"well\",\"enough\",\"to\",\"explain\",\"to\",\"a\",\"computer.\",\"Art\",\"is\",\"everything\",\"else\",\"we\",\"do\"],20)"
   ]
  }
 ],
 "metadata": {
  "kernelspec": {
   "display_name": "Python 3",
   "language": "python",
   "name": "python3"
  },
  "language_info": {
   "codemirror_mode": {
    "name": "ipython",
    "version": 3
   },
   "file_extension": ".py",
   "mimetype": "text/x-python",
   "name": "python",
   "nbconvert_exporter": "python",
   "pygments_lexer": "ipython3",
   "version": "3.5.2"
  }
 },
 "nbformat": 4,
 "nbformat_minor": 2
}

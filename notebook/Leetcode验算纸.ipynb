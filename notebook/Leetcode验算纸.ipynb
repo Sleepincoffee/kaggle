{
 "cells": [
  {
   "cell_type": "code",
   "execution_count": 87,
   "metadata": {},
   "outputs": [
    {
     "data": {
      "text/plain": [
       "'Abbbb'"
      ]
     },
     "execution_count": 87,
     "metadata": {},
     "output_type": "execute_result"
    }
   ],
   "source": [
    "def convert(s: str, numRows: int) -> str:   \n",
    "    if s is None or s == '': return ''\n",
    "    if numRows == 1: return s\n",
    "    period = 2*numRows-2               # 周期分2类:p1(完整numRows)，p2(剩余的尾巴)\n",
    "    sub_period = numRows-2\n",
    "    cols = (len(s)+sub_period) // period \n",
    "\n",
    "    result = []\n",
    "    tail = []\n",
    "    for i in range(period):\n",
    "        index = [i+period*p for p in range(cols+1)]\n",
    "        if i % period < numRows:\n",
    "            result.append(\"\".join([s[t] for t in index if t < len(s)]))\n",
    "        else:\n",
    "            tail.append(\"\".join([s[t] for t in index if t < len(s)]))\n",
    "    \n",
    "    for e,t in enumerate(tail):\n",
    "        print(result[numRows-2-e], tail[e])\n",
    "    \n",
    "        res = [''] * (len(result[numRows-2-e]) + len(tail[e]))\n",
    "        res[::2] = result[numRows-2-e]\n",
    "        res[1::2] = tail[e]\n",
    "        result[numRows-2-e]= ''.join(res)\n",
    "    \n",
    "    return ''.join(result)\n",
    "\n",
    "# convert(\"LEETCODEISHIRING\",4)\n",
    "# print('PAHNAPLSIIGYIR')\n",
    "convert(\"Abbbb\",1)"
   ]
  },
  {
   "cell_type": "code",
   "execution_count": 88,
   "metadata": {},
   "outputs": [
    {
     "data": {
      "text/plain": [
       "-21"
      ]
     },
     "execution_count": 88,
     "metadata": {},
     "output_type": "execute_result"
    }
   ],
   "source": [
    "import re\n",
    "re.search(r'^([+|-]?\\d+)', str.lstrip())"
   ]
  },
  {
   "cell_type": "code",
   "execution_count": 119,
   "metadata": {},
   "outputs": [
    {
     "data": {
      "text/plain": [
       "'VI'"
      ]
     },
     "execution_count": 119,
     "metadata": {},
     "output_type": "execute_result"
    }
   ],
   "source": [
    "def intToRoman(num: int) -> str:\n",
    "        s = ''\n",
    "        v = [1000,900,500,400,100,90,50,40,10,9,5,4]\n",
    "        c = ['M','CM','D','CD','C','XC','L','XL','X','IX','V','IV']\n",
    "        # d = {'I':1,'V':5,'X':10,'L':50,'C'100,'D':500,'M':1000}\n",
    "        \n",
    "        \n",
    "        \n",
    "        while len(v):\n",
    "            if num // v[0] > 0:\n",
    "                s+=c[0]*(num//v[0])\n",
    "                num = int(num%v[0])\n",
    "                \n",
    "                \n",
    "            v = v[1:]\n",
    "            c = c[1:]\n",
    "        \n",
    "        s += 'I'*num\n",
    "        return s\n",
    "    \n",
    "intToRoman(6)"
   ]
  },
  {
   "cell_type": "code",
   "execution_count": 150,
   "metadata": {},
   "outputs": [
    {
     "data": {
      "text/plain": [
       "''"
      ]
     },
     "execution_count": 150,
     "metadata": {},
     "output_type": "execute_result"
    }
   ],
   "source": [
    "\n",
    "def longestCommonPrefix(strs) -> str:\n",
    "    prefix = ''\n",
    "    i = 0\n",
    "    flag = True\n",
    "\n",
    "    while flag and strs:\n",
    "        if i == len(strs[0]): return prefix\n",
    "\n",
    "        c = strs[0][i]\n",
    "\n",
    "        for j in range(len(strs)):\n",
    "            if i >= len(strs[j]) or c != strs[j][i]:\n",
    "                return prefix\n",
    "\n",
    "        prefix+=c\n",
    "        i+=1\n",
    "\n",
    "    return prefix\n",
    "\n",
    "longestCommonPrefix([\"\"])"
   ]
  },
  {
   "cell_type": "code",
   "execution_count": 185,
   "metadata": {},
   "outputs": [
    {
     "name": "stdout",
     "output_type": "stream",
     "text": [
      "['ad', 'ae', 'af', 'bd', 'be', 'bf', 'cd', 'ce', 'cf']\n"
     ]
    }
   ],
   "source": [
    "d = {\"1\":\"1\",\"2\" : \"abc\" , \"3\" : 'def' , \"4\" : \"ghi\" , \"5\" : \"jkl\" , \"6\" : \"mno\" ,\"7\":\"pqrs\" , \"8\" : \"tuv\" , \"9\" : \"wxyz\"}\n",
    "class Solution:\n",
    "\n",
    "    def foo(self, st, re):\n",
    "        if not st: return re\n",
    "        \n",
    "        re2 = []\n",
    "        for s in st.pop():\n",
    "            re2 += [s+r for r in re]\n",
    "        \n",
    "        return self.foo(st, re2)\n",
    "    \n",
    "    def letterCombinations(self, digits: str):\n",
    "        st = [d[i] for i in digits]\n",
    "        re = ['']\n",
    "\n",
    "        print(self.foo(st, re))\n",
    "\n",
    "S = Solution()\n",
    "t = S.letterCombinations('23')\n",
    "t"
   ]
  },
  {
   "cell_type": "code",
   "execution_count": 193,
   "metadata": {},
   "outputs": [
    {
     "name": "stdout",
     "output_type": "stream",
     "text": [
      "0\n"
     ]
    },
    {
     "ename": "IndexError",
     "evalue": "list index out of range",
     "traceback": [
      "\u001b[0;31m---------------------------------------------------------------------------\u001b[0m",
      "\u001b[0;31mIndexError\u001b[0m                                Traceback (most recent call last)",
      "\u001b[0;32m<ipython-input-193-13ff661c8ba3>\u001b[0m in \u001b[0;36m<module>\u001b[0;34m()\u001b[0m\n\u001b[1;32m     33\u001b[0m \u001b[0;34m\u001b[0m\u001b[0m\n\u001b[1;32m     34\u001b[0m \u001b[0mS\u001b[0m \u001b[0;34m=\u001b[0m \u001b[0mSolution\u001b[0m\u001b[0;34m(\u001b[0m\u001b[0;34m)\u001b[0m\u001b[0;34m\u001b[0m\u001b[0m\n\u001b[0;32m---> 35\u001b[0;31m \u001b[0mS\u001b[0m\u001b[0;34m.\u001b[0m\u001b[0mfourSum\u001b[0m\u001b[0;34m(\u001b[0m\u001b[0;34m[\u001b[0m\u001b[0;36m0\u001b[0m\u001b[0;34m,\u001b[0m\u001b[0;36m0\u001b[0m\u001b[0;34m]\u001b[0m\u001b[0;34m,\u001b[0m \u001b[0;36m0\u001b[0m\u001b[0;34m)\u001b[0m\u001b[0;34m\u001b[0m\u001b[0m\n\u001b[0m",
      "\u001b[0;32m<ipython-input-193-13ff661c8ba3>\u001b[0m in \u001b[0;36mfourSum\u001b[0;34m(self, nums, target)\u001b[0m\n\u001b[1;32m      8\u001b[0m             \u001b[0;32mif\u001b[0m \u001b[0mi\u001b[0m\u001b[0;34m>\u001b[0m\u001b[0;36m0\u001b[0m\u001b[0;34m:\u001b[0m\u001b[0;34m\u001b[0m\u001b[0m\n\u001b[1;32m      9\u001b[0m                 \u001b[0mprint\u001b[0m\u001b[0;34m(\u001b[0m\u001b[0mnums\u001b[0m\u001b[0;34m[\u001b[0m\u001b[0;36m0\u001b[0m\u001b[0;34m]\u001b[0m\u001b[0;34m)\u001b[0m\u001b[0;34m\u001b[0m\u001b[0m\n\u001b[0;32m---> 10\u001b[0;31m                 \u001b[0;32mwhile\u001b[0m \u001b[0mnums\u001b[0m\u001b[0;34m[\u001b[0m\u001b[0mi\u001b[0m\u001b[0;34m]\u001b[0m\u001b[0;34m==\u001b[0m\u001b[0mnums\u001b[0m\u001b[0;34m[\u001b[0m\u001b[0mi\u001b[0m\u001b[0;34m-\u001b[0m\u001b[0;36m1\u001b[0m\u001b[0;34m]\u001b[0m\u001b[0;34m:\u001b[0m \u001b[0mi\u001b[0m\u001b[0;34m+=\u001b[0m\u001b[0;36m1\u001b[0m\u001b[0;34m\u001b[0m\u001b[0m\n\u001b[0m\u001b[1;32m     11\u001b[0m \u001b[0;34m\u001b[0m\u001b[0m\n\u001b[1;32m     12\u001b[0m             \u001b[0mf\u001b[0m\u001b[0;34m=\u001b[0m\u001b[0mi\u001b[0m\u001b[0;34m+\u001b[0m\u001b[0;36m1\u001b[0m\u001b[0;34m\u001b[0m\u001b[0m\n",
      "\u001b[0;31mIndexError\u001b[0m: list index out of range"
     ],
     "output_type": "error"
    }
   ],
   "source": [
    "class Solution:\n",
    "    def fourSum(self, nums, target: int):\n",
    "        nums.sort()\n",
    "        re = []\n",
    "        \n",
    "        for i in range(len(nums)):\n",
    "            if i<len(nums)\n",
    "            \n",
    "            f=i+1\n",
    "            while f<len(nums)-1:\n",
    "                l=f+1\n",
    "                r=len(nums)-1\n",
    "                while l<r:\n",
    "                    s = nums[i]+nums[f]+nums[l]+nums[r] - target\n",
    "                    if s==0:\n",
    "                        re.append([nums[i],nums[f],nums[l],nums[r]])\n",
    "                        r-=1\n",
    "                        l+=1\n",
    "                        # l r去重\n",
    "                        while l<r and nums[l] == nums[l-1]: l+=1\n",
    "                        while l<r and nums[r] == nums[r+1]: r-=1\n",
    "                    elif s>0:\n",
    "                        r-=1\n",
    "                    else:\n",
    "                        l+=1\n",
    "                # f去重\n",
    "                f+=1\n",
    "                while f<len(nums)-1 and nums[f] == nums[f-1]:f+=1\n",
    "        return re\n",
    "    \n",
    "S = Solution()\n",
    "S.fourSum([0,0], 0)"
   ]
  },
  {
   "cell_type": "markdown",
   "metadata": {},
   "source": [
    "# 23 合并K个排序链表\n",
    "合并 k 个排序链表，返回合并后的排序链表。请分析和描述算法的复杂度。\n",
    "\n",
    "示例:\n",
    "\n",
    "输入:\n",
    "```\n",
    "[\n",
    "  1->4->5,\n",
    "  1->3->4,\n",
    "  2->6\n",
    "]\n",
    "```\n",
    "输出: 1->1->2->3->4->4->5->6"
   ]
  },
  {
   "cell_type": "code",
   "execution_count": null,
   "metadata": {},
   "outputs": [],
   "source": [
    "# 普通法\n",
    "# 执行用时 : 112 ms, 在Merge k Sorted Lists的Python3提交中击败了70.85% 的用户\n",
    "# 内存消耗 : 17.3 MB, 在Merge k Sorted Lists的Python3提交中击败了4.16% 的用户\n",
    "class Solution:\n",
    "    def mergeKLists(self, lists: List[ListNode]) -> ListNode:\n",
    "        head = ListNode(None)\n",
    "        cur = head\n",
    "        \n",
    "        nodes = []\n",
    "        for listnode in lists:\n",
    "            while listnode:\n",
    "                nodes.append(listnode.val)\n",
    "                listnode = listnode.next\n",
    "        \n",
    "        nodes = sorted(nodes)\n",
    "        for val in nodes:\n",
    "            cur.next = ListNode(val)\n",
    "            cur = cur.next\n",
    "            \n",
    "        return head.next"
   ]
  },
  {
   "cell_type": "code",
   "execution_count": 275,
   "metadata": {},
   "outputs": [
    {
     "name": "stdout",
     "output_type": "stream",
     "text": [
      "Next word aa ['ba', 'ba']\n"
     ]
    },
    {
     "data": {
      "text/plain": [
       "[]"
      ]
     },
     "execution_count": 275,
     "metadata": {},
     "output_type": "execute_result"
    }
   ],
   "source": [
    "class Solution:\n",
    "    def findSubstring(self, s: str, words):\n",
    "        length = len(words[0])\n",
    "        word_nums = len(words)\n",
    "        \n",
    "        r = []\n",
    "        w = words.copy()\n",
    "        \n",
    "        i = 0\n",
    "        while i < len(s):\n",
    "            while s[i:i+length] in w:\n",
    "                w.remove(s[i:i+length])\n",
    "                i+= length\n",
    "                \n",
    "            if len(w)==0: \n",
    "                start_index = i - (word_nums)*length\n",
    "                print('find',start_index, s[start_index:start_index+length*word_nums])\n",
    "                r.append(start_index)\n",
    "                w.append(s[start_index:start_index+length])\n",
    "                \n",
    "                if len(set(''.join(words))) == 1 and length > 1: i-=1\n",
    "            elif s[i:i+length] in words:\n",
    "                w = words.copy()\n",
    "                i2 = i\n",
    "                while s[i2:i2+length] in w:\n",
    "                    w.remove(s[i2:i2+length])\n",
    "                    i2-= length\n",
    "                i+=length\n",
    "                print('Next word',s[i:i+length],w)\n",
    "            else:\n",
    "                w = words.copy()\n",
    "                i+=1\n",
    "        return r\n",
    "    \n",
    "# Solution().findSubstring(\"barfoothefoobarman\",[\"foo\",\"bar\"])\n",
    "# Solution().findSubstring(\"barfoofoobarthefoobarman\",[\"bar\",\"foo\",\"the\"])\n",
    "# Solution().findSubstring(\"wordgoodgoodgoodbestword\",[\"word\",\"good\",\"best\",\"good\"])\n",
    "\n",
    "# Solution().findSubstring(\"aaaaaaaaaaaaa\",[\"aa\",\"aa\",\"aa\"])\n",
    "Solution().findSubstring(\"ababaab\",[\"ab\",\"ba\",\"ba\"])"
   ]
  },
  {
   "cell_type": "code",
   "execution_count": 294,
   "metadata": {},
   "outputs": [
    {
     "name": "stdout",
     "output_type": "stream",
     "text": [
      "aaa 2 2\n"
     ]
    },
    {
     "data": {
      "text/plain": [
       "[0]"
      ]
     },
     "execution_count": 294,
     "metadata": {},
     "output_type": "execute_result"
    }
   ],
   "source": [
    "class Solution:\n",
    "    def findSubstring(self, s: str, words):\n",
    "        if s =='' or len(words) == 0: return []\n",
    "        word_length = len(words[0])\n",
    "        word_nums = len(words)\n",
    "        hash_ = {}\n",
    "        ret = []\n",
    "        \n",
    "        for word in words:\n",
    "            hash_[word] = hash_.get(word,0)+1\n",
    "            \n",
    "        match_array = []\n",
    "        for i in range(len(s)):\n",
    "            word = s[i:i+word_length]\n",
    "            if hash_.get(word):\n",
    "                match_array.append(word)\n",
    "            else:\n",
    "                match_array.append(None)\n",
    "        \n",
    "        for i in range(len(s)-word_length*word_nums+1):\n",
    "            if not match_array[i]: continue\n",
    "            \n",
    "            # 只把必须位置的取出来\n",
    "            match_words = [match_array[i+j*word_length] for j in range(word_nums)]\n",
    "            count = 0\n",
    "            for k,v in hash_.items():\n",
    "                if v == match_words.count(k): count+=1\n",
    "                # print(k,v,match_words.count(k))\n",
    "            \n",
    "            # 合并重复性单词\n",
    "            if count == len(set(words)): ret.append(i)\n",
    "                \n",
    "        return ret\n",
    "    \n",
    "# Solution().findSubstring(\"barfoothefoobarman\",[\"foo\",\"bar\"])\n",
    "# Solution().findSubstring(\"barfoofoobarthefoobarman\",[\"bar\",\"foo\",\"the\"])\n",
    "# Solution().findSubstring(\"wordgoodgoodgoodbestword\",[\"word\",\"good\",\"best\",\"good\"])\n",
    "\n",
    "# Solution().findSubstring(\"aaaaaaaaaaaaa\",[\"aa\",\"aa\",\"aa\"])\n",
    "# Solution().findSubstring(\"ababa\",[\"ab\"])\n",
    "\n",
    "Solution().findSubstring(\"aaaaaa\",[\"aaa\",\"aaa\"])\n"
   ]
  },
  {
   "cell_type": "code",
   "execution_count": 351,
   "metadata": {},
   "outputs": [
    {
     "name": "stdout",
     "output_type": "stream",
     "text": [
      "[1, 1]\n",
      "[1, 1, 5]\n"
     ]
    }
   ],
   "source": [
    "class Solution:\n",
    "    def nextPermutation(self, nums):\n",
    "        \"\"\"\n",
    "        Do not return anything, modify nums in-place instead.\n",
    "        \"\"\"\n",
    "        hash_ = [1 if nums[i] >= nums[i+1] else 0  for i in range(len(nums)-1)]\n",
    "        \n",
    "        print(hash_)\n",
    "        if set(hash_)== {1}:\n",
    "            for j in range(len(nums)-2, -1, -1):\n",
    "                nums.append(nums.pop(j))\n",
    "        else:\n",
    "            index = len(nums)-2-hash_[::-1].index(0)\n",
    "            \n",
    "            j = index+1\n",
    "            while j<len(nums) and nums[index] < nums[j] :\n",
    "                j+=1\n",
    "            \n",
    "            nums[index], nums[j-1] = nums[j-1], nums[index]\n",
    "            nums[index+1:] = sorted(nums[index+1:])\n",
    "        print(nums)\n",
    "        \n",
    "\n",
    "# Solution().nextPermutation([7,0,1,5,4,3,2])\n",
    "Solution().nextPermutation([5,1,1])"
   ]
  },
  {
   "cell_type": "code",
   "execution_count": 371,
   "metadata": {},
   "outputs": [
    {
     "data": {
      "text/plain": [
       "4"
      ]
     },
     "execution_count": 371,
     "metadata": {},
     "output_type": "execute_result"
    }
   ],
   "source": [
    "class Solution:\n",
    "    def longestValidParentheses(self, s: str) -> int:\n",
    "        max_length = 0\n",
    "        length = 0\n",
    "        stack = []\n",
    "        \n",
    "        for i in s:\n",
    "            if i == '(': \n",
    "                stack.append(i)\n",
    "            else:\n",
    "                if stack:\n",
    "                    length+=2\n",
    "                    stack.pop()\n",
    "                else:\n",
    "                    if max_length<length:\n",
    "                        max_length = length\n",
    "        if max_length<length:\n",
    "            max_length = length\n",
    "        return max_length\n",
    "        \n",
    "Solution().longestValidParentheses('()(()')"
   ]
  },
  {
   "cell_type": "code",
   "execution_count": 450,
   "metadata": {},
   "outputs": [
    {
     "name": "stdout",
     "output_type": "stream",
     "text": [
      "[3, 1] 3\n"
     ]
    },
    {
     "data": {
      "text/plain": [
       "1"
      ]
     },
     "execution_count": 450,
     "metadata": {},
     "output_type": "execute_result"
    }
   ],
   "source": [
    "class Solution:\n",
    "    def search(self, nums, target: int) -> int:\n",
    "        l,r = 0,len(nums)-1\n",
    "        \n",
    "        while l<r:\n",
    "            mid = (l+r) // 2\n",
    "            \n",
    "            print(nums[l:r+1], nums[mid])\n",
    "            \n",
    "            if nums[mid] == target: return mid\n",
    "            if nums[l] == target: return l\n",
    "            if nums[r] == target: return r\n",
    "            \n",
    "            if nums[l]<nums[mid]:\n",
    "                if nums[l]<=target<nums[mid]:\n",
    "                    r = mid-1\n",
    "                else:\n",
    "                    l = mid+1\n",
    "            else:\n",
    "                if nums[mid]<target<=nums[r]:\n",
    "                    l = mid+1\n",
    "                else:\n",
    "                    r = mid-1 \n",
    "                    print(l,r)\n",
    "        return -1\n",
    "    \n",
    "    \n",
    "Solution().search([3, 1],1)"
   ]
  },
  {
   "cell_type": "code",
   "execution_count": 468,
   "metadata": {},
   "outputs": [
    {
     "data": {
      "text/plain": [
       "[0, 0]"
      ]
     },
     "execution_count": 468,
     "metadata": {},
     "output_type": "execute_result"
    }
   ],
   "source": [
    "class Solution:\n",
    "    def searchRange(self, nums, target: int):\n",
    "        if len(nums) == 0: return [-1,-1]\n",
    "        \n",
    "        l,r = 0, len(nums)-1\n",
    "        while l<=r:\n",
    "            mid = (l+r) // 2\n",
    "            \n",
    "            if nums[mid] == target:\n",
    "                i,j = mid,mid\n",
    "                while i>-1 and nums[i] == nums[mid]:\n",
    "                    i-=1\n",
    "                while j<len(nums) and nums[j] == nums[mid]:\n",
    "                    j+=1\n",
    "                return [i+1, j-1]\n",
    "            \n",
    "            if target<nums[mid]:\n",
    "                r = mid-1\n",
    "            else:\n",
    "                l = mid+1\n",
    "        return [-1,-1]\n",
    "Solution().searchRange([2], 2)"
   ]
  },
  {
   "cell_type": "code",
   "execution_count": 475,
   "metadata": {},
   "outputs": [
    {
     "name": "stdout",
     "output_type": "stream",
     "text": [
      "5\n"
     ]
    },
    {
     "data": {
      "text/plain": [
       "<__main__.EditDIstance at 0x7f4db828f710>"
      ]
     },
     "execution_count": 475,
     "metadata": {},
     "output_type": "execute_result"
    }
   ],
   "source": [
    "import numpy as np\n",
    "\n",
    "class EditDIstance:\n",
    "    def __init__(self):\n",
    "        print(self.get(\"how do you turn this on?\", \"how do you do?\", stop=5))\n",
    "    \n",
    "    def get(self, s1, s2, i1=0, i2=0, stop=2**32-1, cache=[]):\n",
    "        if len(cache)==0:\n",
    "            cache = np.ones([len(s1),len(s2)]) * -1\n",
    "        \n",
    "        if i1 == len(s1): return len(s2) - i2\n",
    "        if i2 == len(s2): return len(s1) - i1\n",
    "        if stop==0: return 0\n",
    "        if cache[i1,i2]!=-1: return cache[i1,i2]\n",
    "        \n",
    "        min_num = stop\n",
    "        if s1[i1] == s2[i2]:\n",
    "            min_num = min(min_num, self.get(s1,s2,i1+1,i2+1,stop,cache))\n",
    "        else:\n",
    "            min_num = min(min_num, self.get(s1,s2,i1+1,i2+1,stop-1,cache)+1)\n",
    "        \n",
    "        min_num = min(min_num, self.get(s1,s2,i1,i2+1,stop-1,cache)+1)\n",
    "        min_num = min(min_num, self.get(s1,s2,i1+1,i2,stop-1,cache)+1)\n",
    "        cache[i1][i2] = min_num\n",
    "        return min_num\n",
    "\n",
    "EditDIstance()"
   ]
  },
  {
   "cell_type": "code",
   "execution_count": 516,
   "metadata": {},
   "outputs": [
    {
     "data": {
      "text/plain": [
       "False"
      ]
     },
     "execution_count": 516,
     "metadata": {},
     "output_type": "execute_result"
    }
   ],
   "source": [
    "class Solution:\n",
    "    def isValidSudoku(self, board) -> bool:\n",
    "        for i in range(9):\n",
    "            row_chars = []\n",
    "            col_chars = []\n",
    "            for j in range(9):\n",
    "                if board[i][j] != '.' and board[i][j] in row_chars:\n",
    "                    return False\n",
    "                else:\n",
    "                    row_chars.append(board[i][j])\n",
    "                \n",
    "                if board[j][i] != '.' and board[j][i] in col_chars:\n",
    "                    return False\n",
    "                else:\n",
    "                    col_chars.append(board[j][i])\n",
    "                    \n",
    "                \n",
    "                if i%3==0 and j%3==0:\n",
    "                    box_chars = []\n",
    "                    for m in range(i,i+3):\n",
    "                        for n in range(j, j+3):\n",
    "                            if board[m][n] != '.' and board[m][n] in box_chars:\n",
    "                                return False\n",
    "                            else:\n",
    "                                box_chars.append(board[m][n])       \n",
    "        return True\n",
    "        \n",
    "# Solution().isValidSudoku([[\".\",\".\",\"4\",\".\",\".\",\".\",\"6\",\"3\",\".\"],\n",
    "#                           [\".\",\".\",\".\",\".\",\".\",\".\",\".\",\".\",\".\"],\n",
    "#                           [\"5\",\".\",\".\",\".\",\".\",\".\",\".\",\"9\",\".\"],\n",
    "#                           [\".\",\".\",\".\",\"5\",\"6\",\".\",\".\",\".\",\".\"],\n",
    "#                           [\"4\",\".\",\"3\",\".\",\".\",\".\",\".\",\".\",\"1\"],\n",
    "#                           [\".\",\".\",\".\",\"7\",\".\",\".\",\".\",\".\",\".\"],\n",
    "#                           [\".\",\".\",\".\",\"5\",\".\",\".\",\".\",\".\",\".\"],\n",
    "#                           [\".\",\".\",\".\",\".\",\".\",\".\",\".\",\".\",\".\"],\n",
    "#                           [\".\",\".\",\".\",\".\",\".\",\".\",\".\",\".\",\".\"]])\n",
    "Solution().isValidSudoku([\n",
    "  [\"8\",\"3\",\".\",\".\",\"7\",\".\",\".\",\".\",\".\"],\n",
    "  [\"6\",\".\",\".\",\"1\",\"9\",\"5\",\".\",\".\",\".\"],\n",
    "  [\".\",\"9\",\"8\",\".\",\".\",\".\",\".\",\"6\",\".\"],\n",
    "  [\"8\",\".\",\".\",\".\",\"6\",\".\",\".\",\".\",\"3\"],\n",
    "  [\"4\",\".\",\".\",\"8\",\".\",\"3\",\".\",\".\",\"1\"],\n",
    "  [\"7\",\".\",\".\",\".\",\"2\",\".\",\".\",\".\",\"6\"],\n",
    "  [\".\",\"6\",\".\",\".\",\".\",\".\",\"2\",\"8\",\".\"],\n",
    "  [\".\",\".\",\".\",\"4\",\"1\",\"9\",\".\",\".\",\"5\"],\n",
    "  [\".\",\".\",\".\",\".\",\"8\",\".\",\".\",\"7\",\"9\"]\n",
    "])"
   ]
  },
  {
   "cell_type": "code",
   "execution_count": 506,
   "metadata": {},
   "outputs": [
    {
     "data": {
      "text/plain": [
       "[['6', '.', '.', '1', '9', '5', '.', '.', '.'],\n",
       " ['.', '9', '8', '.', '.', '.', '.', '6', '.']]"
      ]
     },
     "execution_count": 506,
     "metadata": {},
     "output_type": "execute_result"
    }
   ],
   "source": [
    "board = [\n",
    "  [\"5\",\"3\",\".\",\".\",\"7\",\".\",\".\",\".\",\".\"],\n",
    "  [\"6\",\".\",\".\",\"1\",\"9\",\"5\",\".\",\".\",\".\"],\n",
    "  [\".\",\"9\",\"8\",\".\",\".\",\".\",\".\",\"6\",\".\"],\n",
    "  [\"8\",\".\",\".\",\".\",\"6\",\".\",\".\",\".\",\"3\"],\n",
    "  [\"4\",\".\",\".\",\"8\",\".\",\"3\",\".\",\".\",\"1\"],\n",
    "  [\"7\",\".\",\".\",\".\",\"2\",\".\",\".\",\".\",\"6\"],\n",
    "  [\".\",\"6\",\".\",\".\",\".\",\".\",\"2\",\"8\",\".\"],\n",
    "  [\".\",\".\",\".\",\"4\",\"1\",\"9\",\".\",\".\",\"5\"],\n",
    "  [\".\",\".\",\".\",\".\",\"8\",\".\",\".\",\"7\",\"9\"],\n",
    "]\n",
    "board[1:3]"
   ]
  },
  {
   "cell_type": "code",
   "execution_count": 571,
   "metadata": {},
   "outputs": [
    {
     "data": {
      "text/plain": [
       "'1'"
      ]
     },
     "execution_count": 571,
     "metadata": {},
     "output_type": "execute_result"
    }
   ],
   "source": [
    "class Solution:\n",
    "    def countAndSay(self, n: int) -> str:\n",
    "        \n",
    "        def foo(s,n):\n",
    "            if not n: return s\n",
    "            \n",
    "            s_new = ''\n",
    "            while s:\n",
    "                char = s[0]\n",
    "                count = 1\n",
    "                for i in range(1,len(s)):\n",
    "                    if s[i] == char:\n",
    "                        count += 1\n",
    "                    else:\n",
    "                        break\n",
    "                s_new += str(count)+char\n",
    "                s = s[count:]\n",
    "            return foo(s_new,n-1)\n",
    "        \n",
    "        return foo('1', n-1)\n",
    "sss = Solution().countAndSay(1)\n",
    "sss"
   ]
  },
  {
   "cell_type": "code",
   "execution_count": 620,
   "metadata": {},
   "outputs": [
    {
     "data": {
      "text/plain": [
       "[[2, 2, 2, 2], [2, 3, 3], [3, 5]]"
      ]
     },
     "execution_count": 620,
     "metadata": {},
     "output_type": "execute_result"
    }
   ],
   "source": [
    "class Solution:\n",
    "    def combinationSum(self, candidates, target: int):\n",
    "        def foo(candidates, target, curlist, result):\n",
    "            if target == 0:\n",
    "                result.append(curlist)\n",
    "                return\n",
    "            if target < candidates[0]: return\n",
    "            for i in candidates:\n",
    "                if len(curlist)>0 and i < curlist[-1]: continue\n",
    "                cur = curlist.copy()\n",
    "                cur.append(i)\n",
    "                foo(candidates, target-i, cur, result)\n",
    "        \n",
    "        r = []\n",
    "        foo(candidates, target, [], r)\n",
    "        return r\n",
    "Solution().combinationSum([2,3,5],8)"
   ]
  },
  {
   "cell_type": "code",
   "execution_count": 637,
   "metadata": {},
   "outputs": [
    {
     "data": {
      "text/plain": [
       "[[1, 1, 6], [1, 2, 5], [1, 7], [2, 6]]"
      ]
     },
     "execution_count": 637,
     "metadata": {},
     "output_type": "execute_result"
    }
   ],
   "source": [
    "\"\"\"\n",
    "组合总和 II\n",
    "\"\"\"\n",
    "class Solution:\n",
    "    def combinationSum2(self, candidates, target: int):\n",
    "        def foo(candidates, target, curlist, res):\n",
    "            if target == 0:\n",
    "                res.append(curlist)\n",
    "                \n",
    "            if len(candidates)== 0 or target<candidates[0]: return\n",
    "            \n",
    "            for i in range(len(candidates)):\n",
    "                if i>0 and candidates[i] == candidates[i-1]: continue\n",
    "                tmp = curlist.copy()\n",
    "                tmp.append(candidates[i])\n",
    "                foo(candidates[i+1:], target-candidates[i], tmp, res)\n",
    "        r = []\n",
    "        candidates.sort()\n",
    "        foo(candidates, target, [], r)\n",
    "        return r\n",
    "Solution().combinationSum2([10,1,2,7,6,1,5],8)"
   ]
  },
  {
   "cell_type": "code",
   "execution_count": 668,
   "metadata": {},
   "outputs": [
    {
     "name": "stdout",
     "output_type": "stream",
     "text": [
      "[-1, 4, 2, 1, 9, 10]\n",
      "[-1, 1, 2, 4, 9, 10]\n",
      "[-1, 2, 1, 4, 9, 10]\n",
      "[-1, 2, 1, 4, 9, 10]\n",
      "[-1, 2, 1, 4, 9, 10]\n",
      "[-1, 2, 1, 4, 9, 10]\n"
     ]
    },
    {
     "data": {
      "text/plain": [
       "1"
      ]
     },
     "execution_count": 668,
     "metadata": {},
     "output_type": "execute_result"
    }
   ],
   "source": [
    "\"\"\"\n",
    "缺失的第一个正数\n",
    "\"\"\"\n",
    "class Solution:\n",
    "    def firstMissingPositive(self, nums) -> int:\n",
    "#         tag = list(range(1, len(nums)+2))\n",
    "#         [tag.remove(i) for i in nums if i in tag]\n",
    "#         return tag[0]\n",
    "        for i in range(len(nums)):\n",
    "            if 0<nums[i]<len(nums):\n",
    "                nums[nums[i]-1], nums[i] = nums[i], nums[nums[i]-1]\n",
    "                \n",
    "            print(nums)\n",
    "        for i in range(len(nums)):\n",
    "            if i!=nums[i]-1:\n",
    "                return i+1\n",
    "        return len(nums)+1\n",
    "\n",
    "Solution().firstMissingPositive([-1,4,2,1,9,10])"
   ]
  },
  {
   "cell_type": "code",
   "execution_count": 691,
   "metadata": {},
   "outputs": [
    {
     "data": {
      "text/plain": [
       "'132'"
      ]
     },
     "execution_count": 691,
     "metadata": {},
     "output_type": "execute_result"
    }
   ],
   "source": [
    "# 43. 字符串相乘\n",
    "\n",
    "class Solution:\n",
    "    def multiply(self, num1: str, num2: str) -> str:\n",
    "        if num1 == '0' or num2== '0': return '0'\n",
    "        num1 = num1[::-1]\n",
    "        num2 = num2[::-1]\n",
    "        \n",
    "        int1 = 0\n",
    "        for i in range(len(num1)):\n",
    "            int1 += 10 ** i * (ord(num1[i]) - ord('0'))\n",
    "        \n",
    "        int2 = 0\n",
    "        for i in range(len(num2)):\n",
    "            int2 += 10 ** i * (ord(num2[i]) - ord('0'))\n",
    "        \n",
    "        result = int1 * int2\n",
    "        string = ''\n",
    "        \n",
    "        while result:\n",
    "            char = result%10\n",
    "            string+=chr(char+ord('0'))\n",
    "            result = result //10\n",
    "        \n",
    "        return string[::-1]\n",
    "Solution().multiply('12','11')"
   ]
  },
  {
   "cell_type": "code",
   "execution_count": 693,
   "metadata": {},
   "outputs": [
    {
     "data": {
      "text/plain": [
       "[[1, 2, 3], [1, 3, 2], [2, 1, 3], [2, 3, 1], [3, 1, 2], [3, 2, 1]]"
      ]
     },
     "execution_count": 693,
     "metadata": {},
     "output_type": "execute_result"
    }
   ],
   "source": [
    "\"\"\"\n",
    "全排列\n",
    "\"\"\"\n",
    "class Solution:\n",
    "    def permute(self, nums):\n",
    "        def foo(nums, curlist, result):\n",
    "            if len(nums) == 0: \n",
    "                result.append(curlist)\n",
    "                return\n",
    "            \n",
    "            for i in nums:\n",
    "                nums_new = nums.copy()\n",
    "                nums_new.remove(i)\n",
    "                tmp = curlist.copy()\n",
    "                tmp.append(i)\n",
    "                foo(nums_new, tmp, result)\n",
    "        \n",
    "        re = []\n",
    "        foo(nums, [], re)\n",
    "        return re\n",
    "Solution().permute([1,2,3])"
   ]
  },
  {
   "cell_type": "code",
   "execution_count": 743,
   "metadata": {},
   "outputs": [
    {
     "name": "stdout",
     "output_type": "stream",
     "text": [
      "\n",
      "Layer:  0\n",
      "0 2 3\n",
      "2 2 9\n",
      "2 0 7\n",
      "0 0 1\n",
      "[[7, 2, 1], [4, 5, 6], [9, 8, 3]]\n",
      "1 2 6\n",
      "2 1 8\n",
      "1 0 4\n",
      "0 1 2\n",
      "[[7, 4, 1], [8, 5, 2], [9, 6, 3]]\n"
     ]
    },
    {
     "data": {
      "text/plain": [
       "'\\n[\\n  [15,13, 2, 5],\\n  [14, 3, 4, 1],\\n  [12, 6, 8, 9],\\n  [16, 7,10,11]\\n]\\n'"
      ]
     },
     "execution_count": 743,
     "metadata": {},
     "output_type": "execute_result"
    }
   ],
   "source": [
    "#  旋转图像\n",
    "class Solution:\n",
    "    def rotate(self, matrix) -> None:\n",
    "        \"\"\"\n",
    "        Do not return anything, modify matrix in-place instead.\n",
    "        \"\"\"\n",
    "        lens = len(matrix[0])\n",
    "        i,j,step = 0,0,0\n",
    "        \n",
    "        for layer in range(lens//2):\n",
    "            print()\n",
    "            print('Layer: ',layer)\n",
    "            i,step = layer,0\n",
    "            for j in range(layer, layer+lens-2*layer-1):\n",
    "                cur = matrix[i][j]\n",
    "                i = layer\n",
    "                for step in range(4):\n",
    "                    matrix[j][lens-i-1], cur = cur, matrix[j][lens-i-1]\n",
    "                    i,j = j,lens-i-1\n",
    "                    print(i,j,cur)\n",
    "                print(matrix)\n",
    "Solution().rotate([\n",
    "  [1,2,3],\n",
    "  [4,5,6],\n",
    "  [7,8,9]\n",
    "])\n",
    "\"\"\"\n",
    "[\n",
    "  [15,13, 2, 5],\n",
    "  [14, 3, 4, 1],\n",
    "  [12, 6, 8, 9],\n",
    "  [16, 7,10,11]\n",
    "]\n",
    "\"\"\""
   ]
  },
  {
   "cell_type": "code",
   "execution_count": 746,
   "metadata": {},
   "outputs": [
    {
     "name": "stdout",
     "output_type": "stream",
     "text": [
      "[[15, 13, 2, 5], [14, 3, 4, 1], [12, 6, 8, 9], [16, 7, 10, 11]]\n"
     ]
    }
   ],
   "source": [
    "# class Solution {\n",
    "#     public void rotate(int[][] matrix) {\n",
    "#        if(matrix == null || matrix.length == 0 || matrix[0].length == 0){\n",
    "#     \t   return;\n",
    "#        }\n",
    "#        int col = matrix.length-1;\n",
    "#        for(int j=0; j<matrix.length/2; j++,col--){\n",
    "#     \t   int r = col; \n",
    "#     \t   int c = 0;\n",
    "#     \t   for(int i=j;i<col; i++){  \n",
    "#     \t\t  swap(matrix,i,j,r,i);  \n",
    "#     \t\t  swap(matrix,r,i,r-c,r);  \n",
    "#     \t\t  swap(matrix,r-c,r,j,r-c);\n",
    "#     \t\t  c++;\n",
    "#     \t   }\n",
    "#        }\n",
    "#     }\n",
    "#     private void swap(int[][]matrix,int i1,int j1,int i2,int j2){\n",
    "#     \tint temp = matrix[i1][j1];\n",
    "#     \tmatrix[i1][j1] = matrix[i2][j2];\n",
    "#     \tmatrix[i2][j2] = temp;\n",
    "#     }\n",
    "# }\n",
    "\n",
    "\n",
    "class Solution:\n",
    "    def rotate(self, matrix) -> None:\n",
    "        \"\"\"\n",
    "        Do not return anything, modify matrix in-place instead.\n",
    "        \"\"\"\n",
    "        col = len(matrix) - 1\n",
    "        for j in range(0, len(matrix)//2):\n",
    "            r = col\n",
    "            c = 0\n",
    "            for i in range(j,col):\n",
    "                matrix[i][j], matrix[r][i] = matrix[r][i], matrix[i][j]\n",
    "                matrix[r][i], matrix[r-c][r] = matrix[r-c][r], matrix[r][i]\n",
    "                matrix[r-c][r], matrix[j][r-c] = matrix[j][r-c], matrix[r-c][r]\n",
    "                c+=1\n",
    "            col-=1\n",
    "        print(matrix)\n",
    "        \n",
    "Solution().rotate([\n",
    "  [ 5, 1, 9,11],\n",
    "  [ 2, 4, 8,10],\n",
    "  [13, 3, 6, 7],\n",
    "  [15,14,12,16]\n",
    "])\n"
   ]
  },
  {
   "cell_type": "markdown",
   "metadata": {},
   "source": [
    "# 32. 最长有效括号\n"
   ]
  },
  {
   "cell_type": "markdown",
   "metadata": {},
   "source": [
    "创建一个标记位数组，然后利用栈将匹配成功的括号位置置为1  \n",
    "然后寻找最长的有效位置"
   ]
  },
  {
   "cell_type": "code",
   "execution_count": 1837,
   "metadata": {},
   "outputs": [],
   "source": [
    "class Solution:\n",
    "    def longestValidParentheses(self, s: str) -> int:\n",
    "        st, b = [], [0]*len(s)\n",
    "        for i, val in enumerate(s):\n",
    "            if val == '(':\n",
    "                st.append(i)\n",
    "            elif st:\n",
    "                b[st.pop()], b[i] = 1, 1\n",
    "\n",
    "        c, mc = 0, 0\n",
    "        for i in b:\n",
    "            if i:\n",
    "                c += 1\n",
    "            else:\n",
    "                mc = max(c, mc)\n",
    "                c = 0\n",
    "\n",
    "        return max(c, mc)\n",
    "        \"\"\"\n",
    "        代码简洁不代表效率最快\n",
    "        st, b = [], ['0']*len(s)\n",
    "        for i, val in enumerate(s):\n",
    "            if val == '(':\n",
    "                st.append(i)\n",
    "            elif st:\n",
    "                b[st.pop()], b[i] = '1', '1'\n",
    "        \n",
    "        return max([ len(i) for i in ''.join(b).split('0')])\n",
    "        \"\"\""
   ]
  },
  {
   "cell_type": "markdown",
   "metadata": {},
   "source": [
    "# 字母异位词分组"
   ]
  },
  {
   "cell_type": "code",
   "execution_count": 799,
   "metadata": {},
   "outputs": [
    {
     "data": {
      "text/plain": [
       "dict_values([['ill'], ['buy'], ['pew'], ['doc'], ['duh'], ['tin'], ['may'], ['max'], ['bar'], ['cab']])"
      ]
     },
     "execution_count": 799,
     "metadata": {},
     "output_type": "execute_result"
    }
   ],
   "source": [
    "strs = [\"cab\",\"tin\",\"pew\",\"duh\",\"may\",\"ill\",\"buy\",\"bar\",\"max\",\"doc\"]\n",
    "ans = collections.defaultdict(list)\n",
    "for s in strs:\n",
    "    count = [0]*26\n",
    "    for c in s:\n",
    "        count[ord(c) - ord('a')] += 1\n",
    "    ans[tuple(count)].append(s)\n",
    "ans.values()"
   ]
  },
  {
   "cell_type": "markdown",
   "metadata": {},
   "source": [
    "# 53. 最大子序列和\n",
    "\n",
    "可以从头理解下算法的演变：\n",
    "\n",
    "- 首先考虑最后一个元素`arr[n-1]`与最大子数组的关系，有如下两种情况：\n",
    "    1. 最大子数组以`arr[n-1]`结尾\n",
    "    2. 最大子数组跟`arr[n-1]`没关系，最大子数组在`arr[0, n-2]`范围内，转为考虑元素`arr[n-2]`\n",
    "- 那么假设：\n",
    "    1. 有序列表以`arr[n-1]`为结尾的最大子数组和为`End[n-1]`\n",
    "    2. 有序列表 在[0-(n-1)]范围内的最大子数组和为`All[n-1]`\n",
    "\n",
    "如果最大子数组跟最后一个元素无关，即最大和为`All[n-2]`（存在范围为[0-n-2]），则解`All[n-1]`为两种情况的最大值，即 `All[n-1] = max(End[n-1]，All[n-2] ) 即All[i] = max(End[i]，All[i-1] )`\n",
    "\n",
    "当i = 0时， `All[0] = End[0] = arr[0]`, 因此`All[i] = max(End[i]，All[i-1] ) = max(End[i]，End[i-1], End[i-2], ..., End[0] )`(max为幂等运算）\n",
    "\n",
    "而`End[i] = max(arr[i], End[i-1] + arr[i])`， 即以`arr[i]`为结尾的最大子数组和为“以`rr[i-1]`为结尾的最大子数组和与`arr[i]`之和” 跟 `arr[i]`中取较大值。因此当 `End[i-1]`小于0时，`End[i] = arr[i]`。\n",
    "\n",
    "因此我们用`nums[i]`保存`End[i]`，从i=1开始依次判断`End[i-1]`并赋值`End[i]`，最后从`End[n]`数组中取出最大值，即为最大子数组和。"
   ]
  },
  {
   "cell_type": "code",
   "execution_count": 1415,
   "metadata": {},
   "outputs": [
    {
     "data": {
      "text/plain": [
       "8"
      ]
     },
     "execution_count": 1415,
     "metadata": {},
     "output_type": "execute_result"
    }
   ],
   "source": [
    "nums = [1,2,3,-7,8]\n",
    "for i in range(1, len(nums)):\n",
    "    nums[i] = max(nums[i]+nums[i-1], nums[i])\n",
    "max(nums)"
   ]
  },
  {
   "cell_type": "code",
   "execution_count": 832,
   "metadata": {},
   "outputs": [
    {
     "data": {
      "text/plain": [
       "7"
      ]
     },
     "execution_count": 832,
     "metadata": {},
     "output_type": "execute_result"
    }
   ],
   "source": [
    "nums = [1,2,3,-7,8]\n",
    "for i in range(1, len(nums)):\n",
    "    nums[i]= nums[i] + max(nums[i-1], -9999)\n",
    "max(nums)"
   ]
  },
  {
   "cell_type": "code",
   "execution_count": 838,
   "metadata": {},
   "outputs": [
    {
     "data": {
      "text/plain": [
       "8"
      ]
     },
     "execution_count": 838,
     "metadata": {},
     "output_type": "execute_result"
    }
   ],
   "source": [
    "def maxSubArray(nums):\n",
    "    res = nums[0]\n",
    "    sum_ = 0\n",
    "    for num in nums:\n",
    "        if sum_ > 0:\n",
    "            sum_ += num;\n",
    "        else:\n",
    "            sum_ = num;\n",
    "        res = max(res,sum_)\n",
    "    return res\n",
    "\n",
    "maxSubArray([1,2,3,-7,8])"
   ]
  },
  {
   "cell_type": "markdown",
   "metadata": {},
   "source": [
    "# 螺旋矩阵"
   ]
  },
  {
   "cell_type": "code",
   "execution_count": 866,
   "metadata": {},
   "outputs": [
    {
     "name": "stdout",
     "output_type": "stream",
     "text": [
      "1 3 1\n",
      "r 1\n",
      "r 2\n",
      "r 3\n",
      "l 2\n"
     ]
    },
    {
     "data": {
      "text/plain": [
       "[1, 2, 3]"
      ]
     },
     "execution_count": 866,
     "metadata": {},
     "output_type": "execute_result"
    }
   ],
   "source": [
    "class Solution:\n",
    "    def spiralOrder(self, matrix):\n",
    "        rows = len(matrix)\n",
    "        cols = len(matrix[0])\n",
    "        circles = min(rows, cols)//2+1\n",
    "        res = []\n",
    "        \n",
    "        print(rows,cols,circles)\n",
    "        \n",
    "        for c in range(circles):\n",
    "            \n",
    "            # right\n",
    "            for j in range(c, cols-c):\n",
    "                res.append(matrix[c][j])\n",
    "                print('r',matrix[c][j])\n",
    "            \n",
    "            # down\n",
    "            for i in range(c+1, rows-c):\n",
    "                res.append(matrix[i][cols-c-1])\n",
    "                print('d',matrix[i][cols-c-1])\n",
    "                \n",
    "            # left\n",
    "            for j in range(cols-c-2, c, -1):\n",
    "                res.append(matrix[rows-c-1][j])\n",
    "                print('l',matrix[rows-c-1][j])\n",
    "            # up\n",
    "            for i in range(rows-c-1, c, -1):\n",
    "                res.append(matrix[i][c])\n",
    "                print('u',matrix[i][c])\n",
    "        res = res[:rows*cols]\n",
    "        return res\n",
    "    \n",
    "Solution().spiralOrder([[1,2,3]])"
   ]
  },
  {
   "cell_type": "markdown",
   "metadata": {},
   "source": [
    "# 螺旋矩阵II"
   ]
  },
  {
   "cell_type": "code",
   "execution_count": 988,
   "metadata": {},
   "outputs": [
    {
     "name": "stdout",
     "output_type": "stream",
     "text": [
      "0 0 -> 0 1\n",
      "0 1 -> 0 2\n",
      "0 2 -> 1 2\n",
      "1 2 -> 2 2\n",
      "2 2 -> 2 1\n",
      "2 1 -> 2 0\n",
      "2 0 -> 1 0\n",
      "1 0 -> 1 1\n",
      "1 1 -> 2 1\n"
     ]
    },
    {
     "data": {
      "text/plain": [
       "[[1, 2, 3], [8, 9, 4], [7, 6, 5]]"
      ]
     },
     "execution_count": 988,
     "metadata": {},
     "output_type": "execute_result"
    }
   ],
   "source": [
    "class Solution:\n",
    "    def generateMatrix(self, n: int): \n",
    "        result,x,y,dx,dy =[[0 for col in range(n)] for row in range(n)],0,0,0,1\n",
    "        for t in range(1,n*n+1):\n",
    "            \n",
    "            result[x][y]= t\n",
    "            if result[(x+dx)%n][(y+dy)%n]!=0 :\n",
    "                dx, dy = dy, -dx\n",
    "            x +=dx\n",
    "            y +=dy\n",
    "            print(x-dx,y-dy,'->', x,y)\n",
    "        return result\n",
    "Solution().generateMatrix(3)"
   ]
  },
  {
   "cell_type": "markdown",
   "metadata": {},
   "source": [
    "# 跳跃游戏"
   ]
  },
  {
   "cell_type": "code",
   "execution_count": 898,
   "metadata": {},
   "outputs": [
    {
     "data": {
      "text/plain": [
       "False"
      ]
     },
     "execution_count": 898,
     "metadata": {},
     "output_type": "execute_result"
    }
   ],
   "source": [
    "class Solution:\n",
    "    def canJump(self, nums) -> bool:\n",
    "\n",
    "        if len(nums) == 1: return True\n",
    "        \n",
    "        for i in range(1, nums[0]+1):\n",
    "#             if i == len(nums[i:]): return True\n",
    "            if i > len(nums): break\n",
    "            elif nums[i]!=0:\n",
    "                if self.canJump(nums[i:]):\n",
    "                    return True\n",
    "        return False\n",
    "        \n",
    "s = Solution().canJump([2,0,0]) \n",
    "s"
   ]
  },
  {
   "cell_type": "markdown",
   "metadata": {},
   "source": [
    "# 合并区间"
   ]
  },
  {
   "cell_type": "code",
   "execution_count": 955,
   "metadata": {},
   "outputs": [
    {
     "name": "stdout",
     "output_type": "stream",
     "text": [
      "True\n",
      "False\n"
     ]
    }
   ],
   "source": [
    "# Definition for an interval.\n",
    "class Interval:\n",
    "    def __init__(self, s=0, e=0):\n",
    "        self.start = s\n",
    "        self.end = e\n",
    "\n",
    "class Solution:\n",
    "    def merge(self, intervals):\n",
    "        ans = [intervals[0].start, intervals[0].end]\n",
    "        for inter in intervals[1:]:\n",
    "            cur = ans\n",
    "            cur.append(inter.start)\n",
    "            cur.append(inter.end)\n",
    "            cur.sort()\n",
    "            \n",
    "            seg = cur[cur.index(ans[0]):cur.index(ans[0])+len(ans)]\n",
    "            if ans == seg:\n",
    "                ans = cur\n",
    "            else:\n",
    "                cur\n",
    "# Solution().merge([Interval(2,3), Interval(4,5), Interval(6,7), Interval(8,9), Interval(1,5)])\n",
    "Solution().merge([Interval(1,3), Interval(6,8), Interval(2,7)])"
   ]
  },
  {
   "cell_type": "markdown",
   "metadata": {},
   "source": [
    "# 第k个排列"
   ]
  },
  {
   "cell_type": "code",
   "execution_count": 1169,
   "metadata": {},
   "outputs": [
    {
     "name": "stdout",
     "output_type": "stream",
     "text": [
      "1\n"
     ]
    },
    {
     "data": {
      "text/plain": [
       "'1'"
      ]
     },
     "execution_count": 1169,
     "metadata": {},
     "output_type": "execute_result"
    }
   ],
   "source": [
    "class Solution:\n",
    "    def getPermutation(self, n: int, k: int) -> str:\n",
    "        def foo(n):\n",
    "            res = [1]\n",
    "            while len(res)<n-1:\n",
    "                res.append(res[-1]*(len(res)+1))\n",
    "            return res[::-1]\n",
    "        \n",
    "        k -=1\n",
    "        nums = list(range(1,n+1))\n",
    "        ans = ''\n",
    "        for i in foo(n):\n",
    "            print(i)\n",
    "            m = k // i\n",
    "            n = k % i\n",
    "            \n",
    "            ans+=str(nums.pop(m))\n",
    "            k = n\n",
    "        if nums: ans+=str(nums[0])\n",
    "        \n",
    "        return ans\n",
    "    \n",
    "Solution().getPermutation(1,1)"
   ]
  },
  {
   "cell_type": "markdown",
   "metadata": {},
   "source": [
    "# 旋转链表"
   ]
  },
  {
   "cell_type": "code",
   "execution_count": 1163,
   "metadata": {},
   "outputs": [
    {
     "data": {
      "text/plain": [
       "[1, 2, 6]"
      ]
     },
     "execution_count": 1163,
     "metadata": {},
     "output_type": "execute_result"
    }
   ],
   "source": [
    "# Definition for singly-linked list.\n",
    "class ListNode:\n",
    "    def __init__(self, x):\n",
    "        self.val = x\n",
    "        self.next = None\n",
    "\n",
    "class Solution:\n",
    "    def rotateRight(self, head: ListNode, k: int) -> ListNode:\n",
    "        \n",
    "        first = head\n",
    "        cur = head\n",
    "        lens = 1\n",
    "        while cur.next:\n",
    "            cur = cur.next\n",
    "            lens+=1\n",
    "        end = cur\n",
    "        \n",
    "        k = k % lens\n",
    "        k = lens - k\n",
    "        \n",
    "        cur = head\n",
    "        for i in range(1, lens+1):\n",
    "            if i == k:\n",
    "                head = cur.next\n",
    "                cur.next = None\n",
    "                return head\n",
    "            cur = cur.next"
   ]
  },
  {
   "cell_type": "markdown",
   "metadata": {},
   "source": [
    "#  62 不同路径"
   ]
  },
  {
   "cell_type": "code",
   "execution_count": 1181,
   "metadata": {},
   "outputs": [
    {
     "name": "stdout",
     "output_type": "stream",
     "text": [
      "8 2\n",
      "7\n",
      "8\n"
     ]
    },
    {
     "data": {
      "text/plain": [
       "28"
      ]
     },
     "execution_count": 1181,
     "metadata": {},
     "output_type": "execute_result"
    }
   ],
   "source": [
    "\n",
    "m,n=7,3\n",
    "\n",
    "i = m+n-2\n",
    "j = min(m-1, n-1)\n",
    "r = 1\n",
    "print(i,j)\n",
    "for k in range(i-j+1,i+1):\n",
    "    print(k)\n",
    "    r*=k\n",
    "for k in range(1,j+1):\n",
    "    r//=k\n",
    "r"
   ]
  },
  {
   "cell_type": "markdown",
   "metadata": {},
   "source": [
    "#  63 不同路径 II"
   ]
  },
  {
   "cell_type": "code",
   "execution_count": 1209,
   "metadata": {},
   "outputs": [
    {
     "name": "stdout",
     "output_type": "stream",
     "text": [
      "[[0, 1, 0, 0], [0, 1, 1, 1], [0, 1, 2, 3], [0, 1, 3, 6]]\n"
     ]
    },
    {
     "data": {
      "text/plain": [
       "6"
      ]
     },
     "execution_count": 1209,
     "metadata": {},
     "output_type": "execute_result"
    }
   ],
   "source": [
    "class Solution:\n",
    "    def uniquePathsWithObstacles(self, obstacleGrid) -> int:\n",
    "        if not obstacleGrid or not obstacleGrid[0] or obstacleGrid[0][0]==1: return 0\n",
    "        m,n = len(obstacleGrid), len(obstacleGrid[0])\n",
    "        dp = [[0]*(n+1) for i in range(m+1)]\n",
    "        \n",
    "        dp[0][1] = 1\n",
    "        \n",
    "        for i in range(1, m+1):\n",
    "            for j in range(1, n+1):\n",
    "                if obstacleGrid[i-1][j-1] == 1: continue\n",
    "                dp[i][j] = dp[i-1][j] + dp[i][j-1]\n",
    "        print(dp)\n",
    "        return dp[m][n]\n",
    "    \n",
    "Solution().uniquePathsWithObstacles([\n",
    "  [0,0,0],\n",
    "  [0,0,0],\n",
    "  [0,0,0]\n",
    "])"
   ]
  },
  {
   "cell_type": "markdown",
   "metadata": {},
   "source": [
    "# 64 最小路径和\n",
    "原地修改DP算法"
   ]
  },
  {
   "cell_type": "code",
   "execution_count": 1253,
   "metadata": {},
   "outputs": [
    {
     "data": {
      "text/plain": [
       "7"
      ]
     },
     "execution_count": 1253,
     "metadata": {},
     "output_type": "execute_result"
    }
   ],
   "source": [
    "class Solution:\n",
    "    def minPathSum(self, grid):\n",
    "        m,n = len(grid), len(grid[0])\n",
    "\n",
    "        for i in range(m-1):\n",
    "            grid[i+1][0] = grid[i][0] + grid[i+1][0]\n",
    "        \n",
    "        for j in range(n-1):\n",
    "            grid[0][j+1] = grid[0][j] + grid[0][j+1]\n",
    "        \n",
    "        for i in range(1,m):\n",
    "            for j in range(1,n):\n",
    "                grid[i][j] = min(grid[i][j-1]+grid[i][j], grid[i-1][j]+grid[i][j])\n",
    "        return grid[m-1][n-1]\n",
    "    \n",
    "Solution().minPathSum([\n",
    "  [1,3,1],\n",
    "  [1,5,1],\n",
    "  [4,2,1]\n",
    "])"
   ]
  },
  {
   "cell_type": "markdown",
   "metadata": {},
   "source": [
    "# 65. 有效数字"
   ]
  },
  {
   "cell_type": "code",
   "execution_count": 1258,
   "metadata": {},
   "outputs": [],
   "source": [
    "class Solution:\n",
    "    def isNumber(self, s: str) -> bool:\n",
    "        try:\n",
    "            a = float(s)\n",
    "        except:\n",
    "            return False\n",
    "        return True"
   ]
  },
  {
   "cell_type": "markdown",
   "metadata": {},
   "source": [
    "# 66"
   ]
  },
  {
   "cell_type": "markdown",
   "metadata": {},
   "source": [
    "# 67 二进制求和\n"
   ]
  },
  {
   "cell_type": "code",
   "execution_count": 1279,
   "metadata": {},
   "outputs": [
    {
     "data": {
      "text/plain": [
       "'11110'"
      ]
     },
     "execution_count": 1279,
     "metadata": {},
     "output_type": "execute_result"
    }
   ],
   "source": [
    "class Solution:\n",
    "    def addBinary(self, a: str, b: str) -> str:\n",
    "        \"\"\"\n",
    "        1 无套路\n",
    "        \"\"\"\n",
    "        lens = min(len(a),len(b))\n",
    "        ans = ''\n",
    "        a = a[::-1]\n",
    "        b = b[::-1]\n",
    "        n = 0\n",
    "        for i in range(lens):\n",
    "            r = int(a[i]) + int(b[i]) + n\n",
    "            if r >= 2:\n",
    "                ans+=str(r-2)\n",
    "                n = 1\n",
    "            else:\n",
    "                ans+=str(r)\n",
    "                n = 0\n",
    "        for i in a[lens:]:\n",
    "            r = int(i)+n\n",
    "            \n",
    "            if r == 2:\n",
    "                ans+=str(r-2)\n",
    "                n = 1\n",
    "            else:\n",
    "                ans+=str(int(i)+n)\n",
    "                n = 0\n",
    "        for i in b[lens:]:\n",
    "            r = int(i)+n\n",
    "            if r == 2:\n",
    "                ans+=str(r-2)\n",
    "                n = 1\n",
    "            else:\n",
    "                ans+=str(int(i)+n)\n",
    "                n = 0\n",
    "        if n == 1: ans+='1'\n",
    "        return ans[::-1]\n",
    "        \"\"\"\n",
    "        2 套路\n",
    "        return bin(int(a,2)+int(b,2))[2:]\n",
    "        \"\"\"\n",
    "Solution().addBinary('1111','1111')"
   ]
  },
  {
   "cell_type": "markdown",
   "metadata": {},
   "source": [
    "# 68 左右文本对齐"
   ]
  },
  {
   "cell_type": "code",
   "execution_count": 1347,
   "metadata": {},
   "outputs": [
    {
     "data": {
      "text/plain": [
       "['Science  is  what we',\n",
       " 'understand      well',\n",
       " 'enough to explain to',\n",
       " 'a  computer.  Art is',\n",
       " 'everything  else  we',\n",
       " 'do                  ']"
      ]
     },
     "execution_count": 1347,
     "metadata": {},
     "output_type": "execute_result"
    }
   ],
   "source": [
    "class Solution:\n",
    "    def fullJustify(self, words, maxWidth: int):\n",
    "        # 从words中完成一行单词显示\n",
    "        def foo(nums, words, maxwidth):\n",
    "            # 单词数量\n",
    "            i = 1\n",
    "            while (sum(nums[:i])+i-1)<=maxwidth and i<=len(nums): i+=1\n",
    "            i = i-1\n",
    "            \n",
    "            string = ''\n",
    "            if i == len(words) or i==1: # 左对齐\n",
    "                for word in words[:i]:\n",
    "                    string += (word + ' ')\n",
    "                string+=' '*maxwidth\n",
    "                \n",
    "            else:  # 右对齐\n",
    "                avg_blanks = (maxwidth - sum(nums[:i]))//(i-1)\n",
    "                remainder = (maxwidth - sum(nums[:i]))%(i-1) # 多余空格处理\n",
    "\n",
    "                for word in words[:i]:\n",
    "                    string += (word + ' '*avg_blanks)\n",
    "                    if remainder:\n",
    "                        string += ' '\n",
    "                        remainder -= 1\n",
    "\n",
    "            return i, string[:maxwidth]\n",
    "            \n",
    "        word_lens = [len(word) for word in words]\n",
    "        ans = []\n",
    "        # 循环计算每行结果\n",
    "        while words:\n",
    "            i, an = foo(word_lens, words, maxWidth)\n",
    "            ans.append(an)\n",
    "            word_lens = word_lens[i:]\n",
    "            words = words[i:]\n",
    "        return ans\n",
    "Solution().fullJustify([\"Science\",\"is\",\"what\",\"we\",\"understand\",\"well\",\"enough\",\"to\",\"explain\",\"to\",\"a\",\"computer.\",\"Art\",\"is\",\"everything\",\"else\",\"we\",\"do\"],20)"
   ]
  },
  {
   "cell_type": "markdown",
   "metadata": {},
   "source": [
    "# 69. x 的平方根\n",
    "使用[牛顿法](https://en.wikipedia.org/wiki/Integer_square_root#Using_only_integer_division)进行迭代：  \n",
    "计算$\\sqrt{n}$,可以使用$x^2-n=0$  \n",
    "\n",
    "$x_{k+1} = \\frac{1}{2} (x_k + \\frac{n}{x_k})$  \n",
    "\n",
    "随着$k \\rightarrow \\infty$序列$\\{x_k\\}$收敛到$\\sqrt{n}$,停止可以用以下条件：  \n",
    "\n",
    "$|x_{k+1} - x_k| < 1$"
   ]
  },
  {
   "cell_type": "code",
   "execution_count": 1350,
   "metadata": {},
   "outputs": [
    {
     "name": "stdout",
     "output_type": "stream",
     "text": [
      "3\n",
      "2.0\n"
     ]
    },
    {
     "data": {
      "text/plain": [
       "1"
      ]
     },
     "execution_count": 1350,
     "metadata": {},
     "output_type": "execute_result"
    }
   ],
   "source": [
    "class Solution:\n",
    "    def mySqrt(self, x: int) -> int:\n",
    "        if x<=1:\n",
    "            return x\n",
    "        \n",
    "        r = x\n",
    "        while r>x/r:\n",
    "            print(r)\n",
    "            r = (r+x/r)//2\n",
    "        return int(r)\n",
    "Solution().mySqrt(3)"
   ]
  },
  {
   "cell_type": "markdown",
   "metadata": {},
   "source": [
    "# 70. 爬楼梯\n",
    "- 递归(时间复杂度太高)\n",
    "- 数学计算(斐波那契数列)\n",
    "- 动态规划[介绍](https://mp.weixin.qq.com/s/3h9iqU4rdH3EIy5m6AzXsg)"
   ]
  },
  {
   "cell_type": "code",
   "execution_count": 1362,
   "metadata": {},
   "outputs": [],
   "source": [
    "# 动态规划\n",
    "class Solution:\n",
    "    def climbStairs(self, n: int) -> int:\n",
    "        if n <= 1: return 1\n",
    "        elif n == 2 : return 2\n",
    "        else:\n",
    "            a,b = 1,2\n",
    "            k = 3\n",
    "            while k <= n:\n",
    "                a,b = b,a+b\n",
    "                k+=1\n",
    "            return b\n",
    "        \n",
    "# 数据计算\n",
    "class Solution:\n",
    "    def climbStairs(self, n: int) -> int:\n",
    "        import math\n",
    "        d = math.sqrt(5)\n",
    "        n = n + 1\n",
    "        return (int) ((math.pow((1 + d) / 2, n) - math.pow((1 - d) / 2, n)) / d + 0.5);"
   ]
  },
  {
   "cell_type": "markdown",
   "metadata": {},
   "source": [
    "# 71. 简化路径"
   ]
  },
  {
   "cell_type": "code",
   "execution_count": 1392,
   "metadata": {},
   "outputs": [
    {
     "name": "stdout",
     "output_type": "stream",
     "text": [
      "['a', '..', '..']\n",
      "[]\n"
     ]
    },
    {
     "data": {
      "text/plain": [
       "'/'"
      ]
     },
     "execution_count": 1392,
     "metadata": {},
     "output_type": "execute_result"
    }
   ],
   "source": [
    "class Solution:\n",
    "    def simplifyPath(self, path: str) -> str:\n",
    "        l = path.split('/')\n",
    "        l = [i for i in l if i]\n",
    "        stack = []\n",
    "        print(l)\n",
    "        \n",
    "        while l:\n",
    "            c = l.pop(0)\n",
    "            if c == '.':\n",
    "                continue\n",
    "            elif c == '..':\n",
    "                if stack:\n",
    "                    stack.pop(-1)\n",
    "            else:\n",
    "                stack.append(c)\n",
    "        \n",
    "        print(stack)\n",
    "        return ('/'+'/'.join(stack))\n",
    "Solution().simplifyPath(\"/a/../..\")"
   ]
  },
  {
   "cell_type": "markdown",
   "metadata": {},
   "source": [
    "# 73. 矩阵置零"
   ]
  },
  {
   "cell_type": "code",
   "execution_count": 1877,
   "metadata": {},
   "outputs": [],
   "source": [
    "class Solution:\n",
    "    def setZeroes(self, matrix) -> None:\n",
    "        \"\"\"\n",
    "        Do not return anything, modify matrix in-place instead.\n",
    "        \"\"\"\n",
    "        m = len(matrix)\n",
    "        n = len(matrix[0])\n",
    "        \n",
    "        rows = set()\n",
    "        cols = set()\n",
    "        for row in range(m):\n",
    "            for col in range(n):\n",
    "                if matrix[row][col] == 0:\n",
    "                    rows.add(row)\n",
    "                    cols.add(col)\n",
    "        \n",
    "        for row in rows:\n",
    "            for col in range(n):\n",
    "                matrix[row][col] = 0\n",
    "                \n",
    "        for col in cols:\n",
    "            for row in range(m):\n",
    "                matrix[row][col] = 0\n",
    "# [[1,1,1],[1,0,1],[1,1,1]]\n",
    "# [[1,0,1],[0,0,0],[1,0,1]]"
   ]
  },
  {
   "cell_type": "markdown",
   "metadata": {},
   "source": [
    "# 74 搜索二维矩阵"
   ]
  },
  {
   "cell_type": "code",
   "execution_count": 1394,
   "metadata": {},
   "outputs": [
    {
     "data": {
      "text/plain": [
       "True"
      ]
     },
     "execution_count": 1394,
     "metadata": {},
     "output_type": "execute_result"
    }
   ],
   "source": [
    "class Solution:\n",
    "    def searchMatrix(self, matrix, target: int) -> bool:\n",
    "        if not matrix: return False\n",
    "        \n",
    "        rows = len(matrix)\n",
    "        cols = len(matrix[0])\n",
    "        lens = rows * cols\n",
    "        \n",
    "        l,r = 0, lens-1\n",
    "        while l<=r:\n",
    "            \n",
    "            mid = (l+r) // 2\n",
    "            i = mid // cols\n",
    "            j = mid %  cols\n",
    "\n",
    "            if matrix[i][j] == target: return True\n",
    "            \n",
    "            if target < matrix[i][j]:\n",
    "                r = mid - 1\n",
    "            else:\n",
    "                l = mid + 1\n",
    "        return False\n",
    "Solution().searchMatrix([[1,3,5,7],[10,11,16,20],[23,30,34,50]],3)"
   ]
  },
  {
   "cell_type": "markdown",
   "metadata": {},
   "source": [
    "# 75 颜色分类"
   ]
  },
  {
   "cell_type": "code",
   "execution_count": 1396,
   "metadata": {},
   "outputs": [],
   "source": [
    "class Solution:\n",
    "    def sortColors(self, nums) -> None:\n",
    "        \"\"\"\n",
    "        Do not return anything, modify nums in-place instead.\n",
    "        \"\"\"\n",
    "        n = len(nums)\n",
    "        \n",
    "        i=0\n",
    "        j=n-1\n",
    "        while i<=j:\n",
    "            if nums[i]==0:\n",
    "                nums.pop(i)\n",
    "                nums.insert(0,0)\n",
    "                i+=1\n",
    "            elif nums[i]==2:\n",
    "                nums.pop(i)\n",
    "                nums.insert(j,2)\n",
    "                j-=1\n",
    "            else:\n",
    "                i+=1"
   ]
  },
  {
   "cell_type": "markdown",
   "metadata": {},
   "source": [
    "# 77. 组合"
   ]
  },
  {
   "cell_type": "code",
   "execution_count": 1398,
   "metadata": {},
   "outputs": [],
   "source": [
    "class Solution:\n",
    "    def combine(self, n: int, k: int):\n",
    "        def foo(nums, k, cur, res):\n",
    "            if len(cur) == k: \n",
    "                res.append(cur)\n",
    "                return\n",
    "            \n",
    "            for i in range(len(nums)):\n",
    "                nums_ = nums[i:]\n",
    "                cur_ = cur.copy()\n",
    "                cur_.append(nums_.pop(0))\n",
    "                \n",
    "                foo(nums_, k, cur_, res)\n",
    "        \n",
    "        res=[]\n",
    "        nums=list(range(1,n+1))\n",
    "        foo(nums, k, [], res)\n",
    "        return res"
   ]
  },
  {
   "cell_type": "markdown",
   "metadata": {},
   "source": [
    "# 78. 子集"
   ]
  },
  {
   "cell_type": "code",
   "execution_count": 1429,
   "metadata": {},
   "outputs": [],
   "source": [
    "# My Own\n",
    "class Solution:\n",
    "    def subsets(self, nums):\n",
    "        def foo(nums, cur, ans):\n",
    "            if not nums:\n",
    "                if [] not in ans:\n",
    "                    ans.append([])\n",
    "                return\n",
    "            \n",
    "            for i in range(len(nums)):\n",
    "                cur_ = cur.copy()\n",
    "                cur_.append(nums[i])\n",
    "                ans.append(cur_)\n",
    "                \n",
    "                foo(nums[i+1:], cur_, ans)\n",
    "        \n",
    "        ans = []\n",
    "        foo(nums,[], ans)\n",
    "        return ans"
   ]
  },
  {
   "cell_type": "markdown",
   "metadata": {},
   "source": [
    "# 78. 子集 way 1"
   ]
  },
  {
   "cell_type": "code",
   "execution_count": 1430,
   "metadata": {},
   "outputs": [
    {
     "data": {
      "text/plain": [
       "[[3], [], [2, 3], [2], [1, 3], [1], [1, 2, 3], [1, 2]]"
      ]
     },
     "execution_count": 1430,
     "metadata": {},
     "output_type": "execute_result"
    }
   ],
   "source": [
    "nums = [1,2,3]\n",
    "def subsets(nums):\n",
    "    if len(nums) == 1:\n",
    "        return [[nums[0]],[]]\n",
    "    a = subsets(nums[1:])\n",
    "    return a+[[nums[0]]+i for i in a]\n",
    "subsets(nums)"
   ]
  },
  {
   "cell_type": "markdown",
   "metadata": {},
   "source": [
    "# 78. 子集 way 2"
   ]
  },
  {
   "cell_type": "code",
   "execution_count": 1431,
   "metadata": {},
   "outputs": [],
   "source": [
    "class Solution:\n",
    "    def maxSubArray(self, nums) -> int:\n",
    "            for i in range(1, len(nums)):\n",
    "                nums[i] = max(nums[i-1]+nums[i], nums[i])\n",
    "            return max(nums)"
   ]
  },
  {
   "cell_type": "markdown",
   "metadata": {},
   "source": [
    "# 78. 子集 way 3"
   ]
  },
  {
   "cell_type": "code",
   "execution_count": 1813,
   "metadata": {},
   "outputs": [],
   "source": [
    "class Solution:\n",
    "    def subsets(self, nums):\n",
    "        ans = [[]]\n",
    "        for num in nums:\n",
    "            ans.extend(list(map(lambda x: x+[num], ans)))\n",
    "            \"\"\"\n",
    "            等效于\n",
    "            t = ans.copy()\n",
    "            ans.extend(j+[i] for j in t)\n",
    "            \"\"\"\n",
    "        return ans"
   ]
  },
  {
   "cell_type": "markdown",
   "metadata": {},
   "source": [
    "# 79. 单词搜索\n",
    "方式一：时间复杂度太大"
   ]
  },
  {
   "cell_type": "code",
   "execution_count": 1459,
   "metadata": {},
   "outputs": [
    {
     "data": {
      "text/plain": [
       "False"
      ]
     },
     "execution_count": 1459,
     "metadata": {},
     "output_type": "execute_result"
    }
   ],
   "source": [
    "class Solution:\n",
    "    def exist(self, board, word: str) -> bool:\n",
    "        import copy\n",
    "        def foo(board, word, i, j):\n",
    "            if not word: return True\n",
    "            \n",
    "            rows = len(board)\n",
    "            cols = len(board[0])\n",
    "            \n",
    "            if i < 0 or i >= rows: return\n",
    "            if j < 0 or j >= cols: return\n",
    "                \n",
    "            if board[i][j] == word[0]:\n",
    "                board[i][j] = ''\n",
    "                if foo(copy.deepcopy(board), word[1:],i+1,j) or\\\n",
    "                    foo(copy.deepcopy(board), word[1:],i,j+1) or\\\n",
    "                    foo(copy.deepcopy(board), word[1:],i-1,j) or\\\n",
    "                    foo(copy.deepcopy(board), word[1:],i,j-1):\n",
    "                        return True\n",
    "            return False\n",
    "        \n",
    "        rows = len(board)\n",
    "        cols = len(board[0])\n",
    "        \n",
    "        if len(word) > rows * cols: return False\n",
    "        \n",
    "        for m in range(rows):\n",
    "            for n in range(cols):\n",
    "                if board[m][n] == word[0]:\n",
    "                    if foo(copy.deepcopy(board), word, m, n):\n",
    "                        return True\n",
    "        return False\n",
    "Solution().exist([[\"a\",\"b\"],[\"c\",\"d\"]],\"abcd\")"
   ]
  },
  {
   "cell_type": "markdown",
   "metadata": {},
   "source": [
    "方式二：仍有简化空间"
   ]
  },
  {
   "cell_type": "code",
   "execution_count": 1497,
   "metadata": {},
   "outputs": [
    {
     "data": {
      "text/plain": [
       "True"
      ]
     },
     "execution_count": 1497,
     "metadata": {},
     "output_type": "execute_result"
    }
   ],
   "source": [
    "import numpy as np\n",
    "\n",
    "class Solution:\n",
    "    def exist(self, board, word: str) -> bool:\n",
    "        def foo(board, word, i, j, visited):\n",
    "            if not word: return True\n",
    "            \n",
    "            rows = len(board)\n",
    "            cols = len(board[0])\n",
    "            \n",
    "            if i < 0 or i >= rows: return\n",
    "            if j < 0 or j >= cols: return\n",
    "            if visited[i][j]: return\n",
    "            \n",
    "            if board[i][j] == word[0]:\n",
    "                visited[i][j] = 1\n",
    "                if foo(board, word[1:],i+1,j,visited.copy()) or\\\n",
    "                    foo(board, word[1:],i,j+1,visited.copy()) or\\\n",
    "                    foo(board, word[1:],i-1,j,visited.copy()) or\\\n",
    "                    foo(board, word[1:],i,j-1,visited.copy()):\n",
    "                        return True\n",
    "                # 没有找到重置为0\n",
    "                visited[i][j] = 0\n",
    "            return False\n",
    "        \n",
    "        rows = len(board)\n",
    "        cols = len(board[0])\n",
    "        \n",
    "        if len(word) > rows * cols: return False\n",
    "        \n",
    "        for m in range(rows):\n",
    "            for n in range(cols):\n",
    "                if board[m][n] == word[0]:\n",
    "                    visited = [[0]*cols for i in range(rows)]\n",
    "                    if foo(board, word, m, n, visited):\n",
    "                        return True\n",
    "        return False\n",
    "Solution().exist([[\"A\",\"B\",\"C\",\"E\"],[\"S\",\"F\",\"E\",\"S\"],[\"A\",\"D\",\"E\",\"E\"]], \"ABCESEEEFS\")"
   ]
  },
  {
   "cell_type": "markdown",
   "metadata": {},
   "source": [
    "方式二 优化代码@whyyoutrappingsohard"
   ]
  },
  {
   "cell_type": "code",
   "execution_count": 1498,
   "metadata": {},
   "outputs": [
    {
     "data": {
      "text/plain": [
       "True"
      ]
     },
     "execution_count": 1498,
     "metadata": {},
     "output_type": "execute_result"
    }
   ],
   "source": [
    "class Solution:\n",
    "    def exist(self, board, word: str) -> bool:\n",
    "        max_x, max_y, max_step = len(board)-1, len(board[0])-1, len(word)-1\n",
    "        def maze(x, y,step,visited):\n",
    "            if visited[x][y]==1:\n",
    "                return False\n",
    "            if board[x][y] != word[step]:\n",
    "                return False\n",
    "            if step==max_step:\n",
    "                return True\n",
    "            visited[x][y]=1\n",
    "            if x < max_x and maze(x+1,y,step+1,visited):\n",
    "                return True\n",
    "            if x>0 and maze(x-1,y,step+1,visited):\n",
    "                return True\n",
    "            if y<max_y and maze(x,y+1,step+1,visited):\n",
    "                return True\n",
    "            if y>0 and maze(x,y-1,step+1,visited):\n",
    "                return True\n",
    "            # 记得失败后要置零\n",
    "            visited[x][y]=0\n",
    "            return False\n",
    "        visited=[[0]*(max_y+1) for _ in range(max_x+1)]\n",
    "        for x in range(max_x+1):\n",
    "            for y in range(max_y+1):\n",
    "                if board[x][y] != word[0]:\n",
    "                    continue\n",
    "                if maze(x,y,0,visited):\n",
    "                    return True\n",
    "        return False\n",
    "Solution().exist([[\"A\",\"B\",\"C\",\"E\"],[\"S\",\"F\",\"E\",\"S\"],[\"A\",\"D\",\"E\",\"E\"]], \"ABCESEEEFS\")"
   ]
  },
  {
   "cell_type": "markdown",
   "metadata": {},
   "source": [
    "# 80. 删除排序数组中的重复项 II"
   ]
  },
  {
   "cell_type": "code",
   "execution_count": 1575,
   "metadata": {},
   "outputs": [
    {
     "name": "stdout",
     "output_type": "stream",
     "text": [
      "4\n"
     ]
    },
    {
     "data": {
      "text/plain": [
       "[1, 1, 2, 2, 1]"
      ]
     },
     "execution_count": 1575,
     "metadata": {},
     "output_type": "execute_result"
    }
   ],
   "source": [
    "nums = [0,0,1,1,1,1,2,3,3]\n",
    "nums = [1,1,1,2,2]\n",
    "\n",
    "class Solution:\n",
    "    def removeDuplicates(self, nums) -> int:\n",
    "        if not nums or len(nums)==0: return 0\n",
    "        flag = 1\n",
    "        \n",
    "        i = 1\n",
    "        while i+1<len(nums) and nums[i+1]>=nums[i]:\n",
    "            if nums[flag] == nums[i]:\n",
    "                if i - flag < 2:\n",
    "                    i+=1\n",
    "                    continue\n",
    "                else:\n",
    "                    nums.append(nums.pop(i))\n",
    "                    continue\n",
    "            else:\n",
    "                flag = i\n",
    "            i+=1\n",
    "        \n",
    "        while flag+1<len(nums) and nums[flag] == nums[flag+1]:\n",
    "            flag+=1\n",
    "        print(flag+1)\n",
    "        return nums\n",
    "Solution().removeDuplicates(nums)"
   ]
  },
  {
   "cell_type": "code",
   "execution_count": 1554,
   "metadata": {},
   "outputs": [
    {
     "name": "stdout",
     "output_type": "stream",
     "text": [
      "0 [0, 0, 1, 1, 1, 2, 2, 3, 3, 4]\n",
      "1 [0, 0, 1, 1, 1, 2, 2, 3, 3, 4]\n",
      "2 [0, 1, 1, 1, 1, 2, 2, 3, 3, 4]\n",
      "3 [0, 1, 1, 1, 1, 2, 2, 3, 3, 4]\n",
      "4 [0, 1, 1, 1, 1, 2, 2, 3, 3, 4]\n",
      "5 [0, 1, 2, 1, 1, 2, 2, 3, 3, 4]\n",
      "6 [0, 1, 2, 1, 1, 2, 2, 3, 3, 4]\n",
      "7 [0, 1, 2, 3, 1, 2, 2, 3, 3, 4]\n",
      "8 [0, 1, 2, 3, 1, 2, 2, 3, 3, 4]\n"
     ]
    },
    {
     "data": {
      "text/plain": [
       "5"
      ]
     },
     "execution_count": 1554,
     "metadata": {},
     "output_type": "execute_result"
    }
   ],
   "source": [
    "nums = [0,0,1,1,1,2,2,3,3,4]\n",
    "flag = 1\n",
    "for i in range(len(nums)-1):\n",
    "    print(i, nums)\n",
    "    if nums[i] != nums[i+1]:\n",
    "        nums[flag] = nums[i+1]\n",
    "        flag+=1\n",
    "flag"
   ]
  },
  {
   "cell_type": "markdown",
   "metadata": {},
   "source": [
    "# 81. 搜索旋转排序数组 II"
   ]
  },
  {
   "cell_type": "code",
   "execution_count": 1610,
   "metadata": {},
   "outputs": [
    {
     "data": {
      "text/plain": [
       "True"
      ]
     },
     "execution_count": 1610,
     "metadata": {},
     "output_type": "execute_result"
    }
   ],
   "source": [
    "class Solution:\n",
    "    def search(self, nums, target: int) -> bool:\n",
    "        l,r = 0,len(nums)-1\n",
    "        \n",
    "        while l<=r:\n",
    "            # 添加去重\n",
    "            while l<r and nums[l] == nums[l+1]:\n",
    "                l+=1\n",
    "            while l<r and nums[r] == nums[r-1]:\n",
    "                r-=1\n",
    "            \n",
    "            mid = (l+r) // 2\n",
    "            \n",
    "            if nums[mid] == target: return True\n",
    "            if nums[l] == target: return True\n",
    "            if nums[r] == target: return True\n",
    "            \n",
    "            if nums[l]<nums[mid]:\n",
    "                if nums[l]<target<nums[mid]:\n",
    "                    r = mid-1\n",
    "                else:\n",
    "                    l = mid+1\n",
    "            else:\n",
    "                if nums[mid]<target<nums[r]:\n",
    "                    l = mid+1\n",
    "                else:\n",
    "                    r = mid-1 \n",
    "        return False\n",
    "\n",
    "Solution().search([1,1,3,1],3)"
   ]
  },
  {
   "cell_type": "markdown",
   "metadata": {},
   "source": [
    "# 82. 删除排序链表中的重复元素 II\n",
    "\n",
    "思路：\n",
    "- 创建虚拟头节点`start`，上一个节点标记位`pre`，当前节点`cur`\n",
    "- 判断`cur`是否重复，重复则将`pre`的指向不重复的，`cur`继续判断是否重复(**不要移动pre**)\n",
    "- 如果`cur`不重复，则向后移动`pre`和`cur`"
   ]
  },
  {
   "cell_type": "code",
   "execution_count": 1615,
   "metadata": {},
   "outputs": [],
   "source": [
    "# Definition for singly-linked list.\n",
    "class ListNode:\n",
    "    def __init__(self, x):\n",
    "        self.val = x\n",
    "        self.next = None\n",
    "\n",
    "# My way: 94ms\n",
    "class Solution:\n",
    "    def deleteDuplicates(self, head: ListNode) -> ListNode:\n",
    "        if not head: return head\n",
    "        \n",
    "        # 添加虚拟头结点\n",
    "        start = ListNode(None)\n",
    "        start.next = head\n",
    "        \n",
    "        # 两个标志位\n",
    "        pre = start\n",
    "        cur = start.next\n",
    "        \n",
    "        while cur and cur.next:\n",
    "            if cur.val == cur.next.val:\n",
    "                while cur.next and cur.val == cur.next.val:\n",
    "                    cur = cur.next\n",
    "                pre.next = cur.next # 只修改pre.next 不移动pre\n",
    "                cur = cur.next\n",
    "            else:\n",
    "                pre = pre.next\n",
    "                cur = cur.next\n",
    "        return start.next\n",
    "\n",
    "# 优化后\n",
    "class Solution:\n",
    "    def deleteDuplicates(self, head: ListNode) -> ListNode:\n",
    "        p = ListNode(None)\n",
    "        p.next = head\n",
    "        head = p\n",
    "        \n",
    "        while p.next:\n",
    "            l = p.next\n",
    "            r = l\n",
    "            while r.next and r.next.val == l.val:\n",
    "                r = r.next\n",
    "            \n",
    "            if l == r:\n",
    "                p = p.next\n",
    "            else:\n",
    "                p.next = r.next\n",
    "        \n",
    "        return head.next"
   ]
  },
  {
   "cell_type": "markdown",
   "metadata": {},
   "source": [
    "# 83. 删除排序链表中的重复元素"
   ]
  },
  {
   "cell_type": "code",
   "execution_count": 1616,
   "metadata": {},
   "outputs": [],
   "source": [
    "# Definition for singly-linked list.\n",
    "class ListNode:\n",
    "    def __init__(self, x):\n",
    "        self.val = x\n",
    "        self.next = None\n",
    "\n",
    "class Solution:\n",
    "    def deleteDuplicates(self, head: ListNode) -> ListNode:\n",
    "        if not head: return head\n",
    "        \n",
    "        p = head\n",
    "        \n",
    "        while p and p.next:\n",
    "            if p.val == p.next.val:\n",
    "                p.next = p.next.next\n",
    "            else:\n",
    "                p = p.next\n",
    "        return head"
   ]
  },
  {
   "cell_type": "markdown",
   "metadata": {},
   "source": [
    "# 柱状图中最大的矩形"
   ]
  },
  {
   "cell_type": "code",
   "execution_count": 1761,
   "metadata": {},
   "outputs": [
    {
     "name": "stdout",
     "output_type": "stream",
     "text": [
      "[4, 4, 0, 3, 4, 6, 8, 9]\n"
     ]
    },
    {
     "data": {
      "text/plain": [
       "9"
      ]
     },
     "execution_count": 1761,
     "metadata": {},
     "output_type": "execute_result"
    }
   ],
   "source": [
    "# 自己的算法不对\n",
    "# 虽然想到了类似栈的功能 但还没有完全捋清楚\n",
    "class Solution:\n",
    "    def largestRectangleArea(self, heights) -> int:\n",
    "        if not heights: return 0\n",
    "        \n",
    "        pre = 0\n",
    "        ans = [heights[0]]\n",
    "        l = [heights[0]]\n",
    "        for i in range(1, len(heights)):\n",
    "            cur = heights[i]\n",
    "            \n",
    "            if cur < l[0]: # 小于最小值\n",
    "                ans.append((pre+len(l)+1)*cur)\n",
    "                j = 0\n",
    "                while l[j]<cur:\n",
    "                    j+=1\n",
    "                pre = len(l) - j\n",
    "                l = [cur]\n",
    "            else:\n",
    "                l.append(cur)\n",
    "                j = 1\n",
    "                while j < len(l) and l[j] <= cur:\n",
    "                    j+=1\n",
    "                low = l[:j]\n",
    "                result = list(map(lambda x,y: x*y, low[::-1], list(range(len(l)-len(low)+1,len(l)+1))))\n",
    "                \n",
    "                result.append((len(l)-j)*cur)     # 计算cur 及比它大的\n",
    "                \n",
    "                result.append((pre+len(l))*l[0])  # 计算l[0]\n",
    "                \n",
    "                result.append(cur)                # 当前cur值\n",
    "            \n",
    "                ans.append(max(result))\n",
    "                \n",
    "                if cur<=l[-2]:\n",
    "                    pre = j\n",
    "                    l = l[-1:]\n",
    "        print(ans)\n",
    "        return max(ans)\n",
    "# print([4,2,0,3,2,4,3,4],'ans:10')\n",
    "Solution().largestRectangleArea([4,2,0,3,2,4,3,4]) # [2,1,5,6,2,3])"
   ]
  },
  {
   "cell_type": "code",
   "execution_count": 1763,
   "metadata": {},
   "outputs": [
    {
     "name": "stdout",
     "output_type": "stream",
     "text": [
      "[-1, 0] 2 0\n",
      "[-1, 1] 0 4\n",
      "[-1, 2, 3] 2 4\n",
      "[-1, 2, 4, 5] 3 4\n",
      "[-1, 2, 4, 6, 7] 0 4\n",
      "[-1, 2, 4, 6] 0 4\n",
      "[-1, 2, 4] 0 9\n"
     ]
    },
    {
     "data": {
      "text/plain": [
       "10"
      ]
     },
     "execution_count": 1763,
     "metadata": {},
     "output_type": "execute_result"
    }
   ],
   "source": [
    "class Solution:\n",
    "    def largestRectangleArea(self, heights) -> int:\n",
    "        heights.append(0)\n",
    "        stack = [-1] # 栈记录的是低位\n",
    "        res = 0\n",
    "        for i in range(len(heights)):\n",
    "            while stack and heights[stack[-1]]>heights[i]: # 判断栈顶元素与当前位i的大小关系\n",
    "                print(stack, heights[i], res)\n",
    "                s = stack.pop()                            # 出栈是找到了比当前位i小的 取出来计算\n",
    "                res = max(res,(i-stack[-1]-1)*heights[s])\n",
    "            stack.append(i)\n",
    "        return res\n",
    "Solution().largestRectangleArea([4,2,0,3,2,4,3,4]) #[4,2,0,3,2,4,3,4]) # [2,1,5,6,2,3])"
   ]
  },
  {
   "cell_type": "markdown",
   "metadata": {},
   "source": [
    "# 86. 分隔链表"
   ]
  },
  {
   "cell_type": "code",
   "execution_count": 1764,
   "metadata": {},
   "outputs": [],
   "source": [
    "# Definition for singly-linked list.\n",
    "class ListNode:\n",
    "    def __init__(self, x):\n",
    "        self.val = x\n",
    "        self.next = None\n",
    "\n",
    "class Solution:\n",
    "    def partition(self, head: ListNode, x: int) -> ListNode:\n",
    "        if not head: return head\n",
    "        \n",
    "        p = head\n",
    "        head = ListNode(0) # 虚拟头结点\n",
    "        \n",
    "        # 记录拼接结点\n",
    "        link = None\n",
    "        # 记录上一个大于等于x结点\n",
    "        pre_g = None\n",
    "        # 小于x的结点\n",
    "        pre_l = head \n",
    "        \n",
    "        while p:\n",
    "            # 小于x将其依次拼接到虚拟头结点上\n",
    "            if p.val < x:  \n",
    "                pre_l.next = p\n",
    "                pre_l = pre_l.next\n",
    "            else: \n",
    "                # 记录小结点序列与大结点序列的拼接点\n",
    "                if not link: \n",
    "                    link = p\n",
    "                    pre_g = p\n",
    "                else: \n",
    "                    # 将上一个大于x的结点.next指向当前(大于x)结点\n",
    "                    pre_g.next = p\n",
    "                    pre_g = pre_g.next\n",
    "                \n",
    "            p = p.next\n",
    "            \n",
    "        # 将最后一个大于x的结点.next置为None\n",
    "        if pre_g: pre_g.next = None \n",
    "        # 拼接小结点序列和大结点序列\n",
    "        pre_l.next = link \n",
    "            \n",
    "        return head.next"
   ]
  },
  {
   "cell_type": "markdown",
   "metadata": {},
   "source": [
    "# 88. 合并两个有序数组\n",
    "归并排序"
   ]
  },
  {
   "cell_type": "code",
   "execution_count": 1766,
   "metadata": {},
   "outputs": [],
   "source": [
    "class Solution:\n",
    "    def merge(self, nums1, m: int, nums2, n: int) -> None:\n",
    "        \"\"\"\n",
    "        Do not return anything, modify nums1 in-place instead.\n",
    "        \"\"\"\n",
    "        p = m + n - 1\n",
    "        m -= 1\n",
    "        n -= 1\n",
    "        while m>-1 and n>-1:\n",
    "            if nums1[m]>nums2[n]:\n",
    "                nums1[p] = nums1[m]\n",
    "                m-=1\n",
    "            else: \n",
    "                nums1[p] = nums2[n]\n",
    "                n-=1\n",
    "            p-=1\n",
    "        while n>-1:\n",
    "            nums1[p] = nums2[n]\n",
    "            p-=1\n",
    "            n-=1"
   ]
  },
  {
   "cell_type": "markdown",
   "metadata": {},
   "source": [
    "# 89. 格雷编码\n",
    "题目读不懂~\n",
    ">         关键是搞清楚格雷编码的生成过程, G(i) = i ^ (i/2);\n",
    "        如 n = 3: \n",
    "        G(0) = 000, \n",
    "        G(1) = 1 ^ 0 = 001 ^ 000 = 001\n",
    "        G(2) = 2 ^ 1 = 010 ^ 001 = 011 \n",
    "        G(3) = 3 ^ 1 = 011 ^ 001 = 010\n",
    "        G(4) = 4 ^ 2 = 100 ^ 010 = 110\n",
    "        G(5) = 5 ^ 2 = 101 ^ 010 = 111\n",
    "        G(6) = 6 ^ 3 = 110 ^ 011 = 101\n",
    "        G(7) = 7 ^ 3 = 111 ^ 011 = 100"
   ]
  },
  {
   "cell_type": "code",
   "execution_count": 1775,
   "metadata": {},
   "outputs": [],
   "source": [
    "class Solution:\n",
    "    def grayCode(self, n: int):\n",
    "        return [i ^ i >> 1  for i in range(2 ** n)]"
   ]
  },
  {
   "cell_type": "markdown",
   "metadata": {},
   "source": [
    "# 90. 子集 II\n",
    "**示例:**\n",
    "``` python\n",
    "输入: [1,2,2]\n",
    "输出:\n",
    "[\n",
    "  [2],\n",
    "  [1],\n",
    "  [1,2,2],\n",
    "  [2,2],\n",
    "  [1,2],\n",
    "  []\n",
    "]\n",
    "```\n",
    "\n",
    "[@麦麦麦麦子。](https://leetcode-cn.com/mai-mai-mai-mai-zi)\n",
    "> 提供一个不用去重也不用排序的思路，  \n",
    "先统计每个数字的频次，  \n",
    "之后再根据每个数字的频次来组合，如 [1，2，2，3，3，3]  \n",
    "得到字典｛1:1,2:2,3:3｝之后，  \n",
    "直接按个数组合就能得到结果也能避免重合。即0个数字的子集为1种，1个数字的子集为3种，2个数字的子集……6个数字的子集就能得到所有结果  \n",
    "以下代码基于上述思路，但用了一点小trick实现，时间85%，空间95%左右  "
   ]
  },
  {
   "cell_type": "code",
   "execution_count": 1814,
   "metadata": {},
   "outputs": [
    {
     "data": {
      "text/plain": [
       "[[], [1], [2], [2, 2], [1, 2], [1, 2, 2]]"
      ]
     },
     "execution_count": 1814,
     "metadata": {},
     "output_type": "execute_result"
    }
   ],
   "source": [
    "class Solution:\n",
    "    def subsetsWithDup(self, nums):\n",
    "        dic = {}\n",
    "        for i in nums:\n",
    "            dic[i] = dic.get(i, 0) + 1\n",
    "        \n",
    "        ans = [[]]\n",
    "        for k, v in dic.items():           \n",
    "            t = ans.copy()\n",
    "            for i in ans:\n",
    "                t.extend(i+[k]*(j+1) for j in range(v))\n",
    "            ans = t\n",
    "        return ans\n",
    "Solution().subsetsWithDup([1,2,2])"
   ]
  },
  {
   "cell_type": "markdown",
   "metadata": {},
   "source": [
    "# 49. 字母异位词分组"
   ]
  },
  {
   "cell_type": "code",
   "execution_count": 1872,
   "metadata": {},
   "outputs": [],
   "source": [
    "class Solution:\n",
    "    def groupAnagrams(self, strs):\n",
    "        ans = {} \n",
    "        for s in strs:\n",
    "            key = ''.join(sorted(s))\n",
    "            if key in ans.keys():\n",
    "                ans[key].append(s)\n",
    "            else:\n",
    "                ans[key] = [s]\n",
    "        return list(ans.values())"
   ]
  },
  {
   "cell_type": "code",
   "execution_count": 1874,
   "metadata": {},
   "outputs": [
    {
     "data": {
      "text/plain": [
       "[['bat'], ['eat', 'tea', 'ate'], ['tan', 'nat']]"
      ]
     },
     "execution_count": 1874,
     "metadata": {},
     "output_type": "execute_result"
    }
   ],
   "source": [
    "# 这代码在Leetcode中执行失败\n",
    "strs = [\"eat\", \"tea\", \"tan\", \"ate\", \"nat\", \"bat\"]\n",
    "ans = {} \n",
    "for s in strs:\n",
    "    count = [0]*26\n",
    "    for c in s:\n",
    "        count[ord(c) - ord('a')] += 1\n",
    "    key = ''.join(list(map(str, count)))\n",
    "    vals = ans.get(key, list())\n",
    "    vals.append(s)\n",
    "    ans[key] = vals\n",
    "list(ans.values())"
   ]
  },
  {
   "cell_type": "markdown",
   "metadata": {},
   "source": [
    "# 91. 解码方法\n",
    "\n",
    "就是dp[i]=dp[i-1]+dp[i-2]的变形。 分以下情况  \n",
    "1.当s[i]==0&&s[i-1]==0时，返回0；  \n",
    "2.当s[i+1]='0'时，s[i]和s[i+1]组成的数字>0,<27时，dp[i]=dp[i-1]，否则dp[i]=0  \n",
    "3.当s[i+1]不等0时，若s[i]或s[i-1]等于0，dp[i]=dp[i-1];   \n",
    "  3.1. 当s[i+1]不等0时，若s[i]和s[i-1]均不等于0，s[i]和s[i+1]组成的数字>0,<27时，dp[i]=dp[i-1]+dp[i-2]，否则dp[i]=dp[i-1]  \n",
    "  \n",
    "  \n",
    "动态规划  \n",
    "\n",
    "约束版f(n) = f(n-1) + f(n-2)  \n",
    "当s\\[n-1] = 0时候,0无法单独解码  f(n-1) = 0  所以f(n)=f(n-2)  \n",
    "再判断f(n-2) 如果不在范围就为0  "
   ]
  },
  {
   "cell_type": "code",
   "execution_count": 1880,
   "metadata": {},
   "outputs": [
    {
     "data": {
      "text/plain": [
       "2"
      ]
     },
     "execution_count": 1880,
     "metadata": {},
     "output_type": "execute_result"
    }
   ],
   "source": [
    "class Solution:\n",
    "    def numDecodings(self, s: str) -> int:\n",
    "        if len(s) == 1 or s[0] == \"0\":\n",
    "            return 0 if s[0] == \"0\" else 1\n",
    "        res = []\n",
    "        res.append(1)\n",
    "        res.append(1)\n",
    "\n",
    "        for i in range(1, len(s)):\n",
    "            num = int(s[i-1:i+1])\n",
    "            temp = (0 if int(s[i])==0 else res[-1]) + (0 if num > 26 or num<10 else res[-2])\n",
    "            res.append(temp)\n",
    "\n",
    "        return res[-1]\n",
    "    \n",
    "Solution().numDecodings('12')"
   ]
  },
  {
   "cell_type": "markdown",
   "metadata": {},
   "source": [
    "# 92. 反转链表 II\n",
    "将m,n结点使用栈进行反转"
   ]
  },
  {
   "cell_type": "code",
   "execution_count": 1882,
   "metadata": {},
   "outputs": [],
   "source": [
    "# Definition for singly-linked list.\n",
    "# class ListNode:\n",
    "#     def __init__(self, x):\n",
    "#         self.val = x\n",
    "#         self.next = None\n",
    "\n",
    "class Solution:\n",
    "    def reverseBetween(self, head: ListNode, m: int, n: int) -> ListNode:\n",
    "        begin = ListNode(0)\n",
    "        begin.next = head\n",
    "        \n",
    "        pre = begin\n",
    "        for _ in range(1,m):\n",
    "            pre = pre.next\n",
    "        \n",
    "        tail = pre.next\n",
    "        \n",
    "        for _ in range(m,n):\n",
    "            nex = tail.next\n",
    "            # pre.next, tail.next, nex.next = nex, nex.next, pre.next\n",
    "            # 等价于\n",
    "            tail.next = nex.next\n",
    "            nex.next = pre.next # 这里不能用tail 需要用pre.next\n",
    "            pre.next = nex \n",
    "        return begin.next"
   ]
  },
  {
   "cell_type": "markdown",
   "metadata": {},
   "source": [
    "# 93. 复原IP地址"
   ]
  },
  {
   "cell_type": "code",
   "execution_count": 1949,
   "metadata": {},
   "outputs": [],
   "source": [
    "class Solution:\n",
    "    def restoreIpAddresses(self, s: str) -> [str]:\n",
    "        def inrange(seg):\n",
    "            # 超出255 超出三位限制 0为开始且长度大于1\n",
    "            return len(seg)<4 and int(seg)<256 and not (seg[0]=='0'and len(seg)>1)\n",
    "\n",
    "        def dfs(s,n,tmp,ans):\n",
    "            if n==0 and inrange(s): \n",
    "                ans.append(tmp+s)\n",
    "            for i in range(len(s)-1):\n",
    "                seg = s[:i+1]\n",
    "                if not inrange(seg): break\n",
    "                dfs(s[i+1:], n-1, tmp+seg+'.',ans)\n",
    "        \n",
    "        if len(s)>12: return [] # 防止恶意测试用例的超出时长\n",
    "        ans = []\n",
    "        dfs(s,3,'',ans)\n",
    "        return ans"
   ]
  },
  {
   "cell_type": "markdown",
   "metadata": {},
   "source": [
    "# 94. 二叉树的中序遍历"
   ]
  },
  {
   "cell_type": "code",
   "execution_count": 1950,
   "metadata": {},
   "outputs": [],
   "source": [
    "# Definition for a binary tree node.\n",
    "class TreeNode:\n",
    "    def __init__(self, x):\n",
    "        self.val = x\n",
    "        self.left = None\n",
    "        self.right = None\n",
    "\n",
    "class Solution:\n",
    "    def inorderTraversal(self, root: TreeNode):\n",
    "        ##########\n",
    "        # 迭代算法 68ms\n",
    "        ##########\n",
    "        ans,stack = [],[]\n",
    "        while True:\n",
    "            while root:\n",
    "                stack.append(root)\n",
    "                root = root.left\n",
    "            if not stack:\n",
    "                return ans\n",
    "            node = stack.pop()\n",
    "            ans.append(node.val)\n",
    "            root = node.right\n",
    "        return ans\n",
    "        \n",
    "        \n",
    "        ##########\n",
    "        # 递归算法 44ms\n",
    "        ##########\n",
    "#         def dfs(node, ans):\n",
    "#             if not node: return\n",
    "#             dfs(node.left,ans)\n",
    "#             ans.append(node.val)\n",
    "#             dfs(node.right,ans)\n",
    "        \n",
    "#         ans = []\n",
    "#         dfs(root, ans)\n",
    "#         return ans\n",
    "\n",
    "        ##########\n",
    "        # 递归算法(简化)88ms 没上一个自己写的算法快\n",
    "        ##########\n",
    "        # f = self.inorderTraversal\n",
    "        # return f(root.left) + [root.val] + f(root.right) if root else []"
   ]
  },
  {
   "cell_type": "markdown",
   "metadata": {},
   "source": [
    "# 95. 不同的二叉搜索树 II"
   ]
  },
  {
   "cell_type": "code",
   "execution_count": 1966,
   "metadata": {},
   "outputs": [],
   "source": [
    "# Definition for a binary tree node.\n",
    "class TreeNode:\n",
    "    def __init__(self, x):\n",
    "        self.val = x\n",
    "        self.left = None\n",
    "        self.right = None\n",
    "\n",
    "class Solution:\n",
    "    def generateTrees(self, n: int):\n",
    "        def helper(tree):\n",
    "            # tree 为有序数组\n",
    "            ans = []\n",
    "            # 遍历可能的根结点\n",
    "            for i, val in enumerate(tree):\n",
    "                # left、right 分别为左右子树包含的结点\n",
    "                left, right = tree[:i], tree[i+1:]\n",
    "                # 若左子树为 NULL，则令其为 [None]\n",
    "                for ltree in helper(left) or [None]:\n",
    "                    # 若右子树为 NULL，则令其为 [None]\n",
    "                    for rtree in helper(right) or [None]:\n",
    "                        root = TreeNode(val)\n",
    "                        root.left, root.right = ltree, rtree\n",
    "                        ans.append(root)\n",
    "            return ans\n",
    "        return helper(range(1, n+1))"
   ]
  },
  {
   "cell_type": "markdown",
   "metadata": {},
   "source": [
    "# 96. 不同的二叉搜索树"
   ]
  },
  {
   "cell_type": "code",
   "execution_count": 1952,
   "metadata": {},
   "outputs": [],
   "source": [
    "class Solution:\n",
    "    def numTrees(self, n: int) -> int:\n",
    "        dp = [0] * (n+1)\n",
    "        dp[0] = 1\n",
    "        dp[1] = 1\n",
    "        \n",
    "        for i in range(2,n+1):\n",
    "            for j in range(1,i+1):\n",
    "                dp[i] += dp[j-1] * dp[i-j]\n",
    "        return dp[n]"
   ]
  },
  {
   "cell_type": "code",
   "execution_count": 1985,
   "metadata": {},
   "outputs": [
    {
     "data": {
      "text/plain": [
       "True"
      ]
     },
     "execution_count": 1985,
     "metadata": {},
     "output_type": "execute_result"
    }
   ],
   "source": [
    "s1 = \"aabcc\"\n",
    "s2 = \"dbbca\"\n",
    "s3 = \"aadbbcbcac\"\n",
    "\n",
    "# s1 = \"ab\"\n",
    "# s2 = \"ac\"\n",
    "# s3 = \"ad\"\n",
    "\n",
    "stack1 = list(s1[::-1])\n",
    "stack2 = list(s2[::-1])\n",
    "\n",
    "def foo(stack1, stack2, s3):\n",
    "    if not s3: \n",
    "        return True\n",
    "\n",
    "    ans = False\n",
    "    if stack1 and s3[0] == stack1[-1]:\n",
    "        stack1.pop()\n",
    "        ans = foo(stack1.copy(), stack2.copy(), s3[1:])\n",
    "        stack1.append(s3[0])\n",
    "    \n",
    "    if ans: return ans\n",
    "    \n",
    "    if stack2 and s3[0] == stack2[-1]:\n",
    "        stack2.pop()\n",
    "        ans = foo(stack1.copy(), stack2.copy(), s3[1:])\n",
    "        stack2.append(s3[0])\n",
    "\n",
    "    return ans\n",
    "\n",
    "foo(stack1, stack2, s3)"
   ]
  },
  {
   "cell_type": "markdown",
   "metadata": {},
   "source": [
    "# 97. 交错字符串\n",
    "1. 自己实现的递归，能解，但超时\n",
    "2. 用DP\n",
    "\n",
    "> 字符串问题用递归就是个弟弟！\n",
    "\n",
    "首先根据s1,s2填充与s3字符相同的位置，然后对dp[i][j]进行判断，有两种可能：1. s1匹配前面的，用s2的当前位置 2. s2匹配前面的,用s1匹配当前位置"
   ]
  },
  {
   "cell_type": "code",
   "execution_count": 1991,
   "metadata": {},
   "outputs": [],
   "source": [
    "# 自己的递归超时\n",
    "class Solution:\n",
    "    def isInterleave(self, s1: str, s2: str, s3: str) -> bool:\n",
    "        stack1 = list(s1[::-1])\n",
    "        stack2 = list(s2[::-1])\n",
    "\n",
    "        def foo(stack1, stack2, s3):\n",
    "            if not s3: \n",
    "                return True\n",
    "\n",
    "            ans = False\n",
    "            \n",
    "            if stack1 and s3[0] == stack1[-1]:\n",
    "                stack1.pop()\n",
    "                ans = foo(stack1.copy(), stack2.copy(), s3[1:])\n",
    "                stack1.append(s3[0])\n",
    "\n",
    "            if ans: return ans\n",
    "\n",
    "            if stack2 and s3[0] == stack2[-1]:\n",
    "                stack2.pop()\n",
    "                ans = foo(stack1.copy(), stack2.copy(), s3[1:])\n",
    "                stack2.append(s3[0])\n",
    "\n",
    "            return ans\n",
    "\n",
    "        return foo(stack1, stack2, s3)\n",
    "        \n",
    "# Solution().isInterleave(\"bbbbbabbbbabaababaaaabbababbaaabbabbaaabaaaaababbbababbbbbabbbbababbabaabababbbaabababababbbaaababaa\",\n",
    "# \"babaaaabbababbbabbbbaabaabbaabbbbaabaaabaababaaaabaaabbaaabaaaabaabaabbbbbbbbbbbabaaabbababbabbabaab\",\n",
    "# \"babbbabbbaaabbababbbbababaabbabaabaaabbbbabbbaaabbbaaaaabbbbaabbaaabababbaaaaaabababbababaababbababbbababbbbaaaabaabbabbaaaaabbabbaaaabbbaabaaabaababaababbaaabbbbbabbbbaabbabaabbbbabaaabbababbabbabbab\")"
   ]
  },
  {
   "cell_type": "code",
   "execution_count": 2009,
   "metadata": {},
   "outputs": [
    {
     "name": "stdout",
     "output_type": "stream",
     "text": [
      "[1, 0, 0, 0, 0, 0]\n",
      "[1, 0, 0, 0, 0, 0]\n",
      "[1, 0, 0, 0, 0, 0]\n",
      "[0, 0, 0, 0, 0, 0]\n",
      "[0, 0, 0, 0, 0, 0]\n"
     ]
    },
    {
     "data": {
      "text/plain": [
       "True"
      ]
     },
     "execution_count": 2009,
     "metadata": {},
     "output_type": "execute_result"
    }
   ],
   "source": [
    "class Solution:\n",
    "    def isInterleave(self, s1: str, s2: str, s3: str) -> bool:\n",
    "        \n",
    "        l1,l2,l3 = len(s1),len(s2),len(s3)\n",
    "        if l1+l2 != l3 : return False\n",
    "        \n",
    "        f = [[0 for j in range(l2+1)] for i in range(l1+1)]\n",
    "        f[0][0] = 1\n",
    "        \n",
    "        for i in range(1, l1+1):\n",
    "            f[i][0] = f[i-1][0] if s1[i-1] == s3[i-1] else 0\n",
    "        \n",
    "        for j in range(1, l2+1):\n",
    "            f[0][j] = f[0][j-1] if s2[j-1] == s3[j-1] else 0\n",
    "        \n",
    "        for i in range(1, l1+1):\n",
    "            for j in range(1, l2+1):\n",
    "                f[i][j] = f[i-1][j]&(s1[i-1]==s3[i-1+j]) | f[i][j-1]&(s2[j-1]==s3[i-1+j])\n",
    "        \n",
    "        return bool(f[-1][-1])\n",
    "Solution().isInterleave(\"aabcc\",\n",
    "\"dbbca\",\n",
    "\"aadbbcbcac\")"
   ]
  },
  {
   "cell_type": "markdown",
   "metadata": {},
   "source": [
    "# 98. 验证二叉搜索树\n",
    "验证二叉树的中序遍历是否为升序\n",
    "1. 自己实现\n",
    "2. ~~优化实现~~(使用`return sorted(res)==res and len(res)==len(set(res))` 并不会提升效率)"
   ]
  },
  {
   "cell_type": "code",
   "execution_count": 2011,
   "metadata": {},
   "outputs": [],
   "source": [
    "# \n",
    "# Definition for a binary tree node.\n",
    "class TreeNode:\n",
    "    def __init__(self, x):\n",
    "        self.val = x\n",
    "        self.left = None\n",
    "        self.right = None\n",
    "\n",
    "class Solution:\n",
    "    def isValidBST(self, root: TreeNode) -> bool:\n",
    "        \n",
    "        def foo(root, ans):\n",
    "            if not root: return\n",
    "            foo(root.left, ans)\n",
    "            ans.append(root.val)\n",
    "            foo(root.right, ans)\n",
    "            \n",
    "        ans = []\n",
    "        foo(root, ans)\n",
    "        for i in range(1, len(ans)):\n",
    "            if ans[i]<= ans[i-1]:\n",
    "                return False\n",
    "            \n",
    "        return True"
   ]
  },
  {
   "cell_type": "markdown",
   "metadata": {},
   "source": [
    "# 100. 相同的树"
   ]
  },
  {
   "cell_type": "code",
   "execution_count": 2012,
   "metadata": {},
   "outputs": [],
   "source": [
    "# Definition for a binary tree node.\n",
    "class TreeNode:\n",
    "    def __init__(self, x):\n",
    "        self.val = x\n",
    "        self.left = None\n",
    "        self.right = None\n",
    "\n",
    "class Solution:\n",
    "    def isSameTree(self, p: TreeNode, q: TreeNode) -> bool:\n",
    "        if p == q == None: return True\n",
    "\n",
    "        if not p or not q or p.val != q.val: return False\n",
    "\n",
    "        r = self.isSameTree(p.left, q.left)\n",
    "        if not r: return r\n",
    "        r = self.isSameTree(p.right, q.right)\n",
    "        return r"
   ]
  },
  {
   "cell_type": "markdown",
   "metadata": {},
   "source": [
    "# 101. 对称二叉树\n",
    "1. 迭代：层次遍历\n",
    "2. 递归"
   ]
  },
  {
   "cell_type": "code",
   "execution_count": 2014,
   "metadata": {},
   "outputs": [],
   "source": [
    "# Definition for a binary tree node.\n",
    "class TreeNode:\n",
    "    def __init__(self, x):\n",
    "        self.val = x\n",
    "        self.left = None\n",
    "        self.right = None\n",
    "\n",
    "class Solution:\n",
    "    def isSymmetric(self, root: TreeNode) -> bool:\n",
    "#         Way2 递归法\n",
    "        def foo(n1,n2):\n",
    "            if not n1 and not n2:\n",
    "                return True\n",
    "            elif not n1 or not n2:\n",
    "                return False\n",
    "\n",
    "            if n1.val != n2.val:\n",
    "                return False\n",
    "\n",
    "            return foo(n1.left, n2.right) and foo(n1.right, n2.left)\n",
    "        \n",
    "        return foo(root, root)\n",
    "        \n",
    "#         Way1 迭代法\n",
    "#         layer = [root]\n",
    "        \n",
    "#         while layer and set(layer) != {None}:\n",
    "#             next_layer = []\n",
    "#             vals = []\n",
    "            \n",
    "#             for node in layer:\n",
    "#                 vals.append(node.val if node else -1)\n",
    "#                 next_layer.append(node.left if node else None)\n",
    "#                 next_layer.append(node.right if node else None)\n",
    "            \n",
    "#             if vals != vals[::-1]:\n",
    "#                 return False\n",
    "#             layer = next_layer\n",
    "#         return True"
   ]
  },
  {
   "cell_type": "markdown",
   "metadata": {},
   "source": [
    "# 102. 二叉树的层次遍历\n",
    "层次遍历，迭代及数组实现队列"
   ]
  },
  {
   "cell_type": "code",
   "execution_count": 2015,
   "metadata": {},
   "outputs": [],
   "source": [
    "# Definition for a binary tree node.\n",
    "class TreeNode:\n",
    "    def __init__(self, x):\n",
    "        self.val = x\n",
    "        self.left = None\n",
    "        self.right = None\n",
    "\n",
    "class Solution:\n",
    "    def levelOrder(self, root: TreeNode):\n",
    "        # 1. 迭代\n",
    "        # \n",
    "#         if not root: return []\n",
    "        \n",
    "#         layer = [root]\n",
    "#         ans =[]\n",
    "        \n",
    "#         while layer:\n",
    "#             next_layer = []\n",
    "#             vals = []\n",
    "#             for node in layer:\n",
    "#                 if not node: continue\n",
    "#                 vals.append(node.val)\n",
    "#                 next_layer.append(node.left)\n",
    "#                 next_layer.append(node.right)\n",
    "            \n",
    "#             layer = next_layer            \n",
    "#             ans.append(vals)\n",
    "#         return ans[:-1]\n",
    "    \n",
    "        # 2. Queue\n",
    "        if not root: return []\n",
    "        \n",
    "        ans = []\n",
    "        queue = [root]\n",
    "        while queue:\n",
    "            vals = []\n",
    "            for i in range(len(queue)):\n",
    "                node = queue.pop(0)\n",
    "                vals.append(node.val)\n",
    "                if node.left:\n",
    "                    queue.append(node.left)\n",
    "                if node.right:\n",
    "                    queue.append(node.right)\n",
    "            \n",
    "            ans.append(vals)\n",
    "        return ans                "
   ]
  },
  {
   "cell_type": "markdown",
   "metadata": {},
   "source": [
    "# 103. 二叉树的锯齿形层次遍历"
   ]
  },
  {
   "cell_type": "code",
   "execution_count": 2016,
   "metadata": {},
   "outputs": [],
   "source": [
    "# Definition for a binary tree node.\n",
    "class TreeNode:\n",
    "    def __init__(self, x):\n",
    "        self.val = x\n",
    "        self.left = None\n",
    "        self.right = None\n",
    "\n",
    "class Solution:\n",
    "    def zigzagLevelOrder(self, root: TreeNode):\n",
    "        if not root: return []\n",
    "        \n",
    "        layer = [root]\n",
    "        ans = []\n",
    "        i = 1\n",
    "        \n",
    "        while layer:\n",
    "            next_layer = []\n",
    "            vals = []\n",
    "            for node in layer:\n",
    "                if node:\n",
    "                    vals.append(node.val)\n",
    "                    \n",
    "                    if node.left:\n",
    "                        next_layer.append(node.left)\n",
    "                    if node.right:\n",
    "                        next_layer.append(node.right)\n",
    "                \n",
    "            layer = next_layer\n",
    "            ans.append(vals[::i])\n",
    "            i*=-1\n",
    "            \n",
    "        return ans"
   ]
  },
  {
   "cell_type": "code",
   "execution_count": 2019,
   "metadata": {},
   "outputs": [
    {
     "name": "stdout",
     "output_type": "stream",
     "text": [
      "3 [9] [15, 20, 7]\n",
      "9 [] [3, 15, 20, 7]\n",
      "20 [9, 3, 15] [7]\n",
      "15 [9, 3] [20, 7]\n",
      "7 [9, 3, 15, 20] []\n"
     ]
    }
   ],
   "source": [
    "preorder = [3,9,20,15,7]\n",
    "inorder = [9,3,15,20,7]\n",
    "\n",
    "class TreeNode:\n",
    "    def __init__(self, x):\n",
    "        self.val = x\n",
    "        self.left = None\n",
    "        self.right = None\n",
    "        \n",
    "node = TreeNode(preorder[0])\n",
    "mid = inorder.index(preorder[0])\n",
    "left = inorder[:mid]\n",
    "right = inorder[mid+1:]\n",
    "i = 1\n",
    "while i < len(preorder):\n",
    "    val = preorder[i]\n",
    "    \n",
    "    if val in left:\n",
    "        left.remove(val)\n",
    "        node.left = TreeNode(val)\n",
    "    \n",
    "    if val in right:\n",
    "        left.remove(val)\n",
    "        node.right = TreeNode(val)\n",
    "        \n",
    "        \n",
    "    \n",
    "\n",
    "    \n",
    "    "
   ]
  },
  {
   "cell_type": "markdown",
   "metadata": {},
   "source": [
    "# 104. 二叉树的最大深度"
   ]
  },
  {
   "cell_type": "code",
   "execution_count": 2020,
   "metadata": {},
   "outputs": [],
   "source": [
    "# Definition for a binary tree node.\n",
    "class TreeNode:\n",
    "    def __init__(self, x):\n",
    "        self.val = x\n",
    "        self.left = None\n",
    "        self.right = None\n",
    "class Solution:\n",
    "    def maxDepth(self, root: TreeNode) -> int:\n",
    "        return 0 if not root else max(self.maxDepth(root.left), self.maxDepth(root.right)) + 1"
   ]
  },
  {
   "cell_type": "markdown",
   "metadata": {},
   "source": [
    "# 105. 从前序与中序遍历序列构造二叉树"
   ]
  },
  {
   "cell_type": "code",
   "execution_count": 2030,
   "metadata": {},
   "outputs": [],
   "source": [
    "# Definition for a binary tree node.\n",
    "class TreeNode:\n",
    "    def __init__(self, x):\n",
    "        self.val = x\n",
    "        self.left = None\n",
    "        self.right = None\n",
    "\n",
    "class Solution:\n",
    "    def buildTree(self, preorder, inorder) -> TreeNode:\n",
    "        \"\"\"\n",
    "        :type preorder: List[int]\n",
    "        :type inorder: List[int]\n",
    "        :rtype: TreeNode\n",
    "        \"\"\"\n",
    "        def helper(in_left = 0, in_right = len(inorder)):\n",
    "            nonlocal pre_idx\n",
    "            # if there is no elements to construct subtrees\n",
    "            if in_left == in_right:\n",
    "                print('空结点',in_left)\n",
    "                return None\n",
    "            \n",
    "            # pick up pre_idx element as a root\n",
    "            root_val = preorder[pre_idx]\n",
    "            root = TreeNode(root_val)\n",
    "            print('已添加结点：',root_val)\n",
    "\n",
    "            # root splits inorder list\n",
    "            # into left and right subtrees\n",
    "            index = idx_map[root_val]\n",
    "\n",
    "            # recursion \n",
    "            pre_idx += 1\n",
    "            # build left subtree\n",
    "            print(root_val,'Left')\n",
    "            root.left = helper(in_left, index)\n",
    "            # build right subtree\n",
    "            print(root_val,'Right')\n",
    "            root.right = helper(index + 1, in_right)\n",
    "            return root\n",
    "        \n",
    "        # start from first preorder element\n",
    "        pre_idx = 0\n",
    "        # build a hashmap value -> its index\n",
    "        idx_map = {val:idx for idx, val in enumerate(inorder)} \n",
    "        return helper()\n",
    "    \n",
    "root = Solution().buildTree([3,9,20,15,7],[9,3,15,20,7])"
   ]
  },
  {
   "cell_type": "markdown",
   "metadata": {},
   "source": [
    "# 106. 从中序与后序遍历序列构造二叉树"
   ]
  },
  {
   "cell_type": "code",
   "execution_count": 2032,
   "metadata": {},
   "outputs": [],
   "source": [
    "# Definition for a binary tree node.\n",
    "class TreeNode:\n",
    "    def __init__(self, x):\n",
    "        self.val = x\n",
    "        self.left = None\n",
    "        self.right = None\n",
    "\n",
    "class Solution:\n",
    "    def buildTree(self, inorder, postorder) -> TreeNode:\n",
    "        if len(inorder) == 0:\n",
    "            return None\n",
    "        if len(inorder) == 1:\n",
    "            # 这里要返回结点，而不是返回具体的数\n",
    "            return TreeNode(inorder[0])\n",
    "\n",
    "        root = TreeNode(postorder[-1])\n",
    "\n",
    "        pos = inorder.index(postorder[-1])\n",
    "\n",
    "        root.left = self.buildTree(inorder[:pos], postorder[:pos])\n",
    "        root.right = self.buildTree(inorder[pos + 1:], postorder[pos:-1])\n",
    "        return root"
   ]
  },
  {
   "cell_type": "markdown",
   "metadata": {},
   "source": [
    "# 107. 二叉树的层次遍历 II"
   ]
  },
  {
   "cell_type": "code",
   "execution_count": 2034,
   "metadata": {},
   "outputs": [],
   "source": [
    "# Definition for a binary tree node.\n",
    "class TreeNode:\n",
    "    def __init__(self, x):\n",
    "        self.val = x\n",
    "        self.left = None\n",
    "        self.right = None\n",
    "\n",
    "class Solution:\n",
    "    def levelOrderBottom(self, root: TreeNode):\n",
    "        ans = []\n",
    "        layer = [root]\n",
    "        while layer:\n",
    "            vals = []\n",
    "            next_layer = []\n",
    "            for node in layer:\n",
    "                if not node: continue\n",
    "                vals.append(node.val)\n",
    "                if node.left: next_layer.append(node.left)\n",
    "                if node.right: next_layer.append(node.right)\n",
    "            if vals: ans.append(vals)\n",
    "            layer = next_layer\n",
    "        return ans[::-1]"
   ]
  },
  {
   "cell_type": "markdown",
   "metadata": {},
   "source": [
    "# 108. 将有序数组转换为二叉搜索树"
   ]
  },
  {
   "cell_type": "code",
   "execution_count": 2041,
   "metadata": {},
   "outputs": [
    {
     "data": {
      "text/plain": [
       "<__main__.TreeNode at 0x7f4d74152400>"
      ]
     },
     "execution_count": 2041,
     "metadata": {},
     "output_type": "execute_result"
    }
   ],
   "source": [
    "# Definition for a binary tree node.\n",
    "class TreeNode:\n",
    "    def __init__(self, x):\n",
    "        self.val = x\n",
    "        self.left = None\n",
    "        self.right = None\n",
    "\n",
    "class Solution:\n",
    "    def sortedArrayToBST(self, nums) -> TreeNode:\n",
    "        if not nums: return None\n",
    "    \n",
    "        mid = len(nums) // 2\n",
    "        root = TreeNode(nums[mid])\n",
    "\n",
    "        root.left = self.sortedArrayToBST(nums[:mid])\n",
    "        root.right = self.sortedArrayToBST(nums[mid+1:])\n",
    "        \n",
    "        return root\n",
    "    \n",
    "Solution().sortedArrayToBST([-10,-3,0,5,9])"
   ]
  },
  {
   "cell_type": "markdown",
   "metadata": {},
   "source": [
    "# 109. 有序链表转换二叉搜索树"
   ]
  },
  {
   "cell_type": "code",
   "execution_count": 2042,
   "metadata": {},
   "outputs": [],
   "source": [
    "# Definition for singly-linked list.\n",
    "class ListNode:\n",
    "    def __init__(self, x):\n",
    "        self.val = x\n",
    "        self.next = None\n",
    "\n",
    "# Definition for a binary tree node.\n",
    "class TreeNode:\n",
    "    def __init__(self, x):\n",
    "        self.val = x\n",
    "        self.left = None\n",
    "        self.right = None\n",
    "\n",
    "class Solution:\n",
    "    def findMiddle(self, head):\n",
    "        # way1 使用递归\n",
    "        # way2 链表转数组 方法同上一题\n",
    "        # The pointer used to disconnect the left half from the mid node.\n",
    "        prevPtr = None\n",
    "        slowPtr = head\n",
    "        fastPtr = head\n",
    "\n",
    "        # Iterate until fastPr doesn't reach the end of the linked list.\n",
    "        while fastPtr and fastPtr.next:\n",
    "            prevPtr = slowPtr\n",
    "            slowPtr = slowPtr.next\n",
    "            fastPtr = fastPtr.next.next\n",
    "\n",
    "        # Handling the case when slowPtr was equal to head.\n",
    "        if prevPtr:\n",
    "            prevPtr.next = None\n",
    "\n",
    "        return slowPtr\n",
    "    \n",
    "    def sortedListToBST(self, head: ListNode) -> TreeNode:\n",
    "        # If the head doesn't exist, then the linked list is empty\n",
    "        if not head:\n",
    "            return None\n",
    "\n",
    "        # Find the middle element for the list.\n",
    "        mid = self.findMiddle(head)\n",
    "\n",
    "        # The mid becomes the root of the BST.\n",
    "        node = TreeNode(mid.val)\n",
    "\n",
    "        # Base case when there is just one element in the linked list\n",
    "        if head == mid:\n",
    "            return node\n",
    "\n",
    "        # Recursively form balanced BSTs using the left and right halves of the original list.\n",
    "        node.left = self.sortedListToBST(head)\n",
    "        node.right = self.sortedListToBST(mid.next)\n",
    "        return node"
   ]
  },
  {
   "cell_type": "markdown",
   "metadata": {},
   "source": [
    "# 110. 平衡二叉树"
   ]
  },
  {
   "cell_type": "code",
   "execution_count": 2043,
   "metadata": {},
   "outputs": [],
   "source": [
    "# Definition for a binary tree node.\n",
    "class TreeNode:\n",
    "    def __init__(self, x):\n",
    "        self.val = x\n",
    "        self.left = None\n",
    "        self.right = None\n",
    "\n",
    "class Solution:\n",
    "    def isBalanced(self, root: TreeNode) -> bool:\n",
    "        def depth(node):\n",
    "            if not node: return 0\n",
    "            l = depth(node.left)\n",
    "            r = depth(node.right)\n",
    "            if l==-1 or r==-1: return -1\n",
    "            return max(l,r)+1 if abs(l-r)<2 else -1\n",
    "        \n",
    "        return depth(root)!=-1"
   ]
  },
  {
   "cell_type": "markdown",
   "metadata": {},
   "source": [
    "# 111. 二叉树的最小深度"
   ]
  },
  {
   "cell_type": "code",
   "execution_count": 2044,
   "metadata": {},
   "outputs": [],
   "source": [
    "# Definition for a binary tree node.\n",
    "class TreeNode:\n",
    "    def __init__(self, x):\n",
    "        self.val = x\n",
    "        self.left = None\n",
    "        self.right = None\n",
    "\n",
    "class Solution:\n",
    "    def minDepth(self, root: TreeNode) -> int:\n",
    "        if not root: return 0\n",
    "        l = self.minDepth(root.left)\n",
    "        r = self.minDepth(root.right)\n",
    "        return 1+min(l,r) if l and r else 1+l+r"
   ]
  },
  {
   "cell_type": "markdown",
   "metadata": {},
   "source": [
    "# 112. 路径总和"
   ]
  },
  {
   "cell_type": "code",
   "execution_count": 2045,
   "metadata": {},
   "outputs": [],
   "source": [
    "# Definition for a binary tree node.\n",
    "class TreeNode:\n",
    "    def __init__(self, x):\n",
    "        self.val = x\n",
    "        self.left = None\n",
    "        self.right = None\n",
    "\n",
    "class Solution:\n",
    "    def hasPathSum(self, root: TreeNode, sum_: int) -> bool:\n",
    "        if not root: return False\n",
    "        if root.val == sum_ and not root.left and not root.right: return True\n",
    "        \n",
    "        l = self.hasPathSum(root.left, sum_-root.val)\n",
    "        if l: return True\n",
    "        r = self.hasPathSum(root.right, sum_-root.val)\n",
    "        if r: return True\n",
    "        \n",
    "        return False"
   ]
  },
  {
   "cell_type": "markdown",
   "metadata": {},
   "source": [
    "# 113. 路径总和 II"
   ]
  },
  {
   "cell_type": "code",
   "execution_count": 2047,
   "metadata": {},
   "outputs": [],
   "source": [
    "# Definition for a binary tree node.\n",
    "class TreeNode:\n",
    "    def __init__(self, x):\n",
    "        self.val = x\n",
    "        self.left = None\n",
    "        self.right = None\n",
    "\n",
    "class Solution:\n",
    "    def pathSum(self, root: TreeNode, sum: int):\n",
    "        def foo(root: TreeNode, sum_: int, path: List[int]):\n",
    "            if not root: return\n",
    "            \n",
    "            path.append(root.val)\n",
    "            if root.val == sum_ and root.left == root.right == None:\n",
    "                ans.append(path)    \n",
    "                return\n",
    "            \n",
    "            sum_ -= root.val\n",
    "            foo(root.left, sum_, path.copy())\n",
    "            foo(root.right, sum_, path.copy())\n",
    "        \n",
    "        ans = []\n",
    "        foo(root, sum, [])\n",
    "        return ans"
   ]
  },
  {
   "cell_type": "markdown",
   "metadata": {},
   "source": [
    "# 114. 二叉树展开为链表"
   ]
  },
  {
   "cell_type": "code",
   "execution_count": 2153,
   "metadata": {},
   "outputs": [],
   "source": [
    "# Definition for a binary tree node.\n",
    "class TreeNode:\n",
    "    def __init__(self, x):\n",
    "        self.val = x\n",
    "        self.left = None\n",
    "        self.right = None\n",
    "\"\"\"\n",
    "自己写的未优化方法\n",
    "执行用时 :44 ms, 在所有 Python3 提交中击败了99.53%的用户\n",
    "内存消耗 :13.4 MB, 在所有 Python3 提交中击败了52.00%的用户\n",
    "\"\"\"        \n",
    "class Solution:\n",
    "    def flatten(self, root: TreeNode) -> None:\n",
    "        \"\"\"\n",
    "        Do not return anything, modify root in-place instead.\n",
    "        \"\"\"\n",
    "        if not root: return root\n",
    "        \n",
    "        layer = [root]\n",
    "        nodes = []\n",
    "        \n",
    "        # 层次遍历\n",
    "        while layer and len(layer)>0:\n",
    "            nodes.append(layer)\n",
    "            \n",
    "            next_layer = []\n",
    "            for node in layer:\n",
    "                if not layer: continue\n",
    "                \n",
    "                if node.left: next_layer.append(node.left)\n",
    "                if node.right: next_layer.append(node.right)\n",
    "            \n",
    "            \n",
    "            layer = next_layer\n",
    "        \n",
    "        # 依次转换子树\n",
    "        def foo(node):\n",
    "            if not node or not node.left: return\n",
    "            \n",
    "            tmp = node.left\n",
    "            while tmp.right:\n",
    "                tmp = tmp.right\n",
    "            \n",
    "            tmp.right = node.right\n",
    "            node.right = node.left\n",
    "            node.left = None\n",
    "        \n",
    "        nodes = nodes[:-1]\n",
    "        for layer in nodes[::-1]:\n",
    "            for node in layer:\n",
    "                foo(node)\n",
    "                \n",
    "\"\"\"\n",
    "自己优化后的迭代方法\n",
    "执行用时 :64 ms, 在所有 Python3 提交中击败了43.49%的用户\n",
    "内存消耗 :13.3 MB, 在所有 Python3 提交中击败了74.86%的用户\n",
    "\"\"\"\n",
    "                \n",
    "class Solution:\n",
    "    def flatten(self, root: TreeNode) -> None:\n",
    "        \"\"\"\n",
    "        Do not return anything, modify root in-place instead.\n",
    "        \"\"\"\n",
    "        node = root\n",
    "        \n",
    "        while node:\n",
    "            if node.left:\n",
    "                cur = node.left\n",
    "                while cur.right:\n",
    "                    cur = cur.right\n",
    "                cur.right = node.right\n",
    "                node.right = node.left\n",
    "                node.left = None\n",
    "                \n",
    "            node = node.right"
   ]
  },
  {
   "cell_type": "markdown",
   "metadata": {},
   "source": [
    "# 116. 填充每个节点的下一个右侧节点指针"
   ]
  },
  {
   "cell_type": "code",
   "execution_count": 2155,
   "metadata": {},
   "outputs": [],
   "source": [
    "\"\"\"\n",
    "# Definition for a Node.\n",
    "class Node:\n",
    "    def __init__(self, val, left, right, next):\n",
    "        self.val = val\n",
    "        self.left = left\n",
    "        self.right = right\n",
    "        self.next = next\n",
    "\"\"\"\n",
    "class Solution:\n",
    "    def connect(self, root: 'Node') -> 'Node':\n",
    "        pre = root\n",
    "        \n",
    "        while pre:\n",
    "            cur = pre\n",
    "            while cur and cur.left:\n",
    "                cur.left.next = cur.right\n",
    "                if cur.next: cur.right.next = cur.next.left\n",
    "                cur = cur.next\n",
    "            pre = pre.left\n",
    "            \n",
    "        return root      "
   ]
  },
  {
   "cell_type": "markdown",
   "metadata": {},
   "source": [
    "# 117. 填充每个节点的下一个右侧节点指针 II\n",
    "执行用时 :216 ms, 在所有 Python3 提交中击败了71.43%的用户  \n",
    "内存消耗 :22.2 MB, 在所有 Python3 提交中击败了98.21%的用户"
   ]
  },
  {
   "cell_type": "code",
   "execution_count": 2156,
   "metadata": {},
   "outputs": [],
   "source": [
    "# Definition for a Node.\n",
    "class Node:\n",
    "    def __init__(self, val, left, right, next):\n",
    "        self.val = val\n",
    "        self.left = left\n",
    "        self.right = right\n",
    "        self.next = next\n",
    "        \n",
    "\n",
    "class Solution:\n",
    "    # 找到非空结点\n",
    "    def findtarget(self, source, start='left'):\n",
    "        if start=='left':\n",
    "            if source.left:\n",
    "                return source.left\n",
    "        \n",
    "        if source.right:\n",
    "            return source.right\n",
    "        \n",
    "        source = source.next\n",
    "        \n",
    "        while source:\n",
    "            if source.left: return source.left\n",
    "            if source.right: return source.right\n",
    "            source = source.next\n",
    "        \n",
    "        return None\n",
    "            \n",
    "        \n",
    "    def connect(self, root: 'Node') -> 'Node':\n",
    "        pre = root\n",
    "        \n",
    "        while pre:\n",
    "            # 找到下一层第一个结点\n",
    "            next_pre = self.findtarget(pre,'left')\n",
    "            cur = pre\n",
    "            \n",
    "            while cur:\n",
    "                # 对左结点处理\n",
    "                if cur.left:\n",
    "                    # print(cur.left.val,'->',self.findtarget(cur,'right').val)\n",
    "                    cur.left.next = self.findtarget(cur,'right')\n",
    "                \n",
    "                # 对右结点处理\n",
    "                if cur.next and cur.right:\n",
    "                    # print(cur.right.val,'->',self.findtarget(cur.next).val)\n",
    "                    cur.right.next = self.findtarget(cur.next)\n",
    "                    \n",
    "                cur = cur.next\n",
    "            pre = next_pre\n",
    "            \n",
    "        return root    "
   ]
  },
  {
   "cell_type": "markdown",
   "metadata": {},
   "source": [
    "# 118. 杨辉三角"
   ]
  },
  {
   "cell_type": "code",
   "execution_count": 2158,
   "metadata": {},
   "outputs": [],
   "source": [
    "class Solution:\n",
    "    def generate(self, numRows: int):\n",
    "        if numRows == 0: return []\n",
    "        \n",
    "        ans = [[1]]\n",
    "        for layer in range(numRows-1):\n",
    "            l = []\n",
    "            for i in range(len(ans[layer])):\n",
    "                if i == 0:\n",
    "                    l.append(1)\n",
    "                else:\n",
    "                    l.append(ans[layer][i]+ans[layer][i-1])\n",
    "            \n",
    "            l.append(1)\n",
    "            ans.append(l)\n",
    "        return ans"
   ]
  },
  {
   "cell_type": "markdown",
   "metadata": {},
   "source": [
    "# 119. 杨辉三角 II"
   ]
  },
  {
   "cell_type": "code",
   "execution_count": 2159,
   "metadata": {},
   "outputs": [],
   "source": [
    "class Solution:\n",
    "    def getRow(self, rowIndex: int) -> [int]:\n",
    "        row = [1 for _ in range(rowIndex + 1)]\n",
    "        for i in range(2, rowIndex + 1):\n",
    "            for j in range(i - 1, 0, -1):\n",
    "                row[j] = row[j] + row[j - 1]\n",
    "        return row\n",
    "#         ans = [1]\n",
    "        \n",
    "#         for i in range(rowIndex):\n",
    "#             l = []\n",
    "#             for j in range(1, len(ans)):\n",
    "#                 l.append(ans[j]+ans[j-1])\n",
    "#             l = [1]+l+[1]\n",
    "#             ans = l\n",
    "#         return ans"
   ]
  },
  {
   "cell_type": "markdown",
   "metadata": {},
   "source": [
    "# 120. 三角形最小路径和"
   ]
  },
  {
   "cell_type": "code",
   "execution_count": 2163,
   "metadata": {},
   "outputs": [
    {
     "data": {
      "text/plain": [
       "11"
      ]
     },
     "execution_count": 2163,
     "metadata": {},
     "output_type": "execute_result"
    }
   ],
   "source": [
    "class Solution:\n",
    "    def minimumTotal(self, triangle) -> int:\n",
    "        for i in range(1, len(triangle)):\n",
    "            triangle[i][0]+=triangle[i-1][0]\n",
    "            for j in range(1, len(triangle[i])-1):\n",
    "                triangle[i][j] = triangle[i][j] + min(triangle[i-1][j-1], triangle[i-1][j])\n",
    "            \n",
    "            triangle[i][-1]+=triangle[i-1][-1]\n",
    "        \n",
    "        return min(triangle[-1])\n",
    "    \n",
    "Solution().minimumTotal([[2],[3,4],[6,5,7],[4,1,8,3]])"
   ]
  },
  {
   "cell_type": "markdown",
   "metadata": {},
   "source": [
    "# 121. 买卖股票的最佳时机\n",
    "执行用时 :44 ms, 在所有 Python3 提交中击败了99.51%的用户  \n",
    "内存消耗 :13.5 MB, 在所有 Python3 提交中击败了99.58%的用户"
   ]
  },
  {
   "cell_type": "code",
   "execution_count": 2169,
   "metadata": {},
   "outputs": [
    {
     "data": {
      "text/plain": [
       "5"
      ]
     },
     "execution_count": 2169,
     "metadata": {},
     "output_type": "execute_result"
    }
   ],
   "source": [
    "class Solution:\n",
    "    def maxProfit(self, prices: [int]) -> int:\n",
    "        if not prices: return 0\n",
    "        \n",
    "        max_ = 0\n",
    "        min_ = prices[0]\n",
    "        \n",
    "        for i in prices:\n",
    "            if i<min_: min_=i\n",
    "            elif i-min_ > max_:\n",
    "                max_ = i-min_\n",
    "                \n",
    "        return max_\n",
    "    \n",
    "Solution().maxProfit([7,1,5,3,6,4])"
   ]
  },
  {
   "cell_type": "markdown",
   "metadata": {},
   "source": [
    "# 122. 买卖股票的最佳时机 II"
   ]
  },
  {
   "cell_type": "code",
   "execution_count": 2170,
   "metadata": {},
   "outputs": [],
   "source": [
    "class Solution:\n",
    "    def maxProfit(self, prices: [int]) -> int:\n",
    "        maxprofit = 0\n",
    "        for i in range(1, len(prices)):\n",
    "            maxprofit += max(0, prices[i] - prices[i - 1])\n",
    "        return maxprofit"
   ]
  },
  {
   "cell_type": "markdown",
   "metadata": {},
   "source": [
    "# 125. 验证回文串"
   ]
  },
  {
   "cell_type": "code",
   "execution_count": 2171,
   "metadata": {},
   "outputs": [],
   "source": [
    "class Solution:\n",
    "    def isPalindrome(self, s: str) -> bool:\n",
    "        s = [c for c in s if 'A'<=c<='Z' or 'a'<=c<='z' or '0'<=c<='9']\n",
    "        s = [chr(ord(c)+32) if c<='Z' else c for c in s ]\n",
    "        return s == s[::-1]"
   ]
  },
  {
   "cell_type": "markdown",
   "metadata": {},
   "source": [
    "# 127. 单词接龙\n",
    "官方解题，广度优先算法"
   ]
  },
  {
   "cell_type": "code",
   "execution_count": 2172,
   "metadata": {},
   "outputs": [],
   "source": [
    "from collections import defaultdict\n",
    "class Solution:\n",
    "    def ladderLength(self, beginWord: str, endWord: str, wordList: [str]) -> int:\n",
    "        if endWord not in wordList or not endWord or not beginWord or not wordList:\n",
    "            return 0\n",
    "\n",
    "        # Since all words are of same length.\n",
    "        L = len(beginWord)\n",
    "\n",
    "        # Dictionary to hold combination of words that can be formed,\n",
    "        # from any given word. By changing one letter at a time.\n",
    "        all_combo_dict = defaultdict(list)\n",
    "        for word in wordList:\n",
    "            for i in range(L):\n",
    "                # Key is the generic word\n",
    "                # Value is a list of words which have the same intermediate generic word.\n",
    "                all_combo_dict[word[:i] + \"*\" + word[i+1:]].append(word)\n",
    "\n",
    "\n",
    "        # Queue for BFS\n",
    "        queue = [(beginWord, 1)]\n",
    "        # Visited to make sure we don't repeat processing same word.\n",
    "        visited = {beginWord: True}\n",
    "        while queue:\n",
    "            current_word, level = queue.pop(0)      \n",
    "            for i in range(L):\n",
    "                # Intermediate words for current word\n",
    "                intermediate_word = current_word[:i] + \"*\" + current_word[i+1:]\n",
    "\n",
    "                # Next states are all the words which share the same intermediate state.\n",
    "                for word in all_combo_dict[intermediate_word]:\n",
    "                    # If at any point if we find what we are looking for\n",
    "                    # i.e. the end word - we can return with the answer.\n",
    "                    if word == endWord:\n",
    "                        return level + 1\n",
    "                    # Otherwise, add it to the BFS Queue. Also mark it visited\n",
    "                    if word not in visited:\n",
    "                        visited[word] = True\n",
    "                        queue.append((word, level + 1))\n",
    "                all_combo_dict[intermediate_word] = []\n",
    "        return 0"
   ]
  },
  {
   "cell_type": "markdown",
   "metadata": {},
   "source": [
    "# 129. 求根到叶子节点数字之和\n",
    "\n",
    "执行用时 :40 ms, 在所有 Python3 提交中击败了97.30%的用户  \n",
    "内存消耗 :13.4 MB, 在所有 Python3 提交中击败了5.26%的用户"
   ]
  },
  {
   "cell_type": "code",
   "execution_count": 2174,
   "metadata": {},
   "outputs": [],
   "source": [
    "# Definition for a binary tree node.\n",
    "class TreeNode:\n",
    "    def __init__(self, x):\n",
    "        self.val = x\n",
    "        self.left = None\n",
    "        self.right = None\n",
    "\n",
    "class Solution:\n",
    "    def sumNumbers(self, root: TreeNode) -> int:\n",
    "        self.ans = 0\n",
    "        \n",
    "        def foo(node, s):\n",
    "            if not node: return\n",
    "            \n",
    "            s*=10\n",
    "            s+=node.val\n",
    "            if node.left: foo(node.left, s)\n",
    "            if node.right: foo(node.right, s)\n",
    "            \n",
    "            if not node.left and not node.right:\n",
    "                self.ans+=s\n",
    "\n",
    "        foo(root, 0)\n",
    "        return self.ans"
   ]
  },
  {
   "cell_type": "markdown",
   "metadata": {},
   "source": [
    "# 130. 被围绕的区域"
   ]
  },
  {
   "cell_type": "code",
   "execution_count": 2176,
   "metadata": {},
   "outputs": [],
   "source": [
    "class Solution:\n",
    "    def solve(self, board: [[str]]) -> None:\n",
    "        \"\"\"\n",
    "        Do not return anything, modify board in-place instead.\n",
    "        \"\"\"\n",
    "        if not board: return\n",
    "        \n",
    "        def dfs(board, i, j):\n",
    "            if i<0 or j<0 or i>=len(board) or j>=len(board[0])\\\n",
    "                or board[i][j]=='X' or board[i][j]=='#':\n",
    "                # board[i][j]=='#'已经搜索过了\n",
    "                return\n",
    "            \n",
    "            board[i][j]='#'\n",
    "            dfs(board, i-1, j)\n",
    "            dfs(board, i+1, j)\n",
    "            dfs(board, i, j-1)\n",
    "            dfs(board, i, j+1)\n",
    "        \n",
    "        \n",
    "        m = len(board)\n",
    "        n = len(board[0])\n",
    "        \n",
    "        for i in range(m):\n",
    "            for j in range(n):\n",
    "                # 从边缘的o开始搜索\n",
    "                edge = i == 0 or j == 0 \\\n",
    "                       or i == m-1\\\n",
    "                       or j == n-1\n",
    "                \n",
    "                if edge and board[i][j] == 'O':\n",
    "                    dfs(board, i, j)\n",
    "\n",
    "        for i in range(m):\n",
    "            for j in range(n):\n",
    "                if board[i][j] == 'O':\n",
    "                    board[i][j] = 'X'\n",
    "                    \n",
    "                if board[i][j] == '#':\n",
    "                    board[i][j] = 'O'"
   ]
  },
  {
   "cell_type": "markdown",
   "metadata": {},
   "source": [
    "# 37. 解数独\n",
    "[官方解题](https://leetcode-cn.com/problems/sudoku-solver/solution/jie-shu-du-by-leetcode/)"
   ]
  },
  {
   "cell_type": "code",
   "execution_count": 2177,
   "metadata": {},
   "outputs": [],
   "source": [
    "from collections import defaultdict\n",
    "class Solution:\n",
    "    def solveSudoku(self, board: [[str]]) -> None:\n",
    "        \"\"\"\n",
    "        Do not return anything, modify board in-place instead.\n",
    "        官方解题\n",
    "        \"\"\"\n",
    "        def could_place(d, row, col):\n",
    "            \"\"\"\n",
    "            Check if one could place a number d in (row, col) cell\n",
    "            \"\"\"\n",
    "            return not (d in rows[row] or d in columns[col] or \\\n",
    "                    d in boxes[box_index(row, col)])\n",
    "        \n",
    "        def place_number(d, row, col):\n",
    "            \"\"\"\n",
    "            Place a number d in (row, col) cell\n",
    "            \"\"\"\n",
    "            rows[row][d] += 1\n",
    "            columns[col][d] += 1\n",
    "            boxes[box_index(row, col)][d] += 1\n",
    "            board[row][col] = str(d)\n",
    "            \n",
    "        def remove_number(d, row, col):\n",
    "            \"\"\"\n",
    "            Remove a number which didn't lead \n",
    "            to a solution\n",
    "            \"\"\"\n",
    "            del rows[row][d]\n",
    "            del columns[col][d]\n",
    "            del boxes[box_index(row, col)][d]\n",
    "            board[row][col] = '.'    \n",
    "            \n",
    "        def place_next_numbers(row, col):\n",
    "            \"\"\"\n",
    "            Call backtrack function in recursion\n",
    "            to continue to place numbers\n",
    "            till the moment we have a solution\n",
    "            \"\"\"\n",
    "            # if we're in the last cell\n",
    "            # that means we have the solution\n",
    "            if col == N - 1 and row == N - 1:\n",
    "                nonlocal sudoku_solved\n",
    "                sudoku_solved = True\n",
    "            #if not yet    \n",
    "            else:\n",
    "                # if we're in the end of the row\n",
    "                # go to the next row\n",
    "                if col == N - 1:\n",
    "                    backtrack(row + 1, 0)\n",
    "                # go to the next column\n",
    "                else:\n",
    "                    backtrack(row, col + 1)\n",
    "                \n",
    "                \n",
    "        def backtrack(row = 0, col = 0):\n",
    "            \"\"\"\n",
    "            Backtracking\n",
    "            \"\"\"\n",
    "            # if the cell is empty\n",
    "            if board[row][col] == '.':\n",
    "                # iterate over all numbers from 1 to 9\n",
    "                for d in range(1, 10):\n",
    "                    if could_place(d, row, col):\n",
    "                        place_number(d, row, col)\n",
    "                        place_next_numbers(row, col)\n",
    "                        # if sudoku is solved, there is no need to backtrack\n",
    "                        # since the single unique solution is promised\n",
    "                        if not sudoku_solved:\n",
    "                            remove_number(d, row, col)\n",
    "            else:\n",
    "                place_next_numbers(row, col)\n",
    "                    \n",
    "        # box size\n",
    "        n = 3\n",
    "        # row size\n",
    "        N = n * n\n",
    "        # lambda function to compute box index\n",
    "        box_index = lambda row, col: (row // n ) * n + col // n\n",
    "        \n",
    "        # init rows, columns and boxes\n",
    "        rows = [defaultdict(int) for i in range(N)]\n",
    "        columns = [defaultdict(int) for i in range(N)]\n",
    "        boxes = [defaultdict(int) for i in range(N)]\n",
    "        for i in range(N):\n",
    "            for j in range(N):\n",
    "                if board[i][j] != '.': \n",
    "                    d = int(board[i][j])\n",
    "                    place_number(d, i, j)\n",
    "        \n",
    "        sudoku_solved = False\n",
    "        backtrack()"
   ]
  },
  {
   "cell_type": "markdown",
   "metadata": {},
   "source": [
    "# 小库科技\n",
    "有一个N行N列国际象棋棋盘, 棋盘左下角一格为(0,0)点, 棋盘右上角一格为(N-1, N-1)点, 现有一颗”马”棋子位于棋盘(R, C)点, 求出最终这个”马”棋子在K次之内或者恰好K次移动到棋盘之外的概率.\n",
    "\n",
    "马棋子移动规则: 马棋子移动一次,可分解为两步:\n",
    "\n",
    "1. 向上,向,左,右中其中一个方向移动两格\n",
    "\n",
    "2. 向1中方向的垂直方向移动一格"
   ]
  },
  {
   "cell_type": "code",
   "execution_count": 2178,
   "metadata": {},
   "outputs": [
    {
     "data": {
      "text/plain": [
       "0.8125"
      ]
     },
     "execution_count": 2178,
     "metadata": {},
     "output_type": "execute_result"
    }
   ],
   "source": [
    "def out(x,y):\n",
    "    return x<0 or x>=n or y<0 or y>=n\n",
    "\n",
    "def step(x,y):\n",
    "    return [(y+2,x-1),(y+2,x+1),\n",
    "            (y-2,x-1),(y-2,x+1),\n",
    "            (y-1,x-2),(y+1,x-2),\n",
    "            (y-1,x+2),(y+1,x+2),\n",
    "           ]\n",
    "\n",
    "def foo(x,y,k):\n",
    "    if out(x,y): return 1\n",
    "    if k==0: return 0\n",
    "    \n",
    "    points = step(x,y)\n",
    "    probs = []\n",
    "    for x,y in points:\n",
    "        probs.append(foo(x,y,k-1)/8)\n",
    "    \n",
    "    return sum(probs)\n",
    "\n",
    "n = 5\n",
    "k = 2\n",
    "init = (0,0)\n",
    "foo(*init,k) "
   ]
  }
 ],
 "metadata": {
  "kernelspec": {
   "display_name": "Python 3",
   "language": "python",
   "name": "python3"
  },
  "language_info": {
   "codemirror_mode": {
    "name": "ipython",
    "version": 3
   },
   "file_extension": ".py",
   "mimetype": "text/x-python",
   "name": "python",
   "nbconvert_exporter": "python",
   "pygments_lexer": "ipython3",
   "version": "3.5.2"
  }
 },
 "nbformat": 4,
 "nbformat_minor": 2
}
